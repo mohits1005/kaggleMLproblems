{
 "cells": [
  {
   "cell_type": "code",
   "execution_count": 1,
   "metadata": {
    "collapsed": true
   },
   "outputs": [],
   "source": [
    "import numpy as np # linear algebra\n",
    "import pandas as pd # data processing, CSV file I/O (e.g. pd.read_csv)\n",
    "import seaborn as sns # data visualization library  \n",
    "import matplotlib.pyplot as plt\n",
    "%matplotlib inline"
   ]
  },
  {
   "cell_type": "code",
   "execution_count": 2,
   "metadata": {
    "collapsed": true
   },
   "outputs": [],
   "source": [
    "train = pd.read_csv('analytics_vidhya/train.csv')\n",
    "test = pd.read_csv('analytics_vidhya/test.csv')"
   ]
  },
  {
   "cell_type": "code",
   "execution_count": 3,
   "metadata": {},
   "outputs": [
    {
     "name": "stdout",
     "output_type": "stream",
     "text": [
      "(26496, 8)\n",
      "(8568, 7)\n"
     ]
    }
   ],
   "source": [
    "print(train.shape)\n",
    "print(test.shape)"
   ]
  },
  {
   "cell_type": "code",
   "execution_count": 4,
   "metadata": {},
   "outputs": [
    {
     "data": {
      "text/html": [
       "<div>\n",
       "<style>\n",
       "    .dataframe thead tr:only-child th {\n",
       "        text-align: right;\n",
       "    }\n",
       "\n",
       "    .dataframe thead th {\n",
       "        text-align: left;\n",
       "    }\n",
       "\n",
       "    .dataframe tbody tr th {\n",
       "        vertical-align: top;\n",
       "    }\n",
       "</style>\n",
       "<table border=\"1\" class=\"dataframe\">\n",
       "  <thead>\n",
       "    <tr style=\"text-align: right;\">\n",
       "      <th></th>\n",
       "      <th>ID</th>\n",
       "      <th>temperature</th>\n",
       "      <th>var1</th>\n",
       "      <th>pressure</th>\n",
       "      <th>windspeed</th>\n",
       "      <th>electricity_consumption</th>\n",
       "    </tr>\n",
       "  </thead>\n",
       "  <tbody>\n",
       "    <tr>\n",
       "      <th>count</th>\n",
       "      <td>26496.000000</td>\n",
       "      <td>26496.000000</td>\n",
       "      <td>26496.000000</td>\n",
       "      <td>26496.000000</td>\n",
       "      <td>26496.000000</td>\n",
       "      <td>26496.000000</td>\n",
       "    </tr>\n",
       "    <tr>\n",
       "      <th>mean</th>\n",
       "      <td>17455.500000</td>\n",
       "      <td>5.098989</td>\n",
       "      <td>-1.916233</td>\n",
       "      <td>986.450615</td>\n",
       "      <td>23.959956</td>\n",
       "      <td>298.359601</td>\n",
       "    </tr>\n",
       "    <tr>\n",
       "      <th>std</th>\n",
       "      <td>10122.873673</td>\n",
       "      <td>8.682860</td>\n",
       "      <td>10.424860</td>\n",
       "      <td>12.002647</td>\n",
       "      <td>48.280321</td>\n",
       "      <td>108.020555</td>\n",
       "    </tr>\n",
       "    <tr>\n",
       "      <th>min</th>\n",
       "      <td>0.000000</td>\n",
       "      <td>-17.100000</td>\n",
       "      <td>-32.900000</td>\n",
       "      <td>953.000000</td>\n",
       "      <td>1.075000</td>\n",
       "      <td>174.000000</td>\n",
       "    </tr>\n",
       "    <tr>\n",
       "      <th>25%</th>\n",
       "      <td>8717.750000</td>\n",
       "      <td>-2.900000</td>\n",
       "      <td>-10.700000</td>\n",
       "      <td>978.000000</td>\n",
       "      <td>3.155000</td>\n",
       "      <td>219.000000</td>\n",
       "    </tr>\n",
       "    <tr>\n",
       "      <th>50%</th>\n",
       "      <td>17435.500000</td>\n",
       "      <td>6.400000</td>\n",
       "      <td>-1.400000</td>\n",
       "      <td>986.000000</td>\n",
       "      <td>6.545000</td>\n",
       "      <td>267.000000</td>\n",
       "    </tr>\n",
       "    <tr>\n",
       "      <th>75%</th>\n",
       "      <td>26177.250000</td>\n",
       "      <td>12.100000</td>\n",
       "      <td>7.900000</td>\n",
       "      <td>995.000000</td>\n",
       "      <td>22.260000</td>\n",
       "      <td>342.000000</td>\n",
       "    </tr>\n",
       "    <tr>\n",
       "      <th>max</th>\n",
       "      <td>34895.000000</td>\n",
       "      <td>23.600000</td>\n",
       "      <td>18.600000</td>\n",
       "      <td>1024.000000</td>\n",
       "      <td>586.600000</td>\n",
       "      <td>1386.000000</td>\n",
       "    </tr>\n",
       "  </tbody>\n",
       "</table>\n",
       "</div>"
      ],
      "text/plain": [
       "                 ID   temperature          var1      pressure     windspeed  \\\n",
       "count  26496.000000  26496.000000  26496.000000  26496.000000  26496.000000   \n",
       "mean   17455.500000      5.098989     -1.916233    986.450615     23.959956   \n",
       "std    10122.873673      8.682860     10.424860     12.002647     48.280321   \n",
       "min        0.000000    -17.100000    -32.900000    953.000000      1.075000   \n",
       "25%     8717.750000     -2.900000    -10.700000    978.000000      3.155000   \n",
       "50%    17435.500000      6.400000     -1.400000    986.000000      6.545000   \n",
       "75%    26177.250000     12.100000      7.900000    995.000000     22.260000   \n",
       "max    34895.000000     23.600000     18.600000   1024.000000    586.600000   \n",
       "\n",
       "       electricity_consumption  \n",
       "count             26496.000000  \n",
       "mean                298.359601  \n",
       "std                 108.020555  \n",
       "min                 174.000000  \n",
       "25%                 219.000000  \n",
       "50%                 267.000000  \n",
       "75%                 342.000000  \n",
       "max                1386.000000  "
      ]
     },
     "execution_count": 4,
     "metadata": {},
     "output_type": "execute_result"
    }
   ],
   "source": [
    "train.describe()"
   ]
  },
  {
   "cell_type": "code",
   "execution_count": 5,
   "metadata": {},
   "outputs": [
    {
     "data": {
      "text/plain": [
       "Index([u'ID', u'datetime', u'temperature', u'var1', u'pressure', u'windspeed',\n",
       "       u'var2', u'electricity_consumption'],\n",
       "      dtype='object')"
      ]
     },
     "execution_count": 5,
     "metadata": {},
     "output_type": "execute_result"
    }
   ],
   "source": [
    "train.columns"
   ]
  },
  {
   "cell_type": "code",
   "execution_count": 7,
   "metadata": {},
   "outputs": [
    {
     "data": {
      "text/plain": [
       "array(['A', 'B', 'C'], dtype=object)"
      ]
     },
     "execution_count": 7,
     "metadata": {},
     "output_type": "execute_result"
    }
   ],
   "source": [
    "train.var2.unique()"
   ]
  },
  {
   "cell_type": "code",
   "execution_count": 8,
   "metadata": {},
   "outputs": [
    {
     "data": {
      "text/plain": [
       "ID                         0\n",
       "datetime                   0\n",
       "temperature                0\n",
       "var1                       0\n",
       "pressure                   0\n",
       "windspeed                  0\n",
       "var2                       0\n",
       "electricity_consumption    0\n",
       "dtype: int64"
      ]
     },
     "execution_count": 8,
     "metadata": {},
     "output_type": "execute_result"
    }
   ],
   "source": [
    "train.isnull().sum()"
   ]
  },
  {
   "cell_type": "code",
   "execution_count": 11,
   "metadata": {},
   "outputs": [
    {
     "name": "stdout",
     "output_type": "stream",
     "text": [
      "Index([u'ID', u'datetime', u'temperature', u'var1', u'pressure', u'windspeed',\n",
      "       u'var2'],\n",
      "      dtype='object')\n"
     ]
    }
   ],
   "source": [
    "label = train.electricity_consumption\n",
    "train = train.drop(['electricity_consumption'],axis=1)\n",
    "print(train.columns)"
   ]
  },
  {
   "cell_type": "code",
   "execution_count": 12,
   "metadata": {},
   "outputs": [
    {
     "name": "stdout",
     "output_type": "stream",
     "text": [
      "Index([u'datetime', u'temperature', u'var1', u'pressure', u'windspeed',\n",
      "       u'var2'],\n",
      "      dtype='object')\n"
     ]
    }
   ],
   "source": [
    "train = train.drop(['ID'],axis=1)\n",
    "print(train.columns)"
   ]
  },
  {
   "cell_type": "code",
   "execution_count": 13,
   "metadata": {},
   "outputs": [
    {
     "name": "stdout",
     "output_type": "stream",
     "text": [
      "[1 2 3]\n"
     ]
    }
   ],
   "source": [
    "train.var2 = train.var2.replace([\"A\", \"B\", \"C\"],[1,2,3])\n",
    "train[\"var2\"] = train.var2 \n",
    "print(train.var2.unique())"
   ]
  },
  {
   "cell_type": "code",
   "execution_count": 18,
   "metadata": {},
   "outputs": [],
   "source": [
    "from datetime import datetime\n",
    "def month_from_date(date):\n",
    "  dmyyyy = datetime.strptime(date, '%Y-%m-%d %H:%M:%S')\n",
    "  return int(datetime.strftime(dmyyyy, '%m'))\n",
    "def hour_from_date(date):\n",
    "  dmyyyy = datetime.strptime(date, '%Y-%m-%d %H:%M:%S')\n",
    "  return int(datetime.strftime(dmyyyy, '%H'))\n",
    "month_of = train['datetime'].apply(month_from_date)\n",
    "hour_of = train['datetime'].apply(hour_from_date)\n",
    "# print(hour_of)\n",
    "train['month_of'] = month_of;\n",
    "train['hour_of'] = hour_of;"
   ]
  },
  {
   "cell_type": "code",
   "execution_count": 20,
   "metadata": {},
   "outputs": [
    {
     "name": "stdout",
     "output_type": "stream",
     "text": [
      "Index([u'datetime', u'temperature', u'var1', u'pressure', u'windspeed',\n",
      "       u'var2', u'month_of', u'hour_of'],\n",
      "      dtype='object')\n"
     ]
    }
   ],
   "source": [
    "print(train.columns)"
   ]
  },
  {
   "cell_type": "code",
   "execution_count": 21,
   "metadata": {},
   "outputs": [
    {
     "name": "stdout",
     "output_type": "stream",
     "text": [
      "Index([u'temperature', u'var1', u'pressure', u'windspeed', u'var2',\n",
      "       u'month_of', u'hour_of'],\n",
      "      dtype='object')\n"
     ]
    }
   ],
   "source": [
    "train = train.drop(['datetime'],axis=1)\n",
    "print(train.columns)"
   ]
  },
  {
   "cell_type": "code",
   "execution_count": 37,
   "metadata": {},
   "outputs": [
    {
     "data": {
      "text/plain": [
       "AdaBoostRegressor(base_estimator=DecisionTreeRegressor(criterion='mse', max_depth=None, max_features=None,\n",
       "           max_leaf_nodes=None, min_impurity_split=1e-07,\n",
       "           min_samples_leaf=1, min_samples_split=2,\n",
       "           min_weight_fraction_leaf=0.0, presort=False, random_state=None,\n",
       "           splitter='best'),\n",
       "         learning_rate=1, loss='linear', n_estimators=100,\n",
       "         random_state=None)"
      ]
     },
     "execution_count": 37,
     "metadata": {},
     "output_type": "execute_result"
    }
   ],
   "source": [
    "from sklearn.ensemble import AdaBoostClassifier #For Classification\n",
    "from sklearn.ensemble import AdaBoostRegressor #For Regression\n",
    "from sklearn.tree import DecisionTreeRegressor\n",
    "dt = DecisionTreeRegressor() \n",
    "clf = AdaBoostRegressor(n_estimators=100, base_estimator=dt,learning_rate=1)\n",
    "#Above I have used decision tree as a base estimator, you can use any ML learner as base estimator if it ac# cepts sample weight \n",
    "clf.fit(train,label)"
   ]
  },
  {
   "cell_type": "code",
   "execution_count": 38,
   "metadata": {},
   "outputs": [
    {
     "data": {
      "text/html": [
       "<div>\n",
       "<style>\n",
       "    .dataframe thead tr:only-child th {\n",
       "        text-align: right;\n",
       "    }\n",
       "\n",
       "    .dataframe thead th {\n",
       "        text-align: left;\n",
       "    }\n",
       "\n",
       "    .dataframe tbody tr th {\n",
       "        vertical-align: top;\n",
       "    }\n",
       "</style>\n",
       "<table border=\"1\" class=\"dataframe\">\n",
       "  <thead>\n",
       "    <tr style=\"text-align: right;\">\n",
       "      <th></th>\n",
       "      <th>ID</th>\n",
       "      <th>temperature</th>\n",
       "      <th>var1</th>\n",
       "      <th>pressure</th>\n",
       "      <th>windspeed</th>\n",
       "    </tr>\n",
       "  </thead>\n",
       "  <tbody>\n",
       "    <tr>\n",
       "      <th>count</th>\n",
       "      <td>8568.000000</td>\n",
       "      <td>8568.000000</td>\n",
       "      <td>8568.000000</td>\n",
       "      <td>8568.000000</td>\n",
       "      <td>8568.000000</td>\n",
       "    </tr>\n",
       "    <tr>\n",
       "      <th>mean</th>\n",
       "      <td>17766.525210</td>\n",
       "      <td>5.112757</td>\n",
       "      <td>-1.726401</td>\n",
       "      <td>986.329599</td>\n",
       "      <td>24.176398</td>\n",
       "    </tr>\n",
       "    <tr>\n",
       "      <th>std</th>\n",
       "      <td>10117.296415</td>\n",
       "      <td>8.606167</td>\n",
       "      <td>10.345034</td>\n",
       "      <td>12.148517</td>\n",
       "      <td>49.651535</td>\n",
       "    </tr>\n",
       "    <tr>\n",
       "      <th>min</th>\n",
       "      <td>552.000000</td>\n",
       "      <td>-17.900000</td>\n",
       "      <td>-26.400000</td>\n",
       "      <td>954.000000</td>\n",
       "      <td>1.075000</td>\n",
       "    </tr>\n",
       "    <tr>\n",
       "      <th>25%</th>\n",
       "      <td>9317.750000</td>\n",
       "      <td>-2.100000</td>\n",
       "      <td>-10.000000</td>\n",
       "      <td>977.000000</td>\n",
       "      <td>3.155000</td>\n",
       "    </tr>\n",
       "    <tr>\n",
       "      <th>50%</th>\n",
       "      <td>18083.500000</td>\n",
       "      <td>5.700000</td>\n",
       "      <td>-2.100000</td>\n",
       "      <td>987.000000</td>\n",
       "      <td>6.295000</td>\n",
       "    </tr>\n",
       "    <tr>\n",
       "      <th>75%</th>\n",
       "      <td>26297.250000</td>\n",
       "      <td>12.100000</td>\n",
       "      <td>7.900000</td>\n",
       "      <td>995.000000</td>\n",
       "      <td>21.907500</td>\n",
       "    </tr>\n",
       "    <tr>\n",
       "      <th>max</th>\n",
       "      <td>35063.000000</td>\n",
       "      <td>25.700000</td>\n",
       "      <td>17.900000</td>\n",
       "      <td>1023.000000</td>\n",
       "      <td>491.255000</td>\n",
       "    </tr>\n",
       "  </tbody>\n",
       "</table>\n",
       "</div>"
      ],
      "text/plain": [
       "                 ID  temperature         var1     pressure    windspeed\n",
       "count   8568.000000  8568.000000  8568.000000  8568.000000  8568.000000\n",
       "mean   17766.525210     5.112757    -1.726401   986.329599    24.176398\n",
       "std    10117.296415     8.606167    10.345034    12.148517    49.651535\n",
       "min      552.000000   -17.900000   -26.400000   954.000000     1.075000\n",
       "25%     9317.750000    -2.100000   -10.000000   977.000000     3.155000\n",
       "50%    18083.500000     5.700000    -2.100000   987.000000     6.295000\n",
       "75%    26297.250000    12.100000     7.900000   995.000000    21.907500\n",
       "max    35063.000000    25.700000    17.900000  1023.000000   491.255000"
      ]
     },
     "execution_count": 38,
     "metadata": {},
     "output_type": "execute_result"
    }
   ],
   "source": [
    "test.describe()"
   ]
  },
  {
   "cell_type": "code",
   "execution_count": 39,
   "metadata": {},
   "outputs": [
    {
     "name": "stdout",
     "output_type": "stream",
     "text": [
      "Index([u'datetime', u'temperature', u'var1', u'pressure', u'windspeed',\n",
      "       u'var2'],\n",
      "      dtype='object')\n"
     ]
    }
   ],
   "source": [
    "new_test = test.drop(['ID'],axis=1)\n",
    "print(new_test.columns)"
   ]
  },
  {
   "cell_type": "code",
   "execution_count": 40,
   "metadata": {},
   "outputs": [
    {
     "name": "stdout",
     "output_type": "stream",
     "text": [
      "[1 2 3]\n"
     ]
    }
   ],
   "source": [
    "new_test.var2 = new_test.var2.replace([\"A\", \"B\", \"C\"],[1,2,3])\n",
    "new_test[\"var2\"] = new_test.var2 \n",
    "print(new_test.var2.unique())"
   ]
  },
  {
   "cell_type": "code",
   "execution_count": 41,
   "metadata": {},
   "outputs": [
    {
     "name": "stdout",
     "output_type": "stream",
     "text": [
      "Index([u'datetime', u'temperature', u'var1', u'pressure', u'windspeed',\n",
      "       u'var2', u'month_of', u'hour_of'],\n",
      "      dtype='object')\n"
     ]
    }
   ],
   "source": [
    "from datetime import datetime\n",
    "def month_from_date(date):\n",
    "  dmyyyy = datetime.strptime(date, '%Y-%m-%d %H:%M:%S')\n",
    "  return int(datetime.strftime(dmyyyy, '%m'))\n",
    "def hour_from_date(date):\n",
    "  dmyyyy = datetime.strptime(date, '%Y-%m-%d %H:%M:%S')\n",
    "  return int(datetime.strftime(dmyyyy, '%H'))\n",
    "month_of = new_test['datetime'].apply(month_from_date)\n",
    "hour_of = new_test['datetime'].apply(hour_from_date)\n",
    "# print(hour_of)\n",
    "new_test['month_of'] = month_of;\n",
    "new_test['hour_of'] = hour_of;\n",
    "print(new_test.columns)"
   ]
  },
  {
   "cell_type": "code",
   "execution_count": 42,
   "metadata": {},
   "outputs": [
    {
     "name": "stdout",
     "output_type": "stream",
     "text": [
      "Index([u'temperature', u'var1', u'pressure', u'windspeed', u'var2',\n",
      "       u'month_of', u'hour_of'],\n",
      "      dtype='object')\n"
     ]
    }
   ],
   "source": [
    "new_test = new_test.drop(['datetime'],axis=1)\n",
    "print(new_test.columns)"
   ]
  },
  {
   "cell_type": "code",
   "execution_count": 43,
   "metadata": {},
   "outputs": [
    {
     "name": "stdout",
     "output_type": "stream",
     "text": [
      "ok\n"
     ]
    }
   ],
   "source": [
    "test_label = clf.predict(new_test)\n",
    "print('ok')"
   ]
  },
  {
   "cell_type": "code",
   "execution_count": 44,
   "metadata": {},
   "outputs": [
    {
     "name": "stdout",
     "output_type": "stream",
     "text": [
      "[ 204.  210.  207. ...,  201.  201.  198.]\n"
     ]
    }
   ],
   "source": [
    "print(test_label)\n",
    "new_test['electricity_consumption'] = test_label\n",
    "new_test['ID'] = test['ID']"
   ]
  },
  {
   "cell_type": "code",
   "execution_count": 45,
   "metadata": {},
   "outputs": [],
   "source": [
    "new_pd_frame = new_test[['ID','electricity_consumption']]"
   ]
  },
  {
   "cell_type": "code",
   "execution_count": 46,
   "metadata": {
    "collapsed": true
   },
   "outputs": [],
   "source": [
    "new_pd_frame.to_csv('sample_submission_av_2.csv', index=False)"
   ]
  }
 ],
 "metadata": {
  "kernelspec": {
   "display_name": "Python 2",
   "language": "python",
   "name": "python2"
  },
  "language_info": {
   "codemirror_mode": {
    "name": "ipython",
    "version": 2
   },
   "file_extension": ".py",
   "mimetype": "text/x-python",
   "name": "python",
   "nbconvert_exporter": "python",
   "pygments_lexer": "ipython2",
   "version": "2.7.13"
  }
 },
 "nbformat": 4,
 "nbformat_minor": 2
}
