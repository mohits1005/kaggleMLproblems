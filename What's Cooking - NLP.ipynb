{
 "cells": [
  {
   "cell_type": "code",
   "execution_count": 1,
   "metadata": {
    "collapsed": true
   },
   "outputs": [],
   "source": [
    "# Import the pandas package, then use the \"read_csv\" function to read\n",
    "# the labeled training data\n",
    "import pandas as pd       \n",
    "train = pd.read_json(\"cooking/train.json\")"
   ]
  },
  {
   "cell_type": "code",
   "execution_count": 2,
   "metadata": {},
   "outputs": [
    {
     "name": "stdout",
     "output_type": "stream",
     "text": [
      "(39774, 3)\n",
      "[u'cuisine' u'id' u'ingredients']\n"
     ]
    },
    {
     "data": {
      "text/html": [
       "<div>\n",
       "<style>\n",
       "    .dataframe thead tr:only-child th {\n",
       "        text-align: right;\n",
       "    }\n",
       "\n",
       "    .dataframe thead th {\n",
       "        text-align: left;\n",
       "    }\n",
       "\n",
       "    .dataframe tbody tr th {\n",
       "        vertical-align: top;\n",
       "    }\n",
       "</style>\n",
       "<table border=\"1\" class=\"dataframe\">\n",
       "  <thead>\n",
       "    <tr style=\"text-align: right;\">\n",
       "      <th></th>\n",
       "      <th>id</th>\n",
       "    </tr>\n",
       "  </thead>\n",
       "  <tbody>\n",
       "    <tr>\n",
       "      <th>count</th>\n",
       "      <td>39774.000000</td>\n",
       "    </tr>\n",
       "    <tr>\n",
       "      <th>mean</th>\n",
       "      <td>24849.536959</td>\n",
       "    </tr>\n",
       "    <tr>\n",
       "      <th>std</th>\n",
       "      <td>14360.035505</td>\n",
       "    </tr>\n",
       "    <tr>\n",
       "      <th>min</th>\n",
       "      <td>0.000000</td>\n",
       "    </tr>\n",
       "    <tr>\n",
       "      <th>25%</th>\n",
       "      <td>12398.250000</td>\n",
       "    </tr>\n",
       "    <tr>\n",
       "      <th>50%</th>\n",
       "      <td>24887.000000</td>\n",
       "    </tr>\n",
       "    <tr>\n",
       "      <th>75%</th>\n",
       "      <td>37328.500000</td>\n",
       "    </tr>\n",
       "    <tr>\n",
       "      <th>max</th>\n",
       "      <td>49717.000000</td>\n",
       "    </tr>\n",
       "  </tbody>\n",
       "</table>\n",
       "</div>"
      ],
      "text/plain": [
       "                 id\n",
       "count  39774.000000\n",
       "mean   24849.536959\n",
       "std    14360.035505\n",
       "min        0.000000\n",
       "25%    12398.250000\n",
       "50%    24887.000000\n",
       "75%    37328.500000\n",
       "max    49717.000000"
      ]
     },
     "execution_count": 2,
     "metadata": {},
     "output_type": "execute_result"
    }
   ],
   "source": [
    "print(train.shape)\n",
    "print(train.columns.values)\n",
    "train.describe()"
   ]
  },
  {
   "cell_type": "code",
   "execution_count": 4,
   "metadata": {},
   "outputs": [
    {
     "data": {
      "text/plain": [
       "cuisine        0\n",
       "id             0\n",
       "ingredients    0\n",
       "dtype: int64"
      ]
     },
     "execution_count": 4,
     "metadata": {},
     "output_type": "execute_result"
    }
   ],
   "source": [
    "train.isnull().sum()"
   ]
  },
  {
   "cell_type": "code",
   "execution_count": 5,
   "metadata": {},
   "outputs": [
    {
     "data": {
      "text/plain": [
       "cuisine                                                    greek\n",
       "id                                                         10259\n",
       "ingredients    [romaine lettuce, black olives, grape tomatoes...\n",
       "Name: 0, dtype: object"
      ]
     },
     "execution_count": 5,
     "metadata": {},
     "output_type": "execute_result"
    }
   ],
   "source": [
    "train.iloc[0,:]"
   ]
  },
  {
   "cell_type": "code",
   "execution_count": 6,
   "metadata": {},
   "outputs": [
    {
     "data": {
      "text/plain": [
       "array([u'greek', u'southern_us', u'filipino', u'indian', u'jamaican',\n",
       "       u'spanish', u'italian', u'mexican', u'chinese', u'british', u'thai',\n",
       "       u'vietnamese', u'cajun_creole', u'brazilian', u'french',\n",
       "       u'japanese', u'irish', u'korean', u'moroccan', u'russian'], dtype=object)"
      ]
     },
     "execution_count": 6,
     "metadata": {},
     "output_type": "execute_result"
    }
   ],
   "source": [
    "train.cuisine.unique()"
   ]
  },
  {
   "cell_type": "code",
   "execution_count": 25,
   "metadata": {
    "collapsed": true
   },
   "outputs": [],
   "source": [
    "from bs4 import BeautifulSoup\n",
    "import re\n",
    "import nltk\n",
    "from nltk.corpus import stopwords\n",
    "def ingredients_to_words( ingredients_list ):\n",
    "    ingredients_text = \" \".join(ingredients_list)\n",
    "    # Function to convert a raw review to a string of words\n",
    "    # The input is a single string (a raw movie review), and \n",
    "    # the output is a single string (a preprocessed movie review)\n",
    "    #\n",
    "    # 1. Remove HTML\n",
    "    ingredients_text = BeautifulSoup(ingredients_text).get_text() \n",
    "    #\n",
    "    # 2. Remove non-letters        \n",
    "    letters_only = re.sub(\"[^a-zA-Z]\", \" \", ingredients_text) \n",
    "    #\n",
    "    # 3. Convert to lower case, split into individual words\n",
    "    words = letters_only.lower().split()                             \n",
    "    #\n",
    "    # 4. In Python, searching a set is much faster than searching\n",
    "    #   a list, so convert the stop words to a set\n",
    "    stops = set(stopwords.words(\"english\"))                  \n",
    "    # \n",
    "    # 5. Remove stop words\n",
    "    meaningful_words = [w for w in words if not w in stops]   \n",
    "    #\n",
    "    # 6. Join the words back into one string separated by space, \n",
    "    # and return the result.\n",
    "    return( \" \".join( meaningful_words ))"
   ]
  },
  {
   "cell_type": "code",
   "execution_count": 27,
   "metadata": {},
   "outputs": [
    {
     "name": "stdout",
     "output_type": "stream",
     "text": [
      "romaine lettuce black olives grape tomatoes garlic pepper purple onion seasoning garbanzo beans feta cheese crumbles\n"
     ]
    }
   ],
   "source": [
    "clean_ingredients = ingredients_to_words( train[\"ingredients\"][0] )\n",
    "print clean_ingredients"
   ]
  },
  {
   "cell_type": "code",
   "execution_count": 28,
   "metadata": {},
   "outputs": [
    {
     "name": "stdout",
     "output_type": "stream",
     "text": [
      "39774\n",
      "Review 1000 of 39774\n",
      "\n",
      "Review 2000 of 39774\n",
      "\n",
      "Review 3000 of 39774\n",
      "\n",
      "Review 4000 of 39774\n",
      "\n",
      "Review 5000 of 39774\n",
      "\n",
      "Review 6000 of 39774\n",
      "\n",
      "Review 7000 of 39774\n",
      "\n",
      "Review 8000 of 39774\n",
      "\n",
      "Review 9000 of 39774\n",
      "\n",
      "Review 10000 of 39774\n",
      "\n",
      "Review 11000 of 39774\n",
      "\n",
      "Review 12000 of 39774\n",
      "\n",
      "Review 13000 of 39774\n",
      "\n",
      "Review 14000 of 39774\n",
      "\n",
      "Review 15000 of 39774\n",
      "\n",
      "Review 16000 of 39774\n",
      "\n",
      "Review 17000 of 39774\n",
      "\n",
      "Review 18000 of 39774\n",
      "\n",
      "Review 19000 of 39774\n",
      "\n",
      "Review 20000 of 39774\n",
      "\n",
      "Review 21000 of 39774\n",
      "\n",
      "Review 22000 of 39774\n",
      "\n",
      "Review 23000 of 39774\n",
      "\n",
      "Review 24000 of 39774\n",
      "\n",
      "Review 25000 of 39774\n",
      "\n",
      "Review 26000 of 39774\n",
      "\n",
      "Review 27000 of 39774\n",
      "\n",
      "Review 28000 of 39774\n",
      "\n",
      "Review 29000 of 39774\n",
      "\n",
      "Review 30000 of 39774\n",
      "\n",
      "Review 31000 of 39774\n",
      "\n",
      "Review 32000 of 39774\n",
      "\n",
      "Review 33000 of 39774\n",
      "\n",
      "Review 34000 of 39774\n",
      "\n",
      "Review 35000 of 39774\n",
      "\n",
      "Review 36000 of 39774\n",
      "\n",
      "Review 37000 of 39774\n",
      "\n",
      "Review 38000 of 39774\n",
      "\n",
      "Review 39000 of 39774\n",
      "\n"
     ]
    }
   ],
   "source": [
    "num_ingredients = train[\"ingredients\"].size\n",
    "print(num_ingredients)\n",
    "clean_ingredients = []\n",
    "for i in xrange( 0, num_ingredients ):\n",
    "    # Call our function for each one, and add the result to the list of\n",
    "    # clean reviews\n",
    "     # If the index is evenly divisible by 1000, print a message\n",
    "    if( (i+1)%1000 == 0 ):\n",
    "        print \"Review %d of %d\\n\" % ( i+1, num_ingredients ) \n",
    "    clean_ingredients.append( ingredients_to_words( train[\"ingredients\"][i] ) )"
   ]
  },
  {
   "cell_type": "code",
   "execution_count": 29,
   "metadata": {
    "collapsed": true
   },
   "outputs": [],
   "source": [
    "from sklearn.feature_extraction.text import CountVectorizer\n",
    "vectorizer = CountVectorizer(analyzer = \"word\",   \\\n",
    "                             tokenizer = None,    \\\n",
    "                             preprocessor = None, \\\n",
    "                             stop_words = None,   \\\n",
    "                             max_features = 5000) \n",
    "train_data_features = vectorizer.fit_transform(clean_ingredients)\n",
    "train_data_features = train_data_features.toarray()"
   ]
  },
  {
   "cell_type": "code",
   "execution_count": 30,
   "metadata": {},
   "outputs": [
    {
     "name": "stdout",
     "output_type": "stream",
     "text": [
      "(39774, 2978)\n"
     ]
    }
   ],
   "source": [
    "print(train_data_features.shape)"
   ]
  },
  {
   "cell_type": "code",
   "execution_count": 31,
   "metadata": {},
   "outputs": [
    {
     "name": "stdout",
     "output_type": "stream",
     "text": [
      "[u'abalone', u'abbamele', u'absinthe', u'abura', u'acai', u'accent', u'accompaniment', u'achiote', u'acid', u'acini', u'ackee', u'acorn', u'acting', u'activ', u'active', u'added', u'adobo', u'adzuki', u'agar', u'agave', u'age', u'aged', u'ahi', u'ai', u'aioli', u'ajinomoto', u'ajwain', u'aka', u'alaskan', u'albacore', u'alcohol', u'ale', u'aleppo', u'alexia', u'alfalfa', u'alfredo', u'allspice', u'almond', u'almondmilk', u'almonds', u'aloe', u'alphabet', u'alum', u'amaranth', u'amarena', u'amaretti', u'amaretto', u'amba', u'amber', u'amberjack', u'amchur', u'america', u'american', u'aminos', u'ammonium', u'amontillado', u'ampalaya', u'anaheim', u'anasazi', u'ancho', u'anchovies', u'anchovy', u'andouille', u'anejo', u'angel', u'anglaise', u'angled', u'angostura', u'angus', u'anise', u'anisette', u'anjou', u'annatto', u'ao', u'aonori', u'apple', u'apples', u'applesauce', u'applewood', u'apricot', u'apricots', u'aquavit', u'arak', u'arame', u'arbol', u'arborio', u'arctic', u'arepa', u'argo', u'arhar', u'armagnac', u'arrabbiata', u'arrow', u'arrowroot', u'artichok', u'artichoke', u'artichokes', u'artificial', u'artisan', u'arugula', u'asada', u'asadero', u'asafetida', u'asafoetida', u'asakusa', u'ascorbic', u'asiago', u'asian', u'asparagus', u'aspic', u'assam', u'assorted', u'asti', u'atar', u'atlantic', u'atta', u'au', u'avocado', u'avocados', u'awase', u'azteca', u'azuki', u'baby', u'bacardi', u'back', u'bacon', u'bag', u'bagel', u'bagels', u'bags', u'baguette', u'bai', u'baileys', u'baked', u'baking', u'balance', u'balls', u'balm', u'balsamic', u'balsamico', u'bamboo', u'banana', u'bananas', u'banger', u'banh', u'baobab', u'bar', u'barbecue', u'barbecued', u'barberries', u'barilla', u'bark', u'barley', u'barolo', u'barramundi', u'bars', u'bartlett', u'basa', u'base', u'based', u'basil', u'basmati', u'bass', u'baton', u'batter', u'bawang', u'bay', u'bayonne', u'bbq', u'bean', u'beans', u'beansprouts', u'bear', u'beaten', u'beaters', u'beau', u'beaujolais', u'bechamel', u'bee', u'beech', u'beef', u'beefsteak', u'beer', u'beet', u'beetroot', u'beets', u'belacan', u'belgian', u'believ', u'believe', u'bell', u'bellpepper', u'bells', u'belly', u'beluga', u'ben', u'bengal', u'bengali', u'beni', u'benne', u'bens', u'bermuda', u'berries', u'bertolli', u'besan', u'best', u'better', u'betty', u'beurre', u'beverage', u'beverages', u'bhaji', u'bhindi', u'bianco', u'bibb', u'bicarbonate', u'big', u'biga', u'bigoli', u'bihon', u'bing', u'bird', u'biryani', u'biscotti', u'biscuit', u'biscuits', u'bison', u'bisquick', u'bits', u'bitter', u'bitters', u'bittersweet', u'blacan', u'black', u'blackberries', u'blackberry', u'blackcurrant', u'blackened', u'blackening', u'blackpepper', u'blackstrap', u'blade', u'blanc', u'blanched', u'blanco', u'blend', u'blends', u'bliss', u'block', u'blood', u'bloody', u'blossom', u'blossoms', u'blue', u'blueberri', u'blueberries', u'blueberry', u'boar', u'bob', u'bocconcini', u'bock', u'boil', u'boiled', u'boiling', u'bok', u'bolillo', u'bologna', u'bone', u'boned', u'boneless', u'bones', u'bonito', u'bonnet', u'boquerones', u'borage', u'bordelaise', u'borlotti', u'bosc', u'boston', u'bottle', u'bottled', u'bottom', u'bottoms', u'boudin', u'bought', u'bouillon', u'bouquet', u'bourbon', u'boursin', u'bow', u'bows', u'boy', u'boysenberries', u'braeburn', u'bragg', u'braggs', u'braising', u'bran', u'branca', u'brand', u'brandy', u'branston', u'branzino', u'brats', u'bratwurst', u'brazil', u'bread', u'breadcrumb', u'breadcrumbs', u'breader', u'breadfruit', u'breadstick', u'breakfast', u'breakstone', u'bream', u'breast', u'breasts', u'bresaola', u'brew', u'brewed', u'breyers', u'brie', u'brien', u'brill', u'brine', u'brioche', u'bris', u'brisket', u'brittle', u'broad', u'broccoli', u'broccolini', u'broil', u'broiler', u'broth', u'brown', u'brownie', u'brownies', u'browning', u'browns', u'brussels', u'bucatini', u'buckwheat', u'buds', u'budweiser', u'buffalo', u'bulb', u'bulgur', u'bulk', u'bun', u'buns', u'burdock', u'burger', u'burgers', u'burgundi', u'burgundy', u'burrata', u'burrito', u'burro', u'bushi', u'butt', u'butter', u'buttercream', u'buttercup', u'butterflied', u'buttermilk', u'butternut', u'butterscotch', u'buttery', u'button', u'cabbage', u'cabernet', u'cabrales', u'cacao', u'cachaca', u'caciocavallo', u'cactus', u'caesar', u'cai', u'cajeta', u'cajun', u'cake', u'cakes', u'calabash', u'calabaza', u'calabrese', u'calamansi', u'calamari', u'calamata', u'calcium', u'calf', u'california', u'calimyrna', u'callaloo', u'calorie', u'calvados', u'camellia', u'camembert', u'campanelle', u'campari', u'campbell', u'canadian', u'candied', u'candlenuts', u'candy', u'cane', u'canela', u'canes', u'canned', u'cannellini', u'cannelloni', u'canning', u'cannoli', u'canola', u'cantal', u'cantaloupe', u'canton', u'capellini', u'caper', u'capers', u'capicola', u'capocollo', u'capon', u'caponata', u'cappuccino', u'caps', u'capsicum', u'cara', u'carambola', u'caramel', u'caramels', u'caraway', u'carbonated', u'carcass', u'cardamom', u'cardamon', u'cardoons', u'caribbean', u'carnaroli', u'carnation', u'carne', u'carnitas', u'carp', u'carpaccio', u'carrot', u'carrots', u'casa', u'cascabel', u'casera', u'cashew', u'cashews', u'casing', u'casings', u'cassava', u'cassia', u'cassis', u'castellane', u'castelvetrano', u'caster', u'catalina', u'catfish', u'catsup', u'caul', u'cauliflower', u'cauliflowerets', u'cava', u'cavatappi', u'cavatelli', u'cavenders', u'caviar', u'cavolo', u'cayenne', u'ceci', u'celery', u'celtic', u'center', u'century', u'cereal', u'ceylon', u'ch', u'chaat', u'chachere', u'chai', u'challa', u'challenge', u'cham', u'chambord', u'champagne', u'chana', u'chang', u'channa', u'chanterelle', u'chapati', u'chapatti', u'char', u'chard', u'chardonnay', u'chartreuse', u'chat', u'chateaubriand', u'chayotes', u'che', u'cheddar', u'chee', u'cheek', u'cheeks', u'chees', u'cheese', u'cheesi', u'chenpi', u'cheong', u'cherries', u'cherry', u'cherrystone', u'chervil', u'chestnut', u'chestnuts', u'chevre', u'chia', u'chianti', u'chicharron', u'chicken', u'chickens', u'chickpea', u'chickpeas', u'chicory', u'chiffonade', u'chihuahua', u'chik', u'chilcostle', u'chile', u'chilean', u'chilegarlic', u'chiles', u'chili', u'chilies', u'chilled', u'chilli', u'chillies', u'chiltep', u'chimichurri', u'chinese', u'chinkiang', u'chioggia', u'chip', u'chipotl', u'chipotle', u'chipotles', u'chipped', u'chips', u'chitterlings', u'chive', u'chives', u'cho', u'chocolate', u'chocolatecovered', u'choi', u'cholesterol', u'cholula', u'chong', u'chop', u'chopmeat', u'chopped', u'chops', u'chorizo', u'chourico', u'chow', u'chowchow', u'choy', u'chrysanthemum', u'chua', u'chuck', u'chuka', u'chunk', u'chunks', u'chunky', u'chuno', u'chutney', u'ciabatta', u'cider', u'cilantro', u'cinnamon', u'cipollini', u'citric', u'citron', u'citrus', u'clam', u'clamato', u'clams', u'clarified', u'classic', u'classico', u'claws', u'clear', u'clementine', u'clementines', u'clotted', u'cloud', u'clove', u'clover', u'cloves', u'club', u'coars', u'coarse', u'cob', u'coca', u'cockles', u'cocktail', u'coco', u'cocoa', u'coconut', u'cod', u'codfish', u'coffee', u'cognac', u'cointreau', u'coke', u'cola', u'colada', u'colby', u'cold', u'cole', u'coleslaw', u'collard', u'collards', u'collect', u'colman', u'color', u'colorado', u'coloring', u'colouring', u'comfort', u'comice', u'comino', u'compote', u'compressed', u'con', u'concentrate', u'conch', u'conchiglie', u'condensed', u'condiments', u'cones', u'confectioners', u'confit', u'conger', u'conimex', u'consomme', u'convert', u'converted', u'cook', u'cooked', u'cooki', u'cookie', u'cookies', u'cooking', u'cool', u'cordial', u'coriander', u'corkscrew', u'corn', u'cornbread', u'corned', u'cornflake', u'cornflakes', u'cornflour', u'cornhusks', u'cornichons', u'cornish', u'cornmeal', u'cornstarch', u'cortland', u'cotija', u'cottage', u'cotto', u'coulis', u'country', u'couscous', u'covered', u'cox', u'cr', u'crab', u'crabapples', u'crabmeat', u'crabs', u'cracked', u'cracker', u'crackers', u'cranberries', u'cranberry', u'crawfish', u'crawford', u'crayfish', u'cream', u'creamed', u'creamer', u'creami', u'creamy', u'creations', u'crema', u'creme', u'cremini', u'creole', u'crepes', u'crescent', u'cress', u'crimini', u'crisco', u'crisp', u'crisps', u'crispy', u'crock', u'crocker', u'croissant', u'croissants', u'crookneck', u'cross', u'crosswise', u'crostini', u'crouton', u'croutons', u'crumb', u'crumbled', u'crumbles', u'crumbs', u'crumpet', u'crunch', u'crush', u'crushed', u'crust', u'crusts', u'crusty', u'crystal', u'crystallized', u'cuban', u'cube', u'cubed', u'cubes', u'cucumber', u'cucumbers', u'cucuzza', u'cuervo', u'cuisine', u'culantro', u'culinary', u'cultured', u'cumberland', u'cumin', u'cuminseed', u'cummin', u'cups', u'cura', u'curd', u'curds', u'cured', u'curing', u'curls', u'curly', u'currant', u'currants', u'curry', u'custard', u'cut', u'cutlet', u'cutlets', u'cuts', u'cuttlefish', u'daal', u'daikon', u'dairy', u'daisy', u'daiya', u'dal', u'dandelion', u'dangmyun', u'daniels', u'darjeeling', u'dark', u'dash', u'dasheen', u'dashi', u'date', u'dates', u'day', u'de', u'dean', u'decorating', u'deep', u'delallo', u'deli', u'delicata', u'delicious', u'demerara', u'demi', u'dende', u'despelette', u'dessert', u'devein', u'deveined', u'devil', u'deviled', u'dew', u'dhal', u'dhaniya', u'di', u'diamond', u'diced', u'dickel', u'dictine', u'diet', u'digestive', u'dijon', u'dijonnaise', u'dill', u'dillweed', u'dinner', u'dinosaur', u'dip', u'dipping', u'dips', u'disco', u'dish', u'distilled', u'ditalini', u'doenzang', u'dog', u'dogs', u'dolce', u'dole', u'domino', u'doritos', u'doubanjiang', u'doubl', u'double', u'dough', u'doughs', u'dr', u'dragees', u'dragon', u'drain', u'drained', u'drambuie', u'dress', u'dressing', u'dri', u'dried', u'drink', u'drippings', u'drum', u'drummettes', u'drumstick', u'drumsticks', u'dry', u'du', u'duck', u'ducklings', u'dukkah', u'dulce', u'dulong', u'dumpling', u'dumplings', u'dungeness', u'durum', u'dusting', u'dutch', u'duxelles', u'ear', u'earl', u'ears', u'earth', u'eating', u'eau', u'edam', u'edamame', u'edible', u'eel', u'egg', u'eggland', u'eggnog', u'eggplant', u'eggplants', u'eggroll', u'eggs', u'el', u'elbow', u'elderflower', u'elmlea', u'emerils', u'emmenthal', u'empanada', u'enchilada', u'endive', u'energy', u'english', u'enokitake', u'enriched', u'epazote', u'equal', u'erythritol', u'escalopes', u'escargot', u'escarole', u'espelette', u'espresso', u'essence', u'estancia', u'european', u'evans', u'evapor', u'evaporated', u'everglades', u'extra', u'extract', u'eye', u'eyed', u'fajita', u'falafel', u'family', u'farfalline', u'farina', u'farm', u'farmer', u'farmhouse', u'farms', u'farofa', u'farro', u'fashioned', u'fast', u'fat', u'fatback', u'fatfre', u'fatfree', u'fats', u'fava', u'fed', u'fedelini', u'feet', u'fennel', u'fenugreek', u'fermented', u'fern', u'ferns', u'feta', u'fettuccine', u'fettuccini', u'fettucine', u'fiber', u'ficelle', u'fiddlehead', u'fideos', u'field', u'fiesta', u'fig', u'figs', u'fil', u'file', u'filet', u'filets', u'filipino', u'filled', u'fillet', u'fillets', u'filling', u'filo', u'fine', u'finely', u'fines', u'finger', u'fingerling', u'fingers', u'fino', u'fire', u'firm', u'firmly', u'fish', u'fishcake', u'fisher', u'five', u'flageolet', u'flake', u'flaked', u'flakes', u'flan', u'flank', u'flanken', u'flat', u'flatbread', u'flavor', u'flavored', u'flavoring', u'flax', u'flaxseed', u'fleshed', u'fleur', u'flora', u'florets', u'flounder', u'flour', u'flower', u'flowerets', u'flowering', u'flowers', u'fluff', u'focaccia', u'foccacia', u'foie', u'fondant', u'fontina', u'food', u'foods', u'forest', u'foster', u'four', u'fowl', u'fra', u'framboise', u'frangelico', u'frangipane', u'frank', u'frankfurters', u'franks', u'free', u'freeze', u'fregola', u'french', u'fresca', u'fresco', u'fresh', u'freshly', u'fresno', u'fri', u'fried', u'fries', u'frisee', u'friselle', u'fritos', u'frogs', u'fromage', u'fronds', u'frosting', u'frostings', u'frozen', u'fructose', u'fruit', u'fruitcake', u'fruits', u'fry', u'fryer', u'fryers', u'frying', u'fu', u'fudge', u'fuji', u'full', u'fully', u'fume', u'fungus', u'furikake', u'fusilli', u'fuyu', u'gaeta', u'gai', u'gala', u'galanga', u'galangal', u'galliano', u'gallo', u'game', u'ganache', u'gao', u'garam', u'garbanzo', u'garbanzos', u'garbonzo', u'garden', u'gari', u'garland', u'garlic', u'garni', u'garnish', u'gebhardt', u'gel', u'gelatin', u'gelato', u'gem', u'gember', u'gemelli', u'genmai', u'genoa', u'genoise', u'george', u'germ', u'germain', u'german', u'ghee', u'gherkin', u'gherkins', u'giant', u'giardiniera', u'giblet', u'gin', u'ginger', u'gingerroot', u'gingersnap', u'ginkgo', u'ginseng', u'gizzards', u'glac', u'glace', u'glass', u'glaze', u'glazed', u'globe', u'glucose', u'gluten', u'glutinous', u'gnocchetti', u'gnocchi', u'goat', u'gobo', u'gochugaru', u'gochujang', u'godiva', u'goji', u'gold', u'golden', u'goma', u'gomashio', u'good', u'goose', u'gooseberries', u'goreng', u'gorgonzola', u'gouda', u'gourd', u'gourmet', u'goya', u'grade', u'graham', u'grain', u'grained', u'gram', u'gran', u'grana', u'granary', u'grand', u'granita', u'granny', u'granola', u'granular', u'granulated', u'granules', u'grape', u'grapefruit', u'grapes', u'grapeseed', u'grappa', u'gras', u'grass', u'grassfed', u'grate', u'grated', u'grating', u'gravenstein', u'graviera', u'gravlax', u'gravy', u'gray', u'grease', u'great', u'greater', u'greek', u'greekstyl', u'green', u'greens', u'gremolata', u'grenadine', u'grey', u'grigio', u'grill', u'grilled', u'grilling', u'grind', u'grissini', u'grit', u'grits', u'groats', u'ground', u'groundnut', u'grouper', u'gruy', u'gruyere', u'guacamol', u'guacamole', u'guajillo', u'guanabana', u'guanciale', u'guava', u'guinea', u'guinness', u'gum', u'gumbo', u'guy', u'gyoza', u'haas', u'habanero', u'habas', u'hachiya', u'haddock', u'hair', u'hake', u'hakusai', u'half', u'halibut', u'halloumi', u'haloumi', u'halves', u'ham', u'hamachi', u'hamburger', u'hand', u'hanger', u'hanh', u'hanout', u'hard', u'haricot', u'haricots', u'harina', u'harissa', u'harusame', u'harvest', u'hash', u'hass', u'hatch', u'hatcho', u'havarti', u'hawaiian', u'hazelnut', u'hazelnuts', u'head', u'heads', u'heart', u'hearts', u'heath', u'heavy', u'heeng', u'heinz', u'heirloom', u'helix', u'hellmann', u'hemp', u'hen', u'hens', u'herb', u'herbed', u'herbes', u'herbs', u'herbsaint', u'herdez', u'hero', u'herring', u'hibiscus', u'hickory', u'hidden', u'hierba', u'high', u'hijiki', u'hillshire', u'himalayan', u'hing', u'hip', u'hoagi', u'hoagie', u'hock', u'hocks', u'hog', u'hogue', u'hoi', u'hoisin', u'hoja', u'holland', u'hollandaise', u'holy', u'home', u'homemade', u'homestyl', u'hominy', u'honey', u'honeycomb', u'honeydew', u'honeysuckle', u'hong', u'hoop', u'hops', u'horseradish', u'hot', u'hothouse', u'hots', u'house', u'hsing', u'hubbard', u'huckleberries', u'huitlacoche', u'hummus', u'hungarian', u'hurst', u'husks', u'hyssop', u'ibarra', u'ic', u'ice', u'iceberg', u'iced', u'icing', u'idaho', u'idli', u'ikura', u'imitation', u'imo', u'imperial', u'inch', u'india', u'indian', u'instant', u'iodized', u'irish', u'iron', u'island', u'islands', u'italian', u'jack', u'jackfruit', u'jagermeister', u'jaggery', u'jalape', u'jalapeno', u'jalapenos', u'jam', u'jamaica', u'jamaican', u'jambalaya', u'jambon', u'jameson', u'jamon', u'japanese', u'jarlsberg', u'jarred', u'jasmine', u'jeera', u'jell', u'jelli', u'jello', u'jelly', u'jerk', u'jerky', u'jerusalem', u'jicama', u'jif', u'jiffy', u'jimmies', u'jimmy', u'johnsonville', u'jonshonville', u'jose', u'jowl', u'juice', u'jujube', u'jujubes', u'jumbo', u'juniper', u'jus', u'kabocha', u'kabuli', u'kaffir', u'kahl', u'kahlua', u'kaiser', u'kalamansi', u'kalamata', u'kale', u'kalonji', u'kamaboko', u'kampyo', u'kamut', u'kangkong', u'kappa', u'karashi', u'karo', u'kasha', u'kashmiri', u'kasseri', u'kasu', u'kasuri', u'katakuriko', u'katsuo', u'kecap', u'keema', u'kefalotiri', u'kefalotyri', u'kefir', u'kelp', u'kernel', u'kernels', u'kerrygold', u'ketchup', u'ketjap', u'kewpie', u'kewra', u'key', u'kha', u'khoa', u'kidnei', u'kidney', u'kidneys', u'kielbasa', u'kikkoman', u'kim', u'kimchi', u'kinchay', u'king', u'kingfish', u'kippered', u'kippers', u'kirby', u'kirsch', u'kirschenliqueur', u'kirschwasser', u'kisses', u'kitchen', u'kiwi', u'kiwifruit', u'klondike', u'knoblauch', u'knockwurst', u'knoflook', u'knorr', u'knox', u'knuckle', u'knudsen', u'kochu', u'kochujang', u'kohlrabi', u'kokum', u'komatsuna', u'kombu', u'konbu', u'kong', u'konnyaku', u'korean', u'korma', u'kosher', u'kraft', u'krispies', u'kroger', u'kumquats', u'kung', u'la', u'lacinato', u'lady', u'ladyfingers', u'ladys', u'lager', u'lakes', u'laksa', u'lamb', u'lambic', u'lambrusco', u'lambs', u'lan', u'land', u'langoustines', u'lap', u'lapsang', u'lard', u'lardons', u'large', u'lasagna', u'lasagne', u'laurel', u'lavash', u'lavender', u'layer', u'lb', u'lea', u'leaf', u'leafy', u'lean', u'leav', u'leaves', u'leche', u'lecithin', u'leek', u'leeks', u'leftover', u'leg', u'legs', u'legumes', u'lemon', u'lemonade', u'lemongrass', u'lentil', u'lentilles', u'lentils', u'less', u'lesser', u'lettuc', u'lettuce', u'lettuces', u'levain', u'licor', u'licorice', u'light', u'lillet', u'lily', u'lima', u'lime', u'limeade', u'limoncello', u'lingcod', u'linguica', u'linguine', u'linguini', u'linguisa', u'links', u'lipton', u'liqueur', u'liquid', u'liquor', u'liquorice', u'lite', u'littleneck', u'liver', u'livers', u'liverwurst', u'lo', u'loaf', u'loaves', u'lobster', u'lobsters', u'loin', u'london', u'long', u'longan', u'longaniza', u'loofah', u'loose', u'loosely', u'lop', u'lotus', u'louisiana', u'low', u'lower', u'lowfat', u'lowsodium', u'lox', u'luke', u'lump', u'lumpia', u'luncheon', u'lychees', u'maca', u'macadamia', u'macaroni', u'macarons', u'mace', u'machine', u'mackerel', u'madagascar', u'made', u'madeira', u'madeleine', u'madras', u'mae', u'maggi', u'magret', u'mahi', u'mahimahi', u'mahlab', u'maida', u'maifun', u'maitake', u'makers', u'maldon', u'malt', u'malted', u'maltose', u'mam', u'manchego', u'mandarin', u'mango', u'mani', u'manicotti', u'manioc', u'manis', u'manischewitz', u'manouri', u'mantou', u'manzanilla', u'maple', u'maraschino', u'marble', u'marcona', u'margarine', u'margarita', u'margherita', u'marin', u'marinade', u'marinara', u'marjoram', u'mark', u'marmalade', u'marmite', u'marnier', u'marrons', u'marrow', u'marsala', u'marshmallow', u'marshmallows', u'martha', u'mary', u'marzano', u'marzipan', u'masa', u'masago', u'masala', u'mascarpone', u'mashed', u'masoor', u'massaman', u'massey', u'master', u'masur', u'matcha', u'matsutake', u'mature', u'matzo', u'matzos', u'maui', u'mayer', u'mayonaise', u'mayonnais', u'mayonnaise', u'mazola', u'mccormick', u'mcintosh', u'meal', u'meat', u'meatballs', u'meatloaf', u'meats', u'medal', u'medallions', u'medium', u'medjool', u'mein', u'melba', u'melissa', u'mellow', u'melon', u'melted', u'membrillo', u'menta', u'mentaiko', u'menthe', u'mentsuyu', u'merguez', u'meringue', u'merlot', u'merluza', u'mesclun', u'mesquite', u'methi', u'mex', u'mexican', u'mexicana', u'mexico', u'mexicorn', u'meyer', u'mezcal', u'mezzetta', u'mi', u'mian', u'microgreens', u'mie', u'mignon', u'mild', u'milk', u'milkfat', u'milkfish', u'millet', u'min', u'mince', u'minced', u'mincemeat', u'mineral', u'mini', u'miniature', u'minicub', u'minicubes', u'mint', u'minute', u'miracle', u'mirin', u'mirlitons', u'miso', u'mission', u'miswa', u'mitsuba', u'mix', u'mixed', u'mixers', u'mixture', u'mizkan', u'mizuna', u'mo', u'mochi', u'mochiko', u'moisture', u'mojo', u'molasses', u'mole', u'mondavi', u'monde', u'monkfish', u'monterey', u'montreal', u'mooli', u'moong', u'moonshine', u'moose', u'mora', u'morcilla', u'morel', u'moroccan', u'morsels', u'mortadella', u'morton', u'moss', u'mostaccioli', u'mostarda', u'moulard', u'mountain', u'mousse', u'mozarella', u'mozzarella', u'mrs', u'ms', u'msg', u'muenster', u'muesli', u'muffin', u'muffins', u'mulato', u'mullet', u'multi', u'multigrain', u'mung', u'muscadet', u'muscadine', u'muscat', u'muscavado', u'muscovado', u'muscovy', u'mushroom', u'mushrooms', u'mussels', u'mustard', u'mutton', u'myzithra', u'naan', u'nacho', u'nakano', u'nam', u'nama', u'napa', u'nappa', u'nashi', u'natto', u'natural', u'navel', u'navy', u'neapolitan', u'neck', u'nectar', u'nectarines', u'needles', u'neem', u'negi', u'negro', u'nero', u'nestle', u'nests', u'nettle', u'neufch', u'neutral', u'new', u'ngo', u'ni', u'nian', u'niblets', u'nibs', u'nido', u'nielsen', u'nigari', u'nigella', u'nilla', u'noir', u'non', u'nondairy', u'nonfat', u'nonhydrogenated', u'nonpareils', u'nonstick', u'noodl', u'noodle', u'noodles', u'nopales', u'nopalitos', u'nori', u'northern', u'nugget', u'nuggets', u'nuoc', u'nut', u'nutella', u'nutmeg', u'nutmegs', u'nutritional', u'nuts', u'oat', u'oatmeal', u'oats', u'ocean', u'octopuses', u'ogura', u'oigatsuo', u'oil', u'oise', u'okra', u'old', u'olek', u'oleo', u'olie', u'oliv', u'olive', u'olives', u'oloroso', u'one', u'onion', u'onions', u'opo', u'orang', u'orange', u'oranges', u'orchid', u'orecchiette', u'oregano', u'oreo', u'organic', u'orgeat', u'oriental', u'original', u'originals', u'ornamental', u'ortega', u'orzo', u'oscar', u'osetra', u'ounc', u'ouzo', u'oven', u'ox', u'oxtails', u'oyster', u'oysters', u'oz', u'paccheri', u'pace', u'pack', u'packed', u'pad', u'padano', u'paddles', u'paddy', u'padron', u'paella', u'pain', u'pak', u'pale', u'palm', u'pam', u'pan', u'panang', u'pancake', u'pancakes', u'pancetta', u'panch', u'pancit', u'pandan', u'pandanus', u'pane', u'paneer', u'panela', u'panetini', u'panettone', u'pangasius', u'panko', u'pansies', u'pao', u'papad', u'papalo', u'papaya', u'paper', u'pappadams', u'pappardelle', u'paprika', u'paratha', u'parboiled', u'pareve', u'parma', u'parmagiano', u'parmesan', u'parmigiana', u'parmigiano', u'parslei', u'parsley', u'parsnips', u'part', u'parts', u'pasilla', u'paso', u'passata', u'passion', u'passover', u'pasta', u'paste', u'pastina', u'pastis', u'pastry', u'pat', u'pate', u'patis', u'patties', u'pattypan', u'pea', u'peach', u'peaches', u'peanut', u'peanuts', u'peapods', u'pear', u'pearl', u'pearled', u'pearls', u'pears', u'peas', u'peasant', u'pecan', u'pecans', u'pecorino', u'pectin', u'peel', u'peeled', u'pekin', u'pekoe', u'penn', u'penne', u'pepe', u'peperoncini', u'peperoncino', u'pepitas', u'peppadews', u'pepper', u'peppercorn', u'peppercorns', u'peppered', u'pepperidge', u'peppermint', u'pepperocini', u'pepperoncini', u'pepperoni', u'peppers', u'perch', u'perciatelli', u'perilla', u'pernod', u'perrins', u'persian', u'persimmon', u'persimmons', u'pesto', u'petals', u'pete', u'petit', u'petite', u'petits', u'petrale', u'pheasant', u'philadelphia', u'pho', u'phoran', u'phyllo', u'picante', u'piccolini', u'pices', u'picholine', u'pickapeppa', u'pickle', u'pickled', u'pickles', u'pickling', u'picnic', u'pico', u'pie', u'piece', u'pieces', u'piecrust', u'piecrusts', u'pierogi', u'pies', u'pig', u'pigeon', u'pignolis', u'pike', u'pilaf', u'pillsbury', u'piloncillo', u'pilsner', u'piment', u'pimento', u'pimenton', u'pimentos', u'pina', u'pine', u'pineapple', u'pineapples', u'pinenuts', u'pinhead', u'pink', u'pinot', u'pinto', u'pippin', u'piquillo', u'piquin', u'piri', u'pisco', u'pistachio', u'pistachios', u'pistou', u'pit', u'pita', u'pitas', u'pitted', u'pizza', u'pla', u'plain', u'plantains', u'ploy', u'plum', u'plums', u'plus', u'poblano', u'pocket', u'pockets', u'pod', u'pods', u'poha', u'poi', u'pointed', u'points', u'poire', u'pois', u'polenta', u'polish', u'pollen', u'pollock', u'pomegranate', u'pomelo', u'pompano', u'pompeian', u'ponzu', u'poolish', u'pop', u'popcorn', u'poppadoms', u'popped', u'poppy', u'poppyseeds', u'porcini', u'pork', u'porridge', u'port', u'portabello', u'porter', u'porterhouse', u'portobello', u'portuguese', u'posole', u'pot', u'potato', u'potatoes', u'pots', u'potsticker', u'poultry', u'pound', u'poundcake', u'poured', u'poussins', u'powder', u'powdered', u'pozole', u'praline', u'prawn', u'prawns', u'prebaked', u'precooked', u'prego', u'premium', u'prepar', u'prepared', u'preserv', u'preserved', u'preserves', u'preshred', u'pressed', u'pretzels', u'prik', u'primavera', u'prime', u'pro', u'process', u'processed', u'progresso', u'promise', u'prosciutto', u'proscuitto', u'prosecco', u'protein', u'provence', u'provolone', u'prune', u'prunes', u'psyllium', u'pudding', u'puff', u'puffed', u'puffs', u'pullman', u'pulp', u'pummelo', u'pumpernickel', u'pumpkin', u'pumpkinseed', u'pumpkinseeds', u'pur', u'pure', u'puree', u'purple', u'purpos', u'purpose', u'puy', u'qua', u'quahog', u'quail', u'quarters', u'quatre', u'queso', u'quick', u'quickcooking', u'quince', u'quinces', u'quinoa', u'quorn', u'rabbit', u'rabe', u'rack', u'racks', u'raclette', u'radicchio', u'radish', u'radishes', u'ragu', u'rainbow', u'raisin', u'raising', u'raisins', u'raita', u'rajma', u'raki', u'ramen', u'ramps', u'ranch', u'range', u'rape', u'rapeseed', u'rapid', u'ras', u'rashers', u'raspberri', u'raspberries', u'raspberry', u'ratatouille', u'ravioli', u'ravva', u'raw', u'razor', u'ready', u'real', u'reblochon', u'recip', u'recipe', u'red', u'redcurrant', u'redfish', u'redhot', u'reduc', u'reduced', u'reduction', u'refined', u'refried', u'refrigerated', u'reggiano', u'regular', u'relish', u'remoulade', u'rendered', u'rennet', u'reposado', u'rhubarb', u'rib', u'ribeye', u'riblets', u'ribs', u'ricard', u'rice', u'rich', u'ricotta', u'riesling', u'rigate', u'rigatoni', u'rind', u'rings', u'rins', u'rioja', u'ripe', u'ripened', u'rise', u'rising', u'riso', u'risotto', u'ritz', u'ro', u'road', u'roast', u'roasted', u'roasting', u'robert', u'robiola', u'robusto', u'rock', u'rocket', u'rockfish', u'roe', u'roll', u'rolled', u'rolls', u'roma', u'romain', u'romaine', u'romana', u'romanesco', u'romano', u'rome', u'rooster', u'root', u'roots', u'roquefort', u'ros', u'rosa', u'rose', u'rosemari', u'rosemary', u'rosewater', u'rotel', u'rotelle', u'roti', u'rotini', u'rotisserie', u'roughy', u'rouille', u'round', u'rounds', u'roux', u'royal', u'rub', u'rubbed', u'ruby', u'rum', u'rump', u'runny', u'rusk', u'russet', u'russian', u'rustic', u'rutabaga', u'rye', u'saba', u'sablefish', u'sack', u'safflower', u'saffron', u'sage', u'sago', u'saigon', u'sake', u'saki', u'salad', u'salami', u'salata', u'salmon', u'salsa', u'salsify', u'salt', u'salted', u'saltine', u'saltines', u'saltpeter', u'sambal', u'sambuca', u'samphire', u'san', u'sanding', u'sandwich', u'sandwiches', u'sangiovese', u'sangria', u'sansho', u'santa', u'santo', u'sardi', u'sardines', u'sargento', u'sashimi', u'sato', u'satsuma', u'satsumas', u'sauc', u'sauce', u'sauces', u'sauerkraut', u'sausag', u'sausage', u'sausages', u'sauterne', u'sauvignon', u'savoiardi', u'savory', u'savoy', u'sazon', u'scallion', u'scallions', u'scallopini', u'scallops', u'scape', u'schmaltz', u'schnapps', u'scones', u'scotch', u'scrod', u'scrub', u'scrubbed', u'sea', u'seafood', u'seamless', u'season', u'seasoned', u'seasoning', u'seasons', u'seaweed', u'sec', u'seca', u'secret', u'secrets', u'sections', u'seed', u'seedless', u'seeds', u'segments', u'seitan', u'sel', u'self', u'seltzer', u'semi', u'semisweet', u'semolina', u'serrano', u'serving', u'sesame', u'seven', u'seville', u'shahi', u'shallots', u'shanghai', u'shank', u'shanks', u'shao', u'shaoxing', u'shapes', u'shark', u'sharp', u'shaved', u'shavings', u'sheep', u'sheepshead', u'sheet', u'sheets', u'shell', u'shelled', u'shellfish', u'shells', u'sherbet', u'sherry', u'shichimi', u'shiitake', u'shimeji', u'shin', u'shirataki', u'shiraz', u'shiro', u'shiromiso', u'shishito', u'shiso', u'shoepeg', u'shoga', u'shoots', u'short', u'shortbread', u'shortcakes', u'shortcrust', u'shortening', u'shoulder', u'shoyu', u'shred', u'shredded', u'shrimp', u'shuck', u'shucked', u'shungiku', u'sichuan', u'sichuanese', u'sicilian', u'side', u'sides', u'silken', u'silver', u'simple', u'single', u'sirloin', u'siu', u'size', u'skate', u'skim', u'skimmed', u'skin', u'skinless', u'skinned', u'skins', u'skippy', u'skirt', u'slab', u'slaw', u'slice', u'sliced', u'slices', u'slider', u'slim', u'slivered', u'sloe', u'small', u'smart', u'smith', u'smithfield', u'smoke', u'smoked', u'smooth', u'snail', u'snails', u'snapper', u'snappers', u'snaps', u'snip', u'snow', u'soaking', u'soba', u'sobrasada', u'sockeye', u'soda', u'sodium', u'sofrito', u'soft', u'soften', u'softened', u'soi', u'sole', u'solid', u'somen', u'sooji', u'soppressata', u'sorbet', u'sorghum', u'sorrel', u'souchong', u'soup', u'sour', u'sourdough', u'soursop', u'southern', u'southwest', u'soy', u'soya', u'soybean', u'soybeans', u'soymilk', u'spaghetti', u'spaghettini', u'spam', u'spanish', u'spare', u'spareribs', u'sparkling', u'spearmint', u'spears', u'specials', u'speck', u'spelt', u'spice', u'spiced', u'spices', u'spicy', u'spike', u'spinach', u'spiny', u'spiral', u'splenda', u'split', u'sponge', u'sports', u'spot', u'spray', u'spread', u'spreadable', u'sprig', u'sprigs', u'spring', u'sprinkles', u'sprite', u'sprouts', u'spumante', u'squabs', u'squash', u'squeezed', u'squid', u'squirt', u'sriracha', u'st', u'standing', u'star', u'starch', u'starchy', u'starter', u'steak', u'steaks', u'steamed', u'steamer', u'steel', u'stellette', u'stem', u'stems', u'stevia', u'stew', u'stewed', u'stewing', u'stick', u'stickers', u'sticks', u'sticky', u'stilton', u'stir', u'stock', u'stolichnaya', u'stone', u'stonefire', u'store', u'stout', u'straight', u'strained', u'straw', u'strawberri', u'strawberries', u'strawberry', u'streaky', u'string', u'strip', u'striped', u'strips', u'strong', u'strozzapreti', u'stuffed', u'stuffing', u'sturgeon', u'style', u'sub', u'submarine', u'substitute', u'sucanat', u'success', u'suckling', u'sucralose', u'sucrolose', u'suet', u'sugar', u'sugarcane', u'sugars', u'sultana', u'sum', u'sumac', u'summer', u'sun', u'sunchokes', u'sundae', u'sundried', u'sunflower', u'superfine', u'superior', u'sushi', u'swanson', u'swede', u'sweet', u'sweetbreads', u'sweeten', u'sweetened', u'sweetener', u'sweeteners', u'swerve', u'swiss', u'swordfish', u'syd', u'syrup', u'szechuan', u'szechwan', u'tabasco', u'table', u'taco', u'tagliarini', u'tagliatelle', u'tahini', u'tail', u'tails', u'taiwanese', u'taleggio', u'tallow', u'tamale', u'tamales', u'tamari', u'tamarind', u'tandoori', u'tangelos', u'tangerine', u'tangzhong', u'tap', u'tapatio', u'tapenade', u'tapioca', u'tarama', u'tarde', u'taro', u'tarragon', u'tart', u'tartar', u'tartlet', u'tasso', u'taste', u'tater', u'tatsoi', u'tawny', u'te', u'tea', u'teardrop', u'teas', u'teff', u'tel', u'teleme', u'tempeh', u'tempura', u'tender', u'tenderizer', u'tenderloin', u'tenderloins', u'tenders', u'tendons', u'tentacles', u'tequila', u'teriyaki', u'terrine', u'tex', u'texas', u'textured', u'thai', u'thaw', u'thawed', u'thick', u'thickeners', u'thigh', u'thighs', u'thin', u'thinli', u'third', u'thousand', u'thread', u'threads', u'thyme', u'ti', u'tie', u'tiger', u'tikka', u'tilapia', u'tip', u'tipo', u'tips', u'toast', u'toasted', u'toasts', u'tobiko', u'toffee', u'tofu', u'togarashi', u'tokyo', u'tom', u'tomate', u'tomatillo', u'tomatillos', u'tomato', u'tomatoes', u'ton', u'tongue', u'tonic', u'tonkatsu', u'tony', u'toor', u'top', u'topping', u'toppings', u'tops', u'topside', u'torn', u'torpedo', u'tortellini', u'tortelloni', u'tortilla', u'tortillas', u'tostada', u'tostadas', u'tostitos', u'tots', u'touch', u'toulouse', u'tradicional', u'tradit', u'traditional', u'treacle', u'tree', u'treviso', u'tri', u'tricolor', u'trimmed', u'tripe', u'triple', u'triscuits', u'tropic', u'tropical', u'trotters', u'trout', u'true', u'truffle', u'truffles', u'trumpet', u'truv', u'tsuyu', u'tuaca', u'tube', u'tubetti', u'tubettini', u'tumeric', u'tuna', u'tuong', u'tupelo', u'turbinado', u'turbot', u'turkei', u'turkey', u'turkish', u'turmeric', u'turnip', u'turnips', u'turtle', u'tuscan', u'tuttorosso', u'tvp', u'twists', u'tyson', u'tzatziki', u'udon', u'ulek', u'ume', u'umeboshi', u'unagi', u'unbaked', u'unbleached', u'uncle', u'uncook', u'uncooked', u'undiluted', u'undrain', u'unflavored', u'unhulled', u'uni', u'unsalt', u'unsalted', u'unseasoned', u'unsmoked', u'unsulphured', u'unsweeten', u'unsweetened', u'urad', u'usukuchi', u'vadouvan', u'val', u'valencia', u'valley', u'vanilla', u'varieti', u'varnish', u'vay', u'veal', u'vegan', u'veget', u'vegeta', u'vegetable', u'vegetables', u'vegetarian', u'veggie', u'veggies', u'velveeta', u'velvet', u'venison', u'vera', u'verbena', u'verde', u'veri', u'verjuice', u'verjus', u'vermicelli', u'vermouth', u'verts', u'viande', u'victoria', u'vidalia', u'vie', u'vietnamese', u'vin', u'vinaigrett', u'vinaigrette', u'vindaloo', u'vine', u'vinegar', u'vineyard', u'violets', u'virgin', u'virginia', u'vital', u'vitamin', u'vodka', u'vre', u'wafer', u'wafers', u'waffle', u'wagon', u'wakame', u'walnut', u'walnuts', u'warm', u'wasabe', u'wasabi', u'water', u'watercress', u'watermelon', u'wax', u'waxy', u'wedge', u'wedges', u'weed', u'well', u'wensleydale', u'wesson', u'wheat', u'wheatberries', u'wheel', u'wheels', u'whey', u'whip', u'whipped', u'whipping', u'whiskey', u'whisky', u'white', u'whitefish', u'whites', u'whole', u'wholemeal', u'wholesome', u'wide', u'wieners', u'wild', u'wildflower', u'williams', u'wine', u'winesap', u'wing', u'wingettes', u'wings', u'winter', u'wish', u'wok', u'woksaus', u'wolf', u'wolfberries', u'wondra', u'wonton', u'wood', u'woods', u'worcestershire', u'world', u'wrappers', u'wraps', u'xanthan', u'xuxu', u'yaki', u'yakisoba', u'yam', u'yams', u'yardlong', u'yeast', u'yellow', u'yellowfin', u'yellowtail', u'yoghurt', u'yogurt', u'yolk', u'yolks', u'yoplait', u'york', u'young', u'yu', u'yuca', u'yucca', u'yukon', u'yum', u'yuzu', u'yuzukosho', u'za', u'zatarain', u'zatarains', u'zero', u'zest', u'zesty', u'zinfandel', u'ziti', u'zucchini']\n"
     ]
    }
   ],
   "source": [
    "vocab = vectorizer.get_feature_names()\n",
    "print(vocab)"
   ]
  },
  {
   "cell_type": "code",
   "execution_count": 32,
   "metadata": {
    "collapsed": true
   },
   "outputs": [],
   "source": [
    "from sklearn.ensemble import RandomForestClassifier\n",
    "forest = RandomForestClassifier(n_estimators = 100) \n",
    "forest = forest.fit( train_data_features, train[\"cuisine\"] )"
   ]
  },
  {
   "cell_type": "code",
   "execution_count": 33,
   "metadata": {},
   "outputs": [
    {
     "name": "stdout",
     "output_type": "stream",
     "text": [
      "(9944, 2)\n"
     ]
    }
   ],
   "source": [
    "test = pd.read_json(\"cooking/test.json\")\n",
    "print(test.shape)"
   ]
  },
  {
   "cell_type": "code",
   "execution_count": 34,
   "metadata": {},
   "outputs": [
    {
     "name": "stdout",
     "output_type": "stream",
     "text": [
      "Review 1000 of 9944\n",
      "\n",
      "Review 2000 of 9944\n",
      "\n",
      "Review 3000 of 9944\n",
      "\n",
      "Review 4000 of 9944\n",
      "\n",
      "Review 5000 of 9944\n",
      "\n",
      "Review 6000 of 9944\n",
      "\n",
      "Review 7000 of 9944\n",
      "\n",
      "Review 8000 of 9944\n",
      "\n",
      "Review 9000 of 9944\n",
      "\n"
     ]
    }
   ],
   "source": [
    "num_ingredients = test[\"ingredients\"].size\n",
    "clean_test_ingredients = []\n",
    "for i in xrange( 0, num_ingredients ):\n",
    "    # Call our function for each one, and add the result to the list of\n",
    "    # clean reviews\n",
    "     # If the index is evenly divisible by 1000, print a message\n",
    "    if( (i+1)%1000 == 0 ):\n",
    "        print \"Review %d of %d\\n\" % ( i+1, num_ingredients ) \n",
    "    clean_test_ingredients.append( ingredients_to_words( test[\"ingredients\"][i] ) )"
   ]
  },
  {
   "cell_type": "code",
   "execution_count": 35,
   "metadata": {
    "collapsed": true
   },
   "outputs": [],
   "source": [
    "test_data_features = vectorizer.transform(clean_test_ingredients)\n",
    "test_data_features = test_data_features.toarray()"
   ]
  },
  {
   "cell_type": "code",
   "execution_count": 36,
   "metadata": {
    "collapsed": true
   },
   "outputs": [],
   "source": [
    "result = forest.predict(test_data_features)\n",
    "output = pd.DataFrame( data={\"id\":test[\"id\"], \"cuisine\":result} )\n",
    "output.to_csv( \"whats_cooking.csv\", index=False, quoting=3 )"
   ]
  }
 ],
 "metadata": {
  "kernelspec": {
   "display_name": "Python 2",
   "language": "python",
   "name": "python2"
  },
  "language_info": {
   "codemirror_mode": {
    "name": "ipython",
    "version": 2
   },
   "file_extension": ".py",
   "mimetype": "text/x-python",
   "name": "python",
   "nbconvert_exporter": "python",
   "pygments_lexer": "ipython2",
   "version": "2.7.13"
  }
 },
 "nbformat": 4,
 "nbformat_minor": 2
}
