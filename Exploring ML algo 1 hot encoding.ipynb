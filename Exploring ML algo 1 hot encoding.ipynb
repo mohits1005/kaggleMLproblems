{
 "cells": [
  {
   "cell_type": "code",
   "execution_count": 1,
   "metadata": {
    "collapsed": true
   },
   "outputs": [],
   "source": [
    "import numpy as np # linear algebra\n",
    "import pandas as pd # data processing, CSV file I/O (e.g. pd.read_csv)\n",
    "import seaborn as sns # data visualization library  \n",
    "import matplotlib.pyplot as plt\n",
    "%matplotlib inline"
   ]
  },
  {
   "cell_type": "code",
   "execution_count": 3,
   "metadata": {
    "collapsed": true
   },
   "outputs": [],
   "source": [
    "dataset = pd.read_csv('exploring_ml/train.csv')\n",
    "dataset_test = pd.read_csv('exploring_ml/test.csv')"
   ]
  },
  {
   "cell_type": "code",
   "execution_count": 4,
   "metadata": {
    "collapsed": true
   },
   "outputs": [],
   "source": [
    "ID = dataset_test['id']"
   ]
  },
  {
   "cell_type": "code",
   "execution_count": 5,
   "metadata": {
    "collapsed": true
   },
   "outputs": [],
   "source": [
    "dataset_test.drop('id',axis=1,inplace=True)"
   ]
  },
  {
   "cell_type": "code",
   "execution_count": 7,
   "metadata": {},
   "outputs": [],
   "source": [
    "pd.set_option('display.max_rows', None)\n",
    "pd.set_option('display.max_columns', None)"
   ]
  },
  {
   "cell_type": "code",
   "execution_count": 8,
   "metadata": {},
   "outputs": [
    {
     "name": "stdout",
     "output_type": "stream",
     "text": [
      "   id cat1 cat2 cat3 cat4 cat5 cat6 cat7 cat8 cat9 cat10 cat11 cat12 cat13  \\\n",
      "0   1    A    B    A    B    A    A    A    A    B     A     B     A     A   \n",
      "1   2    A    B    A    A    A    A    A    A    B     B     A     A     A   \n",
      "2   5    A    B    A    A    B    A    A    A    B     B     B     B     B   \n",
      "3  10    B    B    A    B    A    A    A    A    B     A     A     A     A   \n",
      "4  11    A    B    A    B    A    A    A    A    B     B     A     B     A   \n",
      "\n",
      "  cat14 cat15 cat16 cat17 cat18 cat19 cat20 cat21 cat22 cat23 cat24 cat25  \\\n",
      "0     A     A     A     A     A     A     A     A     A     B     A     A   \n",
      "1     A     A     A     A     A     A     A     A     A     A     A     A   \n",
      "2     A     A     A     A     A     A     A     A     A     A     A     A   \n",
      "3     A     A     A     A     A     A     A     A     A     B     A     A   \n",
      "4     A     A     A     A     A     A     A     A     A     B     A     A   \n",
      "\n",
      "  cat26 cat27 cat28 cat29 cat30 cat31 cat32 cat33 cat34 cat35 cat36 cat37  \\\n",
      "0     A     A     A     A     A     A     A     A     A     A     A     A   \n",
      "1     A     A     A     A     A     A     A     A     A     A     A     A   \n",
      "2     A     A     A     A     A     A     A     A     A     A     B     A   \n",
      "3     A     A     A     A     A     A     A     A     A     A     A     A   \n",
      "4     A     A     A     A     A     A     A     A     A     A     A     A   \n",
      "\n",
      "  cat38 cat39 cat40 cat41 cat42 cat43 cat44 cat45 cat46 cat47 cat48 cat49  \\\n",
      "0     A     A     A     A     A     A     A     A     A     A     A     A   \n",
      "1     A     A     A     A     A     A     A     A     A     A     A     A   \n",
      "2     A     A     A     A     A     A     A     A     A     A     A     A   \n",
      "3     A     A     A     A     A     A     A     A     A     A     A     A   \n",
      "4     A     A     A     A     A     A     A     A     A     A     A     A   \n",
      "\n",
      "  cat50 cat51 cat52 cat53 cat54 cat55 cat56 cat57 cat58 cat59 cat60 cat61  \\\n",
      "0     A     A     A     A     A     A     A     A     A     A     A     A   \n",
      "1     A     A     A     A     A     A     A     A     A     A     A     A   \n",
      "2     A     A     A     A     A     A     A     A     A     A     A     A   \n",
      "3     A     A     A     A     A     A     A     A     A     A     A     A   \n",
      "4     A     A     A     A     A     A     A     A     A     A     A     A   \n",
      "\n",
      "  cat62 cat63 cat64 cat65 cat66 cat67 cat68 cat69 cat70 cat71 cat72 cat73  \\\n",
      "0     A     A     A     A     A     A     A     A     A     A     A     A   \n",
      "1     A     A     A     A     A     A     A     A     A     A     A     A   \n",
      "2     A     A     A     A     A     A     A     A     A     A     A     A   \n",
      "3     A     A     A     A     A     A     A     A     A     A     A     B   \n",
      "4     A     A     A     A     A     A     A     A     A     A     B     A   \n",
      "\n",
      "  cat74 cat75 cat76 cat77 cat78 cat79 cat80 cat81 cat82 cat83 cat84 cat85  \\\n",
      "0     A     B     A     D     B     B     D     D     B     D     C     B   \n",
      "1     A     A     A     D     B     B     D     D     A     B     C     B   \n",
      "2     A     A     A     D     B     B     B     D     B     D     C     B   \n",
      "3     A     A     A     D     B     B     D     D     D     B     C     B   \n",
      "4     A     A     A     D     B     D     B     D     B     B     C     B   \n",
      "\n",
      "  cat86 cat87 cat88 cat89 cat90 cat91 cat92 cat93 cat94 cat95 cat96 cat97  \\\n",
      "0     D     B     A     A     A     A     A     D     B     C     E     A   \n",
      "1     D     B     A     A     A     A     A     D     D     C     E     E   \n",
      "2     B     B     A     A     A     A     A     D     D     C     E     E   \n",
      "3     D     B     A     A     A     A     A     D     D     C     E     E   \n",
      "4     B     C     A     A     A     B     H     D     B     D     E     E   \n",
      "\n",
      "  cat98 cat99 cat100 cat101 cat102 cat103 cat104 cat105 cat106 cat107 cat108  \\\n",
      "0     C     T      B      G      A      A      I      E      G      J      G   \n",
      "1     D     T      L      F      A      A      E      E      I      K      K   \n",
      "2     A     D      L      O      A      B      E      F      H      F      A   \n",
      "3     D     T      I      D      A      A      E      E      I      K      K   \n",
      "4     A     P      F      J      A      A      D      E      K      G      B   \n",
      "\n",
      "  cat109 cat110 cat111 cat112 cat113 cat114 cat115 cat116     cont1     cont2  \\\n",
      "0     BU     BC      C     AS      S      A      O     LB  0.726300  0.245921   \n",
      "1     BI     CQ      A     AV     BM      A      O     DP  0.330514  0.737068   \n",
      "2     AB     DK      A      C     AF      A      I     GK  0.261841  0.358319   \n",
      "3     BI     CS      C      N     AE      A      O     DJ  0.321594  0.555782   \n",
      "4      H      C      C      Y     BM      A      K     CK  0.273204  0.159990   \n",
      "\n",
      "      cont3     cont4     cont5     cont6     cont7    cont8    cont9  \\\n",
      "0  0.187583  0.789639  0.310061  0.718367  0.335060  0.30260  0.67135   \n",
      "1  0.592681  0.614134  0.885834  0.438917  0.436585  0.60087  0.35127   \n",
      "2  0.484196  0.236924  0.397069  0.289648  0.315545  0.27320  0.26076   \n",
      "3  0.527991  0.373816  0.422268  0.440945  0.391128  0.31796  0.32128   \n",
      "4  0.527991  0.473202  0.704268  0.178193  0.247408  0.24564  0.22089   \n",
      "\n",
      "    cont10    cont11    cont12    cont13    cont14     loss  \n",
      "0  0.83510  0.569745  0.594646  0.822493  0.714843  2213.18  \n",
      "1  0.43919  0.338312  0.366307  0.611431  0.304496  1283.60  \n",
      "2  0.32446  0.381398  0.373424  0.195709  0.774425  3005.09  \n",
      "3  0.44467  0.327915  0.321570  0.605077  0.602642   939.85  \n",
      "4  0.21230  0.204687  0.202213  0.246011  0.432606  2763.85  \n"
     ]
    }
   ],
   "source": [
    "print(dataset.head(5))"
   ]
  },
  {
   "cell_type": "code",
   "execution_count": 9,
   "metadata": {},
   "outputs": [
    {
     "name": "stdout",
     "output_type": "stream",
     "text": [
      "(188318, 132)\n"
     ]
    }
   ],
   "source": [
    "print(dataset.shape)"
   ]
  },
  {
   "cell_type": "code",
   "execution_count": 10,
   "metadata": {
    "collapsed": true
   },
   "outputs": [],
   "source": [
    "dataset = dataset.iloc[:,1:]"
   ]
  },
  {
   "cell_type": "code",
   "execution_count": 11,
   "metadata": {
    "collapsed": true
   },
   "outputs": [],
   "source": [
    "#range of features considered\n",
    "split = 116 \n",
    "\n",
    "#number of features considered\n",
    "size = 15\n",
    "\n",
    "#create a dataframe with only continuous features\n",
    "data=dataset.iloc[:,split:] \n",
    "\n",
    "#get the names of all the columns\n",
    "cols=data.columns "
   ]
  },
  {
   "cell_type": "code",
   "execution_count": 13,
   "metadata": {},
   "outputs": [],
   "source": [
    "#log1p function applies log(1+x) to all elements of the column\n",
    "dataset[\"loss\"] = np.log1p(dataset[\"loss\"])"
   ]
  },
  {
   "cell_type": "code",
   "execution_count": 19,
   "metadata": {},
   "outputs": [],
   "source": [
    "#Variable to hold the list of variables for an attribute in the train and test data\n",
    "labels = []\n",
    "cols=dataset.columns \n",
    "for i in range(0,split):\n",
    "#         print(cols[i])\n",
    "        train = dataset[cols[i]].unique()\n",
    "        test = dataset_test[cols[i]].unique()\n",
    "        labels.append(list(set(train) | set(test)))"
   ]
  },
  {
   "cell_type": "code",
   "execution_count": 22,
   "metadata": {},
   "outputs": [
    {
     "name": "stdout",
     "output_type": "stream",
     "text": [
      "116\n"
     ]
    }
   ],
   "source": [
    "print(len(labels))"
   ]
  },
  {
   "cell_type": "code",
   "execution_count": 26,
   "metadata": {},
   "outputs": [
    {
     "data": {
      "text/plain": [
       "(188318, 131)"
      ]
     },
     "execution_count": 26,
     "metadata": {},
     "output_type": "execute_result"
    }
   ],
   "source": [
    "dataset.shape"
   ]
  },
  {
   "cell_type": "code",
   "execution_count": 24,
   "metadata": {},
   "outputs": [
    {
     "name": "stdout",
     "output_type": "stream",
     "text": [
      "(188318, 1176)\n"
     ]
    }
   ],
   "source": [
    "#Import OneHotEncoder\n",
    "from sklearn.preprocessing import LabelEncoder\n",
    "from sklearn.preprocessing import OneHotEncoder\n",
    "\n",
    "#One hot encode all categorical attributes\n",
    "cats = []\n",
    "for i in range(0, split):\n",
    "    #Label encode\n",
    "    label_encoder = LabelEncoder()\n",
    "    label_encoder.fit(labels[i])\n",
    "    feature = label_encoder.transform(dataset.iloc[:,i])\n",
    "    feature = feature.reshape(dataset.shape[0], 1)\n",
    "    #One hot encode\n",
    "    onehot_encoder = OneHotEncoder(sparse=False,n_values=len(labels[i]))\n",
    "    feature = onehot_encoder.fit_transform(feature)\n",
    "    cats.append(feature)\n",
    "\n",
    "# Make a 2D array from a list of 1D arrays\n",
    "encoded_cats = np.column_stack(cats)\n",
    "\n",
    "# Print the shape of the encoded data\n",
    "print(encoded_cats.shape)"
   ]
  },
  {
   "cell_type": "code",
   "execution_count": 28,
   "metadata": {},
   "outputs": [
    {
     "name": "stdout",
     "output_type": "stream",
     "text": [
      "[[ 1.  0.  0. ...,  0.  0.  0.]\n",
      " [ 1.  0.  0. ...,  0.  0.  0.]\n",
      " [ 1.  0.  0. ...,  0.  0.  0.]\n",
      " ..., \n",
      " [ 1.  0.  0. ...,  0.  0.  0.]\n",
      " [ 1.  0.  0. ...,  0.  0.  0.]\n",
      " [ 0.  1.  1. ...,  0.  0.  0.]]\n"
     ]
    }
   ],
   "source": [
    "print(encoded_cats)"
   ]
  },
  {
   "cell_type": "code",
   "execution_count": 31,
   "metadata": {},
   "outputs": [
    {
     "name": "stdout",
     "output_type": "stream",
     "text": [
      "(188318, 1191)\n"
     ]
    }
   ],
   "source": [
    "#Concatenate encoded attributes with continuous attributes\n",
    "dataset_encoded = np.concatenate((encoded_cats,dataset.iloc[:,split:].values),axis=1)\n",
    "# del cats\n",
    "# del feature\n",
    "# del dataset\n",
    "# del encoded_cats\n",
    "print(dataset_encoded.shape)"
   ]
  },
  {
   "cell_type": "code",
   "execution_count": 33,
   "metadata": {},
   "outputs": [],
   "source": [
    "#get the number of rows and columns\n",
    "r, c = dataset_encoded.shape\n",
    "#create an array which has indexes of columns\n",
    "i_cols = []\n",
    "for i in range(0,c-1):\n",
    "    i_cols.append(i)\n",
    "# print(i_cols)"
   ]
  },
  {
   "cell_type": "code",
   "execution_count": 35,
   "metadata": {},
   "outputs": [
    {
     "name": "stdout",
     "output_type": "stream",
     "text": [
      "(188318, 1190)\n",
      "(188318,)\n"
     ]
    }
   ],
   "source": [
    "#Y is the target column, X has the rest\n",
    "X = dataset_encoded[:,0:(c-1)]\n",
    "Y = dataset_encoded[:,(c-1)]\n",
    "print(X.shape)\n",
    "print(Y.shape)"
   ]
  },
  {
   "cell_type": "code",
   "execution_count": 38,
   "metadata": {},
   "outputs": [
    {
     "name": "stdout",
     "output_type": "stream",
     "text": [
      "[[ 1.        0.        0.       ...,  0.594646  0.822493  0.714843]\n",
      " [ 1.        0.        0.       ...,  0.366307  0.611431  0.304496]\n",
      " [ 1.        0.        0.       ...,  0.373424  0.195709  0.774425]\n",
      " ..., \n",
      " [ 1.        0.        0.       ...,  0.443374  0.339244  0.503888]\n",
      " [ 1.        0.        0.       ...,  0.852865  0.654753  0.721707]\n",
      " [ 0.        1.        1.       ...,  0.946432  0.810511  0.72146 ]]\n"
     ]
    }
   ],
   "source": [
    "print(X)"
   ]
  }
 ],
 "metadata": {
  "kernelspec": {
   "display_name": "Python 2",
   "language": "python",
   "name": "python2"
  },
  "language_info": {
   "codemirror_mode": {
    "name": "ipython",
    "version": 2
   },
   "file_extension": ".py",
   "mimetype": "text/x-python",
   "name": "python",
   "nbconvert_exporter": "python",
   "pygments_lexer": "ipython2",
   "version": "2.7.13"
  }
 },
 "nbformat": 4,
 "nbformat_minor": 2
}
