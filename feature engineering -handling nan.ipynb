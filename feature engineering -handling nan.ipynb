{
 "cells": [
  {
   "cell_type": "code",
   "execution_count": 288,
   "metadata": {
    "collapsed": true
   },
   "outputs": [],
   "source": [
    "# Imports\n",
    "import pandas as pd\n",
    "import numpy as np\n",
    "from sklearn.model_selection import cross_val_score, train_test_split\n",
    "from sklearn.linear_model import LinearRegression\n",
    "from sklearn.metrics import mean_squared_error, make_scorer\n",
    "from scipy.stats import skew\n",
    "from IPython.display import display\n",
    "import matplotlib.pyplot as plt\n",
    "import seaborn as sns\n",
    "\n",
    "# Definitions\n",
    "pd.set_option('display.float_format', lambda x: '%.3f' % x)\n",
    "%matplotlib inline\n",
    "#njobs = 4"
   ]
  },
  {
   "cell_type": "code",
   "execution_count": 289,
   "metadata": {},
   "outputs": [
    {
     "name": "stdout",
     "output_type": "stream",
     "text": [
      "train : (1460, 81)\n"
     ]
    }
   ],
   "source": [
    "# Get data\n",
    "train = pd.read_csv(\"train.csv\")\n",
    "print(\"train : \" + str(train.shape))"
   ]
  },
  {
   "cell_type": "code",
   "execution_count": 290,
   "metadata": {},
   "outputs": [
    {
     "name": "stdout",
     "output_type": "stream",
     "text": [
      "no duplicates\n"
     ]
    }
   ],
   "source": [
    "# Check for duplicates   \n",
    "if len(train.TrainId) == len(set(train.TrainId)):\n",
    "    print \"no duplicates\"\n",
    "else:\n",
    "    print \"duplicates\"\n",
    "train = train.drop(\"TrainId\", axis = 1)"
   ]
  },
  {
   "cell_type": "code",
   "execution_count": 291,
   "metadata": {},
   "outputs": [
    {
     "name": "stderr",
     "output_type": "stream",
     "text": [
      "/Users/mohitsharma/anaconda/lib/python2.7/site-packages/ipykernel_launcher.py:1: DeprecationWarning: \n",
      ".ix is deprecated. Please use\n",
      ".loc for label based indexing or\n",
      ".iloc for positional indexing\n",
      "\n",
      "See the documentation here:\n",
      "http://pandas.pydata.org/pandas-docs/stable/indexing.html#deprecate_ix\n",
      "  \"\"\"Entry point for launching an IPython kernel.\n"
     ]
    }
   ],
   "source": [
    "train = train.ix[~((train.GrLivArea>4000) & (train.SalePrice<300000))]"
   ]
  },
  {
   "cell_type": "code",
   "execution_count": 292,
   "metadata": {
    "collapsed": true
   },
   "outputs": [],
   "source": [
    "train_labels = train.SalePrice\n",
    "train_features = train.drop(['SalePrice'],axis=1)"
   ]
  },
  {
   "cell_type": "code",
   "execution_count": 293,
   "metadata": {},
   "outputs": [],
   "source": [
    "train_features.Alley = train_features.Alley.fillna(\"None\")\n",
    "train_features.BedroomAbvGr = train_features.BedroomAbvGr.fillna(0)\n",
    "train_features.BsmtQual = train_features.BsmtQual.fillna(\"No\")\n",
    "train_features.BsmtCond = train_features.BsmtCond.fillna(\"No\")\n",
    "train_features.BsmtExposure = train_features.BsmtExposure.fillna(\"No\")\n",
    "train_features.BsmtFinType1 = train_features.BsmtFinType1.fillna(\"No\")\n",
    "train_features.BsmtFinType2 = train_features.BsmtFinType2.fillna(\"No\")\n",
    "train_features.BsmtFullBath = train_features.BsmtFullBath.fillna(0)\n",
    "train_features.BsmtHalfBath = train_features.BsmtHalfBath.fillna(0)\n",
    "train_features.BsmtUnfSF = train_features.BsmtUnfSF.fillna(0)\n",
    "train_features.CentralAir = train_features.CentralAir.fillna(\"N\")\n",
    "train_features.Condition1 = train_features.Condition1.fillna(\"Norm\")\n",
    "train_features.Condition2 = train_features.Condition2.fillna(\"Norm\")\n",
    "train_features.EnclosedPorch = train_features.EnclosedPorch.fillna(0)\n",
    "train_features.ExterCond = train_features.ExterCond.fillna(\"TA\")\n",
    "train_features.ExterQual = train_features.ExterQual.fillna(\"TA\")\n",
    "train_features.Fence = train_features.Fence.fillna(\"NA\")\n",
    "train_features.FireplaceQu = train_features.FireplaceQu.fillna(\"No\")\n",
    "train_features.Fireplaces = train_features.Fireplaces.fillna(0)\n",
    "train_features.Functional = train_features.Functional.fillna(\"Typ\")\n",
    "train_features.GarageType = train_features.GarageType.fillna(\"NA\")\n",
    "train_features.GarageFinish = train_features.GarageFinish.fillna(\"NA\")\n",
    "train_features.GarageQual = train_features.GarageQual.fillna(\"No\")\n",
    "train_features.GarageCond = train_features.GarageCond.fillna(\"No\")\n",
    "train_features.GarageArea = train_features.GarageArea.fillna(0)\n",
    "train_features.GarageCars = train_features.GarageCars.fillna(0)\n",
    "train_features.HalfBath = train_features.HalfBath.fillna(0)\n",
    "train_features.HeatingQC = train_features.HeatingQC.fillna(\"TA\")\n",
    "train_features.KitchenAbvGr = train_features.KitchenAbvGr.fillna(0)\n",
    "train_features.KitchenQual = train_features.KitchenQual.fillna(\"TA\")\n",
    "train_features.LotShape = train_features.LotShape.fillna(\"Reg\")\n",
    "train_features.MasVnrType = train_features.MasVnrType.fillna(\"None\")\n",
    "train_features.MasVnrArea = train_features.MasVnrArea.fillna(0)\n",
    "train_features.MiscFeature = train_features.MiscFeature.fillna(\"NA\")\n",
    "train_features.MiscVal = train_features.MiscVal.fillna(0)\n",
    "train_features.OpenPorchSF = train_features.OpenPorchSF.fillna(0)\n",
    "train_features.PavedDrive = train_features.PavedDrive.fillna(\"N\")\n",
    "train_features.PoolQC = train_features.PoolQC.fillna(\"No\")\n",
    "train_features.PoolArea = train_features.PoolArea.fillna(0)\n",
    "train_features.SaleCondition = train_features.SaleCondition.fillna(\"Normal\")\n",
    "train_features.ScreenPorch = train_features.ScreenPorch.fillna(0)\n",
    "train_features.TotRmsAbvGrd = train_features.TotRmsAbvGrd.fillna(0)\n",
    "train_features.Utilities = train_features.Utilities.fillna(\"AllPub\")\n",
    "train_features.WoodDeckSF = train_features.WoodDeckSF.fillna(0)"
   ]
  },
  {
   "cell_type": "code",
   "execution_count": 294,
   "metadata": {},
   "outputs": [],
   "source": [
    "train_features.Alley = train_features.Alley.replace([\"None\",\"Grvl\",\"Pave\"],[0,1,2])\n",
    "train_features.BsmtQual = train_features.BsmtQual.replace([\"No\",\"Po\",\"Fa\",\"TA\",\"Gd\",\"Ex\"],[0,1,2,3,4,5])\n",
    "train_features.BsmtCond = train_features.BsmtCond.replace([\"No\",\"Po\",\"Fa\",\"TA\",\"Gd\",\"Ex\"],[0,1,2,3,4,5])\n",
    "train_features.BsmtExposure = train_features.BsmtExposure.replace([\"No\",\"Mn\",\"Av\",\"Gd\"],[0,1,2,3])\n",
    "train_features.BsmtFinType1 = train_features.BsmtFinType1.replace([\"No\" ,\"Unf\",\"LwQ\",\"Rec\",\"BLQ\",\"ALQ\",\"GLQ\"],[0,1,2,3,4,5,6])\n",
    "train_features.BsmtFinType2 = train_features.BsmtFinType2.replace([\"No\" ,\"Unf\",\"LwQ\",\"Rec\",\"BLQ\",\"ALQ\",\"GLQ\"],[0,1,2,3,4,5,6])\n",
    "train_features.CentralAir = train_features.CentralAir.replace([\"N\",\"Y\"],[0,1])\n",
    "train_features.Condition1 = train_features.Condition1.replace([\"Artery\",\"Feedr\",\"Norm\",\"RRNn\",\"RRAn\",\"PosN\",\"PosA\",\"RRNe\",\"RRAe\"],[0,1,2,3,4,5,6,7,8])\n",
    "train_features.Condition2 = train_features.Condition2.replace([\"Artery\",\"Feedr\",\"Norm\",\"RRNn\",\"RRAn\",\"PosN\",\"PosA\",\"RRNe\",\"RRAe\"],[0,1,2,3,4,5,6,7,8])\n",
    "train_features.ExterCond = train_features.ExterCond.replace([\"Po\",\"Fa\",\"TA\",\"Gd\",\"Ex\"],[1,2,3,4,5])\n",
    "train_features.ExterQual = train_features.ExterQual.replace([\"Po\",\"Fa\",\"TA\",\"Gd\",\"Ex\"],[1,2,3,4,5])\n",
    "train_features.Fence = train_features.Fence.replace([\"GdPrv\",\"MnPrv\",\"GdWo\",\"MnWw\",\"NA\"],[0,1,2,3,4])\n",
    "train_features.FireplaceQu = train_features.FireplaceQu.replace([\"No\",\"Po\",\"Fa\",\"TA\",\"Gd\",\"Ex\"],[0,1,2,3,4,5])\n",
    "train_features.Functional = train_features.Functional.replace([\"Sal\",\"Sev\",\"Maj2\",\"Maj1\",\"Mod\",\"Min2\",\"Min1\",\"Typ\"],[1,2,3,4,5,6,7,8])\n",
    "train_features.GarageType = train_features.GarageType.replace([\"2Types\",\"Attchd\",\"Basment\",\"BuiltIn\",\"CarPort\",\"Detchd\",\"NA\"],[0,1,2,3,4,5,6])\n",
    "train_features.GarageFinish = train_features.GarageFinish.replace([\"Fin\",\"RFn\",\"Unf\",\"NA\"],[0,1,2,3])\n",
    "train_features.GarageQual = train_features.GarageQual.replace([\"No\",\"Po\",\"Fa\",\"TA\",\"Gd\",\"Ex\"],[0,1,2,3,4,5])\n",
    "train_features.GarageCond = train_features.GarageCond.replace([\"No\",\"Po\",\"Fa\",\"TA\",\"Gd\",\"Ex\"],[0,1,2,3,4,5])\n",
    "train_features.HeatingQC = train_features.HeatingQC.replace([\"Po\",\"Fa\",\"TA\",\"Gd\",\"Ex\"],[1,2,3,4,5])\n",
    "train_features.KitchenQual = train_features.KitchenQual.replace([\"Po\",\"Fa\",\"TA\",\"Gd\",\"Ex\"],[1,2,3,4,5])\n",
    "train_features.LotShape = train_features.LotShape.replace([\"IR3\",\"IR2\",\"IR1\",\"Reg\"],[1,2,3,4])\n",
    "train_features.MasVnrType = train_features.MasVnrType.replace([\"BrkCmn\",\"BrkFace\",\"CBlock\",\"None\",\"Stone\"],[0,1,2,3,4])\n",
    "train_features.MiscFeature = train_features.MiscFeature.replace([\"Elev\",\"Gar2\",\"Othr\",\"Shed\",\"TenC\",\"NA\"],[0,1,2,3,4,5])\n",
    "train_features.PavedDrive = train_features.PavedDrive.replace([\"N\",\"P\",\"Y\"],[0,1,2])\n",
    "train_features.PoolQC = train_features.PoolQC.replace([\"No\",\"Fa\",\"TA\",\"Gd\",\"Ex\"],[0,1,2,3,4])\n",
    "train_features.SaleCondition = train_features.SaleCondition.replace([\"Abnorml\",\"Alloca\",\"AdjLand\",\"Family\",\"Normal\",\"Partial\"],[0,1,2,3,4,5])\n",
    "train_features.Utilities = train_features.Utilities.replace([\"ELO\",\"NoSeWa\",\"NoSewr\",\"AllPub\"],[1,2,3,4])"
   ]
  },
  {
   "cell_type": "code",
   "execution_count": 295,
   "metadata": {},
   "outputs": [
    {
     "data": {
      "text/plain": [
       "45"
      ]
     },
     "execution_count": 295,
     "metadata": {},
     "output_type": "execute_result"
    }
   ],
   "source": [
    "train_features = train_features[['GrLivArea','Alley','BedroomAbvGr','BsmtQual','BsmtCond','BsmtExposure','BsmtFinType1','BsmtFinType2','BsmtFullBath','BsmtHalfBath','BsmtUnfSF','CentralAir','Condition1','Condition2','EnclosedPorch','ExterCond','ExterQual','Fence','FireplaceQu','Fireplaces','Functional','GarageType','GarageFinish','GarageQual','GarageCond','GarageArea','GarageCars','HalfBath','HeatingQC','KitchenAbvGr','KitchenQual','LotShape','MasVnrType','MasVnrArea','MiscFeature','MiscVal','OpenPorchSF','PavedDrive','PoolQC','PoolArea','SaleCondition','ScreenPorch','TotRmsAbvGrd','Utilities','WoodDeckSF']]\n",
    "train_features.columns.size"
   ]
  },
  {
   "cell_type": "code",
   "execution_count": 296,
   "metadata": {},
   "outputs": [
    {
     "name": "stdout",
     "output_type": "stream",
     "text": [
      "test : (1459, 80)\n"
     ]
    }
   ],
   "source": [
    "# Get data\n",
    "test = pd.read_csv(\"test.csv\")\n",
    "print(\"test : \" + str(test.shape))"
   ]
  },
  {
   "cell_type": "code",
   "execution_count": 297,
   "metadata": {},
   "outputs": [
    {
     "name": "stdout",
     "output_type": "stream",
     "text": [
      "no duplicates\n"
     ]
    }
   ],
   "source": [
    "# Check for duplicates   \n",
    "if len(test.Id) == len(set(test.Id)):\n",
    "    print \"no duplicates\"\n",
    "else:\n",
    "    print \"duplicates\"\n",
    "test = test.drop(\"Id\", axis = 1)"
   ]
  },
  {
   "cell_type": "code",
   "execution_count": 298,
   "metadata": {
    "collapsed": true
   },
   "outputs": [],
   "source": [
    "test.Alley = test.Alley.fillna(\"None\")\n",
    "test.BedroomAbvGr = test.BedroomAbvGr.fillna(0)\n",
    "test.BsmtQual = test.BsmtQual.fillna(\"No\")\n",
    "test.BsmtCond = test.BsmtCond.fillna(\"No\")\n",
    "test.BsmtExposure = test.BsmtExposure.fillna(\"No\")\n",
    "test.BsmtFinType1 = test.BsmtFinType1.fillna(\"No\")\n",
    "test.BsmtFinType2 = test.BsmtFinType2.fillna(\"No\")\n",
    "test.BsmtFullBath = test.BsmtFullBath.fillna(0)\n",
    "test.BsmtHalfBath = test.BsmtHalfBath.fillna(0)\n",
    "test.BsmtUnfSF = test.BsmtUnfSF.fillna(0)\n",
    "test.CentralAir = test.CentralAir.fillna(\"N\")\n",
    "test.Condition1 = test.Condition1.fillna(\"Norm\")\n",
    "test.Condition2 = test.Condition2.fillna(\"Norm\")\n",
    "test.EnclosedPorch = test.EnclosedPorch.fillna(0)\n",
    "test.ExterCond = test.ExterCond.fillna(\"TA\")\n",
    "test.ExterQual = test.ExterQual.fillna(\"TA\")\n",
    "test.Fence = test.Fence.fillna(\"NA\")\n",
    "test.FireplaceQu = test.FireplaceQu.fillna(\"No\")\n",
    "test.Fireplaces = test.Fireplaces.fillna(0)\n",
    "test.Functional = test.Functional.fillna(\"Typ\")\n",
    "test.GarageType = test.GarageType.fillna(\"NA\")\n",
    "test.GarageFinish = test.GarageFinish.fillna(\"NA\")\n",
    "test.GarageQual = test.GarageQual.fillna(\"No\")\n",
    "test.GarageCond = test.GarageCond.fillna(\"No\")\n",
    "test.GarageArea = test.GarageArea.fillna(0)\n",
    "test.GarageCars = test.GarageCars.fillna(0)\n",
    "test.HalfBath = test.HalfBath.fillna(0)\n",
    "test.HeatingQC = test.HeatingQC.fillna(\"TA\")\n",
    "test.KitchenAbvGr = test.KitchenAbvGr.fillna(0)\n",
    "test.KitchenQual = test.KitchenQual.fillna(\"TA\")\n",
    "test.LotShape = test.LotShape.fillna(\"Reg\")\n",
    "test.MasVnrType = test.MasVnrType.fillna(\"None\")\n",
    "test.MasVnrArea = test.MasVnrArea.fillna(0)\n",
    "test.MiscFeature = test.MiscFeature.fillna(\"NA\")\n",
    "test.MiscVal = test.MiscVal.fillna(0)\n",
    "test.OpenPorchSF = test.OpenPorchSF.fillna(0)\n",
    "test.PavedDrive = test.PavedDrive.fillna(\"N\")\n",
    "test.PoolQC = test.PoolQC.fillna(\"No\")\n",
    "test.PoolArea = test.PoolArea.fillna(0)\n",
    "test.SaleCondition = test.SaleCondition.fillna(\"Normal\")\n",
    "test.ScreenPorch = test.ScreenPorch.fillna(0)\n",
    "test.TotRmsAbvGrd = test.TotRmsAbvGrd.fillna(0)\n",
    "test.Utilities = test.Utilities.fillna(\"AllPub\")\n",
    "test.WoodDeckSF = test.WoodDeckSF.fillna(0)"
   ]
  },
  {
   "cell_type": "code",
   "execution_count": 299,
   "metadata": {},
   "outputs": [],
   "source": [
    "test.Alley = test.Alley.replace([\"None\",\"Grvl\",\"Pave\"],[0,1,2])\n",
    "test.BsmtQual = test.BsmtQual.replace([\"No\",\"Po\",\"Fa\",\"TA\",\"Gd\",\"Ex\"],[0,1,2,3,4,5])\n",
    "test.BsmtCond = test.BsmtCond.replace([\"No\",\"Po\",\"Fa\",\"TA\",\"Gd\",\"Ex\"],[0,1,2,3,4,5])\n",
    "test.BsmtExposure = test.BsmtExposure.replace([\"No\",\"Mn\",\"Av\",\"Gd\"],[0,1,2,3])\n",
    "test.BsmtFinType1 = test.BsmtFinType1.replace([\"No\" ,\"Unf\",\"LwQ\",\"Rec\",\"BLQ\",\"ALQ\",\"GLQ\"],[0,1,2,3,4,5,6])\n",
    "test.BsmtFinType2 = test.BsmtFinType2.replace([\"No\" ,\"Unf\",\"LwQ\",\"Rec\",\"BLQ\",\"ALQ\",\"GLQ\"],[0,1,2,3,4,5,6])\n",
    "test.CentralAir = test.CentralAir.replace([\"N\",\"Y\"],[0,1])\n",
    "test.Condition1 = test.Condition1.replace([\"Artery\",\"Feedr\",\"Norm\",\"RRNn\",\"RRAn\",\"PosN\",\"PosA\",\"RRNe\",\"RRAe\"],[0,1,2,3,4,5,6,7,8])\n",
    "test.Condition2 = test.Condition2.replace([\"Artery\",\"Feedr\",\"Norm\",\"RRNn\",\"RRAn\",\"PosN\",\"PosA\",\"RRNe\",\"RRAe\"],[0,1,2,3,4,5,6,7,8])\n",
    "test.ExterCond = test.ExterCond.replace([\"Po\",\"Fa\",\"TA\",\"Gd\",\"Ex\"],[1,2,3,4,5])\n",
    "test.ExterQual = test.ExterQual.replace([\"Po\",\"Fa\",\"TA\",\"Gd\",\"Ex\"],[1,2,3,4,5])\n",
    "test.Fence = test.Fence.replace([\"GdPrv\",\"MnPrv\",\"GdWo\",\"MnWw\",\"NA\"],[0,1,2,3,4])\n",
    "test.FireplaceQu = test.FireplaceQu.replace([\"No\",\"Po\",\"Fa\",\"TA\",\"Gd\",\"Ex\"],[0,1,2,3,4,5])\n",
    "test.Functional = test.Functional.replace([\"Sal\",\"Sev\",\"Maj2\",\"Maj1\",\"Mod\",\"Min2\",\"Min1\",\"Typ\"],[1,2,3,4,5,6,7,8])\n",
    "test.GarageType = test.GarageType.replace([\"2Types\",\"Attchd\",\"Basment\",\"BuiltIn\",\"CarPort\",\"Detchd\",\"NA\"],[0,1,2,3,4,5,6])\n",
    "test.GarageFinish = test.GarageFinish.replace([\"Fin\",\"RFn\",\"Unf\",\"NA\"],[0,1,2,3])\n",
    "test.GarageQual = test.GarageQual.replace([\"No\",\"Po\",\"Fa\",\"TA\",\"Gd\",\"Ex\"],[0,1,2,3,4,5])\n",
    "test.GarageCond = test.GarageCond.replace([\"No\",\"Po\",\"Fa\",\"TA\",\"Gd\",\"Ex\"],[0,1,2,3,4,5])\n",
    "test.HeatingQC = test.HeatingQC.replace([\"Po\",\"Fa\",\"TA\",\"Gd\",\"Ex\"],[1,2,3,4,5])\n",
    "test.KitchenQual = test.KitchenQual.replace([\"Po\",\"Fa\",\"TA\",\"Gd\",\"Ex\"],[1,2,3,4,5])\n",
    "test.LotShape = test.LotShape.replace([\"IR3\",\"IR2\",\"IR1\",\"Reg\"],[1,2,3,4])\n",
    "test.MasVnrType = test.MasVnrType.replace([\"BrkCmn\",\"BrkFace\",\"CBlock\",\"None\",\"Stone\"],[0,1,2,3,4])\n",
    "test.MiscFeature = test.MiscFeature.replace([\"Elev\",\"Gar2\",\"Othr\",\"Shed\",\"TenC\",\"NA\"],[0,1,2,3,4,5])\n",
    "test.PavedDrive = test.PavedDrive.replace([\"N\",\"P\",\"Y\"],[0,1,2])\n",
    "test.PoolQC = test.PoolQC.replace([\"No\",\"Fa\",\"TA\",\"Gd\",\"Ex\"],[0,1,2,3,4])\n",
    "test.SaleCondition = test.SaleCondition.replace([\"Abnorml\",\"Alloca\",\"AdjLand\",\"Family\",\"Normal\",\"Partial\"],[0,1,2,3,4,5])\n",
    "test.Utilities = test.Utilities.replace([\"ELO\",\"NoSeWa\",\"NoSewr\",\"AllPub\"],[1,2,3,4])"
   ]
  },
  {
   "cell_type": "code",
   "execution_count": 300,
   "metadata": {},
   "outputs": [
    {
     "data": {
      "text/plain": [
       "45"
      ]
     },
     "execution_count": 300,
     "metadata": {},
     "output_type": "execute_result"
    }
   ],
   "source": [
    "test_features = test[['GrLivArea','Alley','BedroomAbvGr','BsmtQual','BsmtCond','BsmtExposure','BsmtFinType1','BsmtFinType2','BsmtFullBath','BsmtHalfBath','BsmtUnfSF','CentralAir','Condition1','Condition2','EnclosedPorch','ExterCond','ExterQual','Fence','FireplaceQu','Fireplaces','Functional','GarageType','GarageFinish','GarageQual','GarageCond','GarageArea','GarageCars','HalfBath','HeatingQC','KitchenAbvGr','KitchenQual','LotShape','MasVnrType','MasVnrArea','MiscFeature','MiscVal','OpenPorchSF','PavedDrive','PoolQC','PoolArea','SaleCondition','ScreenPorch','TotRmsAbvGrd','Utilities','WoodDeckSF']]\n",
    "test_features.columns.size"
   ]
  },
  {
   "cell_type": "code",
   "execution_count": 301,
   "metadata": {},
   "outputs": [
    {
     "name": "stdout",
     "output_type": "stream",
     "text": [
      "(1458, 45)\n",
      "(1458,)\n",
      "(1459, 45)\n"
     ]
    }
   ],
   "source": [
    "print(train_features.shape)\n",
    "print(train_labels.shape)\n",
    "print(test_features.shape)"
   ]
  },
  {
   "cell_type": "code",
   "execution_count": 302,
   "metadata": {},
   "outputs": [
    {
     "data": {
      "text/plain": [
       "LinearRegression(copy_X=True, fit_intercept=True, n_jobs=1, normalize=False)"
      ]
     },
     "execution_count": 302,
     "metadata": {},
     "output_type": "execute_result"
    }
   ],
   "source": [
    "# Linear Regression\n",
    "lr = LinearRegression()\n",
    "lr.fit(train_features, train_labels)"
   ]
  },
  {
   "cell_type": "code",
   "execution_count": 303,
   "metadata": {},
   "outputs": [
    {
     "name": "stdout",
     "output_type": "stream",
     "text": [
      "(1458,)\n",
      "(1459,)\n"
     ]
    }
   ],
   "source": [
    "train_labels_pred = lr.predict(train_features)\n",
    "test_labels_pred = lr.predict(test_features)\n",
    "print(train_labels_pred.shape)\n",
    "print(test_labels_pred.shape)"
   ]
  },
  {
   "cell_type": "code",
   "execution_count": 304,
   "metadata": {},
   "outputs": [
    {
     "name": "stdout",
     "output_type": "stream",
     "text": [
      "[208500 181500 223500 ..., 266500 142125 147500]\n",
      "[ 218323.45697664  173805.93162152  236184.80170216 ...,  262871.21290686\n",
      "  143391.24840969  153620.39492522]\n"
     ]
    }
   ],
   "source": [
    "print(train_labels.values)\n",
    "print(train_labels_pred)"
   ]
  },
  {
   "cell_type": "code",
   "execution_count": 305,
   "metadata": {},
   "outputs": [
    {
     "name": "stdout",
     "output_type": "stream",
     "text": [
      "('RMSE on Training set :', 32197.378054139575)\n",
      "('RMSE on Test set :', 3.4412705963533596e-09)\n"
     ]
    }
   ],
   "source": [
    "# Define error measure for official scoring : RMSE\n",
    "scorer = make_scorer(mean_squared_error, greater_is_better = False)\n",
    "\n",
    "def rmse_cv_train(model):\n",
    "    rmse= np.sqrt(-cross_val_score(model, train_features, train_labels, scoring = scorer, cv = 10))\n",
    "    return(rmse)\n",
    "\n",
    "def rmse_cv_test(model):\n",
    "    rmse= np.sqrt(-cross_val_score(model, test_features, test_labels_pred, scoring = scorer, cv = 10))\n",
    "    return(rmse)\n",
    "\n",
    "# Look at predictions on training and validation set\n",
    "print(\"RMSE on Training set :\", rmse_cv_train(lr).mean())\n",
    "print(\"RMSE on Test set :\", rmse_cv_test(lr).mean())"
   ]
  },
  {
   "cell_type": "code",
   "execution_count": 306,
   "metadata": {},
   "outputs": [
    {
     "data": {
      "image/png": "[encoded data removed]",
      "text/plain": [
       "<matplotlib.figure.Figure at 0x11408dcd0>"
      ]
     },
     "metadata": {},
     "output_type": "display_data"
    }
   ],
   "source": [
    "# Plot predictions\n",
    "plt.scatter(train_features.GrLivArea, train_labels, c = \"blue\", marker = \"s\", label = \"Training data\")\n",
    "plt.scatter(train_features.GrLivArea, train_labels_pred, c = \"lightgreen\", marker = \"s\", label = \"Validation data\")\n",
    "plt.title(\"Original vs Predicted\")\n",
    "plt.xlabel(\"GrLivArea\")\n",
    "plt.ylabel(\"SalePrice\")\n",
    "plt.show()"
   ]
  }
 ],
 "metadata": {
  "kernelspec": {
   "display_name": "Python 2",
   "language": "python",
   "name": "python2"
  },
  "language_info": {
   "codemirror_mode": {
    "name": "ipython",
    "version": 2
   },
   "file_extension": ".py",
   "mimetype": "text/x-python",
   "name": "python",
   "nbconvert_exporter": "python",
   "pygments_lexer": "ipython2",
   "version": "2.7.13"
  }
 },
 "nbformat": 4,
 "nbformat_minor": 2
}
