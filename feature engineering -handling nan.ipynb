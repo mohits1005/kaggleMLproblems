{
 "cells": [
  {
   "cell_type": "code",
   "execution_count": 87,
   "metadata": {
    "collapsed": true
   },
   "outputs": [],
   "source": [
    "# Imports\n",
    "import pandas as pd\n",
    "import numpy as np\n",
    "from sklearn.model_selection import cross_val_score, train_test_split\n",
    "from sklearn.linear_model import LinearRegression\n",
    "from sklearn.metrics import mean_squared_error, make_scorer\n",
    "from scipy.stats import skew\n",
    "from IPython.display import display\n",
    "import matplotlib.pyplot as plt\n",
    "import seaborn as sns\n",
    "\n",
    "# Definitions\n",
    "pd.set_option('display.float_format', lambda x: '%.3f' % x)\n",
    "%matplotlib inline\n",
    "#njobs = 4"
   ]
  },
  {
   "cell_type": "code",
   "execution_count": 88,
   "metadata": {},
   "outputs": [
    {
     "name": "stdout",
     "output_type": "stream",
     "text": [
      "train : (1460, 81)\n"
     ]
    }
   ],
   "source": [
    "# Get data\n",
    "train = pd.read_csv(\"train.csv\")\n",
    "print(\"train : \" + str(train.shape))"
   ]
  },
  {
   "cell_type": "code",
   "execution_count": 89,
   "metadata": {},
   "outputs": [
    {
     "name": "stdout",
     "output_type": "stream",
     "text": [
      "no duplicates\n"
     ]
    }
   ],
   "source": [
    "# Check for duplicates   \n",
    "if len(train.TrainId) == len(set(train.TrainId)):\n",
    "    print \"no duplicates\"\n",
    "else:\n",
    "    print \"duplicates\"\n",
    "train = train.drop(\"TrainId\", axis = 1)"
   ]
  },
  {
   "cell_type": "code",
   "execution_count": 90,
   "metadata": {},
   "outputs": [
    {
     "name": "stderr",
     "output_type": "stream",
     "text": [
      "/Users/mohitsharma/anaconda/lib/python2.7/site-packages/ipykernel_launcher.py:1: DeprecationWarning: \n",
      ".ix is deprecated. Please use\n",
      ".loc for label based indexing or\n",
      ".iloc for positional indexing\n",
      "\n",
      "See the documentation here:\n",
      "http://pandas.pydata.org/pandas-docs/stable/indexing.html#deprecate_ix\n",
      "  \"\"\"Entry point for launching an IPython kernel.\n"
     ]
    }
   ],
   "source": [
    "train = train.ix[~((train.GrLivArea>4000) & (train.SalePrice<300000))]"
   ]
  },
  {
   "cell_type": "code",
   "execution_count": 91,
   "metadata": {
    "collapsed": true
   },
   "outputs": [],
   "source": [
    "train_labels = train.SalePrice\n",
    "train_features = train.drop(['SalePrice'],axis=1)"
   ]
  },
  {
   "cell_type": "code",
   "execution_count": 92,
   "metadata": {},
   "outputs": [],
   "source": [
    "train_features.Alley = train_features.Alley.fillna(\"None\")\n",
    "train_features.BedroomAbvGr = train_features.BedroomAbvGr.fillna(0)\n",
    "train_features.BsmtQual = train_features.BsmtQual.fillna(\"No\")\n",
    "train_features.BsmtCond = train_features.BsmtCond.fillna(\"No\")\n",
    "train_features.BsmtExposure = train_features.BsmtExposure.fillna(\"No\")\n",
    "train_features.BsmtFinType1 = train_features.BsmtFinType1.fillna(\"No\")\n",
    "train_features.BsmtFinType2 = train_features.BsmtFinType2.fillna(\"No\")\n",
    "train_features.BsmtFullBath = train_features.BsmtFullBath.fillna(0)\n",
    "train_features.BsmtHalfBath = train_features.BsmtHalfBath.fillna(0)\n",
    "train_features.BsmtUnfSF = train_features.BsmtUnfSF.fillna(0)\n"
   ]
  },
  {
   "cell_type": "code",
   "execution_count": 93,
   "metadata": {},
   "outputs": [],
   "source": [
    "train_features.Alley = train_features.Alley.replace([\"None\",\"Grvl\",\"Pave\"],[0,1,2])\n",
    "train_features.BsmtQual = train_features.BsmtQual.replace([\"No\",\"Po\",\"Fa\",\"TA\",\"Gd\",\"Ex\"],[0,1,2,3,4,5])\n",
    "train_features.BsmtCond = train_features.BsmtCond.replace([\"No\",\"Po\",\"Fa\",\"TA\",\"Gd\",\"Ex\"],[0,1,2,3,4,5])\n",
    "train_features.BsmtExposure = train_features.BsmtExposure.replace([\"No\",\"Mn\",\"Av\",\"Gd\"],[0,1,2,3])\n",
    "train_features.BsmtFinType1 = train_features.BsmtFinType1.replace([\"No\" ,\"Unf\",\"LwQ\",\"Rec\",\"BLQ\",\"ALQ\",\"GLQ\"],[0,1,2,3,4,5,6])\n",
    "train_features.BsmtFinType2 = train_features.BsmtFinType2.replace([\"No\" ,\"Unf\",\"LwQ\",\"Rec\",\"BLQ\",\"ALQ\",\"GLQ\"],[0,1,2,3,4,5,6])\n",
    "\n"
   ]
  },
  {
   "cell_type": "code",
   "execution_count": 94,
   "metadata": {},
   "outputs": [
    {
     "data": {
      "text/plain": [
       "11"
      ]
     },
     "execution_count": 94,
     "metadata": {},
     "output_type": "execute_result"
    }
   ],
   "source": [
    "train_features = train_features[['GrLivArea','Alley','BedroomAbvGr','BsmtQual','BsmtCond','BsmtExposure','BsmtFinType1','BsmtFinType2','BsmtFullBath','BsmtHalfBath','BsmtUnfSF']]\n",
    "train_features.columns.size"
   ]
  },
  {
   "cell_type": "code",
   "execution_count": 95,
   "metadata": {},
   "outputs": [
    {
     "name": "stdout",
     "output_type": "stream",
     "text": [
      "test : (1459, 80)\n"
     ]
    }
   ],
   "source": [
    "# Get data\n",
    "test = pd.read_csv(\"test.csv\")\n",
    "print(\"test : \" + str(test.shape))"
   ]
  },
  {
   "cell_type": "code",
   "execution_count": 96,
   "metadata": {},
   "outputs": [
    {
     "name": "stdout",
     "output_type": "stream",
     "text": [
      "no duplicates\n"
     ]
    }
   ],
   "source": [
    "# Check for duplicates   \n",
    "if len(test.Id) == len(set(test.Id)):\n",
    "    print \"no duplicates\"\n",
    "else:\n",
    "    print \"duplicates\"\n",
    "test = test.drop(\"Id\", axis = 1)"
   ]
  },
  {
   "cell_type": "code",
   "execution_count": 97,
   "metadata": {
    "collapsed": true
   },
   "outputs": [],
   "source": [
    "test.Alley = test.Alley.fillna(\"None\")\n",
    "test.BedroomAbvGr = test.BedroomAbvGr.fillna(0)\n",
    "test.BsmtQual = test.BsmtQual.fillna(\"No\")\n",
    "test.BsmtCond = test.BsmtCond.fillna(\"No\")\n",
    "test.BsmtExposure = test.BsmtExposure.fillna(\"No\")\n",
    "test.BsmtFinType1 = test.BsmtFinType1.fillna(\"No\")\n",
    "test.BsmtFinType2 = test.BsmtFinType2.fillna(\"No\")\n",
    "test.BsmtFullBath = test.BsmtFullBath.fillna(0)\n",
    "test.BsmtHalfBath = test.BsmtHalfBath.fillna(0)\n",
    "test.BsmtUnfSF = test.BsmtUnfSF.fillna(0)"
   ]
  },
  {
   "cell_type": "code",
   "execution_count": 98,
   "metadata": {},
   "outputs": [],
   "source": [
    "test.Alley = test.Alley.replace([\"None\",\"Grvl\",\"Pave\"],[0,1,2])\n",
    "test.BsmtQual = test.BsmtQual.replace([\"No\",\"Po\",\"Fa\",\"TA\",\"Gd\",\"Ex\"],[0,1,2,3,4,5])\n",
    "test.BsmtCond = test.BsmtCond.replace([\"No\",\"Po\",\"Fa\",\"TA\",\"Gd\",\"Ex\"],[0,1,2,3,4,5])\n",
    "test.BsmtExposure = test.BsmtExposure.replace([\"No\",\"Mn\",\"Av\",\"Gd\"],[0,1,2,3])\n",
    "test.BsmtFinType1 = test.BsmtFinType1.replace([\"No\" ,\"Unf\",\"LwQ\",\"Rec\",\"BLQ\",\"ALQ\",\"GLQ\"],[0,1,2,3,4,5,6])\n",
    "test.BsmtFinType2 = test.BsmtFinType2.replace([\"No\" ,\"Unf\",\"LwQ\",\"Rec\",\"BLQ\",\"ALQ\",\"GLQ\"],[0,1,2,3,4,5,6])"
   ]
  },
  {
   "cell_type": "code",
   "execution_count": 99,
   "metadata": {},
   "outputs": [
    {
     "data": {
      "text/plain": [
       "11"
      ]
     },
     "execution_count": 99,
     "metadata": {},
     "output_type": "execute_result"
    }
   ],
   "source": [
    "test_features = test[['GrLivArea','Alley','BedroomAbvGr','BsmtQual','BsmtCond','BsmtExposure','BsmtFinType1','BsmtFinType2','BsmtFullBath','BsmtHalfBath','BsmtUnfSF']]\n",
    "test_features.columns.size"
   ]
  },
  {
   "cell_type": "code",
   "execution_count": 100,
   "metadata": {},
   "outputs": [
    {
     "name": "stdout",
     "output_type": "stream",
     "text": [
      "(1458, 11)\n",
      "(1458,)\n",
      "(1459, 11)\n"
     ]
    }
   ],
   "source": [
    "print(train_features.shape)\n",
    "print(train_labels.shape)\n",
    "print(test_features.shape)"
   ]
  },
  {
   "cell_type": "code",
   "execution_count": 101,
   "metadata": {},
   "outputs": [
    {
     "data": {
      "text/plain": [
       "LinearRegression(copy_X=True, fit_intercept=True, n_jobs=1, normalize=False)"
      ]
     },
     "execution_count": 101,
     "metadata": {},
     "output_type": "execute_result"
    }
   ],
   "source": [
    "# Linear Regression\n",
    "lr = LinearRegression()\n",
    "lr.fit(train_features, train_labels)"
   ]
  },
  {
   "cell_type": "code",
   "execution_count": 102,
   "metadata": {},
   "outputs": [
    {
     "name": "stdout",
     "output_type": "stream",
     "text": [
      "(1458,)\n",
      "(1459,)\n"
     ]
    }
   ],
   "source": [
    "train_labels_pred = lr.predict(train_features)\n",
    "test_labels_pred = lr.predict(test_features)\n",
    "print(train_labels_pred.shape)\n",
    "print(test_labels_pred.shape)"
   ]
  },
  {
   "cell_type": "code",
   "execution_count": 103,
   "metadata": {},
   "outputs": [
    {
     "name": "stdout",
     "output_type": "stream",
     "text": [
      "[208500 181500 223500 ..., 266500 142125 147500]\n",
      "[ 217902.29398169  191455.07809627  241639.09621579 ...,  227836.59463235\n",
      "  142342.39576961  130347.2806873 ]\n"
     ]
    }
   ],
   "source": [
    "print(train_labels.values)\n",
    "print(train_labels_pred)"
   ]
  },
  {
   "cell_type": "code",
   "execution_count": 104,
   "metadata": {},
   "outputs": [
    {
     "name": "stdout",
     "output_type": "stream",
     "text": [
      "('RMSE on Training set :', 39264.589054881093)\n",
      "('RMSE on Test set :', 7.8916179277851933e-10)\n"
     ]
    }
   ],
   "source": [
    "# Define error measure for official scoring : RMSE\n",
    "scorer = make_scorer(mean_squared_error, greater_is_better = False)\n",
    "\n",
    "def rmse_cv_train(model):\n",
    "    rmse= np.sqrt(-cross_val_score(model, train_features, train_labels, scoring = scorer, cv = 10))\n",
    "    return(rmse)\n",
    "\n",
    "def rmse_cv_test(model):\n",
    "    rmse= np.sqrt(-cross_val_score(model, test_features, test_labels_pred, scoring = scorer, cv = 10))\n",
    "    return(rmse)\n",
    "\n",
    "# Look at predictions on training and validation set\n",
    "print(\"RMSE on Training set :\", rmse_cv_train(lr).mean())\n",
    "print(\"RMSE on Test set :\", rmse_cv_test(lr).mean())"
   ]
  },
  {
   "cell_type": "code",
   "execution_count": 105,
   "metadata": {},
   "outputs": [
    {
     "data": {
      "image/png": "[encoded data removed]",
      "text/plain": [
       "<matplotlib.figure.Figure at 0x1149dbb90>"
      ]
     },
     "metadata": {},
     "output_type": "display_data"
    }
   ],
   "source": [
    "# Plot predictions\n",
    "plt.scatter(train_features.GrLivArea, train_labels, c = \"blue\", marker = \"s\", label = \"Training data\")\n",
    "plt.scatter(train_features.GrLivArea, train_labels_pred, c = \"lightgreen\", marker = \"s\", label = \"Validation data\")\n",
    "plt.title(\"Original vs Predicted\")\n",
    "plt.xlabel(\"GrLivArea\")\n",
    "plt.ylabel(\"SalePrice\")\n",
    "plt.show()"
   ]
  }
 ],
 "metadata": {
  "kernelspec": {
   "display_name": "Python 2",
   "language": "python",
   "name": "python2"
  },
  "language_info": {
   "codemirror_mode": {
    "name": "ipython",
    "version": 2
   },
   "file_extension": ".py",
   "mimetype": "text/x-python",
   "name": "python",
   "nbconvert_exporter": "python",
   "pygments_lexer": "ipython2",
   "version": "2.7.13"
  }
 },
 "nbformat": 4,
 "nbformat_minor": 2
}
