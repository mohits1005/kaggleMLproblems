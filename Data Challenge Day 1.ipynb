{
 "cells": [
  {
   "cell_type": "code",
   "execution_count": 125,
   "metadata": {
    "collapsed": true
   },
   "outputs": [],
   "source": [
    "import numpy as np # linear algebra\n",
    "import pandas as pd # data processing, CSV file I/O (e.g. pd.read_csv)\n",
    "import seaborn as sns # data visualization library  \n",
    "import matplotlib.pyplot as plt\n",
    "%matplotlib inline"
   ]
  },
  {
   "cell_type": "code",
   "execution_count": 126,
   "metadata": {},
   "outputs": [
    {
     "name": "stdout",
     "output_type": "stream",
     "text": [
      "             Timestamp  Age  Gender         Country state self_employed  \\\n",
      "0  2014-08-27 11:29:31   37  Female   United States    IL           NaN   \n",
      "1  2014-08-27 11:29:37   44       M   United States    IN           NaN   \n",
      "2  2014-08-27 11:29:44   32    Male          Canada   NaN           NaN   \n",
      "3  2014-08-27 11:29:46   31    Male  United Kingdom   NaN           NaN   \n",
      "4  2014-08-27 11:30:22   31    Male   United States    TX           NaN   \n",
      "\n",
      "  family_history treatment work_interfere    no_employees   ...     \\\n",
      "0             No       Yes          Often            6-25   ...      \n",
      "1             No        No         Rarely  More than 1000   ...      \n",
      "2             No        No         Rarely            6-25   ...      \n",
      "3            Yes       Yes          Often          26-100   ...      \n",
      "4             No        No          Never         100-500   ...      \n",
      "\n",
      "                leave mental_health_consequence phys_health_consequence  \\\n",
      "0       Somewhat easy                        No                      No   \n",
      "1          Don't know                     Maybe                      No   \n",
      "2  Somewhat difficult                        No                      No   \n",
      "3  Somewhat difficult                       Yes                     Yes   \n",
      "4          Don't know                        No                      No   \n",
      "\n",
      "      coworkers supervisor mental_health_interview phys_health_interview  \\\n",
      "0  Some of them        Yes                      No                 Maybe   \n",
      "1            No         No                      No                    No   \n",
      "2           Yes        Yes                     Yes                   Yes   \n",
      "3  Some of them         No                   Maybe                 Maybe   \n",
      "4  Some of them        Yes                     Yes                   Yes   \n",
      "\n",
      "  mental_vs_physical obs_consequence comments  \n",
      "0                Yes              No      NaN  \n",
      "1         Don't know              No      NaN  \n",
      "2                 No              No      NaN  \n",
      "3                 No             Yes      NaN  \n",
      "4         Don't know              No      NaN  \n",
      "\n",
      "[5 rows x 27 columns]\n"
     ]
    }
   ],
   "source": [
    "train = pd.read_csv('mental-health-survey/train.csv')\n",
    "print(train.head())"
   ]
  },
  {
   "cell_type": "code",
   "execution_count": 127,
   "metadata": {},
   "outputs": [
    {
     "name": "stdout",
     "output_type": "stream",
     "text": [
      "(1259, 27)\n",
      "Index([u'Timestamp', u'Age', u'Gender', u'Country', u'state', u'self_employed',\n",
      "       u'family_history', u'treatment', u'work_interfere', u'no_employees',\n",
      "       u'remote_work', u'tech_company', u'benefits', u'care_options',\n",
      "       u'wellness_program', u'seek_help', u'anonymity', u'leave',\n",
      "       u'mental_health_consequence', u'phys_health_consequence', u'coworkers',\n",
      "       u'supervisor', u'mental_health_interview', u'phys_health_interview',\n",
      "       u'mental_vs_physical', u'obs_consequence', u'comments'],\n",
      "      dtype='object')\n"
     ]
    }
   ],
   "source": [
    "print(train.shape)\n",
    "print(train.columns)"
   ]
  },
  {
   "cell_type": "code",
   "execution_count": 128,
   "metadata": {},
   "outputs": [
    {
     "data": {
      "text/html": [
       "<div>\n",
       "<style>\n",
       "    .dataframe thead tr:only-child th {\n",
       "        text-align: right;\n",
       "    }\n",
       "\n",
       "    .dataframe thead th {\n",
       "        text-align: left;\n",
       "    }\n",
       "\n",
       "    .dataframe tbody tr th {\n",
       "        vertical-align: top;\n",
       "    }\n",
       "</style>\n",
       "<table border=\"1\" class=\"dataframe\">\n",
       "  <thead>\n",
       "    <tr style=\"text-align: right;\">\n",
       "      <th></th>\n",
       "      <th>Age</th>\n",
       "    </tr>\n",
       "  </thead>\n",
       "  <tbody>\n",
       "    <tr>\n",
       "      <th>count</th>\n",
       "      <td>1.259000e+03</td>\n",
       "    </tr>\n",
       "    <tr>\n",
       "      <th>mean</th>\n",
       "      <td>7.942815e+07</td>\n",
       "    </tr>\n",
       "    <tr>\n",
       "      <th>std</th>\n",
       "      <td>2.818299e+09</td>\n",
       "    </tr>\n",
       "    <tr>\n",
       "      <th>min</th>\n",
       "      <td>-1.726000e+03</td>\n",
       "    </tr>\n",
       "    <tr>\n",
       "      <th>25%</th>\n",
       "      <td>2.700000e+01</td>\n",
       "    </tr>\n",
       "    <tr>\n",
       "      <th>50%</th>\n",
       "      <td>3.100000e+01</td>\n",
       "    </tr>\n",
       "    <tr>\n",
       "      <th>75%</th>\n",
       "      <td>3.600000e+01</td>\n",
       "    </tr>\n",
       "    <tr>\n",
       "      <th>max</th>\n",
       "      <td>1.000000e+11</td>\n",
       "    </tr>\n",
       "  </tbody>\n",
       "</table>\n",
       "</div>"
      ],
      "text/plain": [
       "                Age\n",
       "count  1.259000e+03\n",
       "mean   7.942815e+07\n",
       "std    2.818299e+09\n",
       "min   -1.726000e+03\n",
       "25%    2.700000e+01\n",
       "50%    3.100000e+01\n",
       "75%    3.600000e+01\n",
       "max    1.000000e+11"
      ]
     },
     "execution_count": 128,
     "metadata": {},
     "output_type": "execute_result"
    }
   ],
   "source": [
    "train.describe()"
   ]
  },
  {
   "cell_type": "code",
   "execution_count": 129,
   "metadata": {},
   "outputs": [
    {
     "name": "stdout",
     "output_type": "stream",
     "text": [
      "Timestamp                       0\n",
      "Age                             0\n",
      "Gender                          0\n",
      "Country                         0\n",
      "state                         515\n",
      "self_employed                  18\n",
      "family_history                  0\n",
      "treatment                       0\n",
      "work_interfere                264\n",
      "no_employees                    0\n",
      "remote_work                     0\n",
      "tech_company                    0\n",
      "benefits                        0\n",
      "care_options                    0\n",
      "wellness_program                0\n",
      "seek_help                       0\n",
      "anonymity                       0\n",
      "leave                           0\n",
      "mental_health_consequence       0\n",
      "phys_health_consequence         0\n",
      "coworkers                       0\n",
      "supervisor                      0\n",
      "mental_health_interview         0\n",
      "phys_health_interview           0\n",
      "mental_vs_physical              0\n",
      "obs_consequence                 0\n",
      "comments                     1095\n",
      "dtype: int64\n"
     ]
    }
   ],
   "source": [
    "print(train.isnull().sum())"
   ]
  },
  {
   "cell_type": "code",
   "execution_count": 130,
   "metadata": {},
   "outputs": [
    {
     "name": "stdout",
     "output_type": "stream",
     "text": [
      "(1259, 23)\n"
     ]
    }
   ],
   "source": [
    "train = train.drop(['state','work_interfere','comments','Timestamp'],axis=1)\n",
    "print(train.shape)"
   ]
  },
  {
   "cell_type": "code",
   "execution_count": 131,
   "metadata": {},
   "outputs": [
    {
     "name": "stdout",
     "output_type": "stream",
     "text": [
      "Age                           0\n",
      "Gender                        0\n",
      "Country                       0\n",
      "self_employed                18\n",
      "family_history                0\n",
      "treatment                     0\n",
      "no_employees                  0\n",
      "remote_work                   0\n",
      "tech_company                  0\n",
      "benefits                      0\n",
      "care_options                  0\n",
      "wellness_program              0\n",
      "seek_help                     0\n",
      "anonymity                     0\n",
      "leave                         0\n",
      "mental_health_consequence     0\n",
      "phys_health_consequence       0\n",
      "coworkers                     0\n",
      "supervisor                    0\n",
      "mental_health_interview       0\n",
      "phys_health_interview         0\n",
      "mental_vs_physical            0\n",
      "obs_consequence               0\n",
      "dtype: int64\n"
     ]
    }
   ],
   "source": [
    "print(train.isnull().sum())"
   ]
  },
  {
   "cell_type": "code",
   "execution_count": 132,
   "metadata": {},
   "outputs": [
    {
     "name": "stdout",
     "output_type": "stream",
     "text": [
      "(1241, 23)\n",
      "Age                          0\n",
      "Gender                       0\n",
      "Country                      0\n",
      "self_employed                0\n",
      "family_history               0\n",
      "treatment                    0\n",
      "no_employees                 0\n",
      "remote_work                  0\n",
      "tech_company                 0\n",
      "benefits                     0\n",
      "care_options                 0\n",
      "wellness_program             0\n",
      "seek_help                    0\n",
      "anonymity                    0\n",
      "leave                        0\n",
      "mental_health_consequence    0\n",
      "phys_health_consequence      0\n",
      "coworkers                    0\n",
      "supervisor                   0\n",
      "mental_health_interview      0\n",
      "phys_health_interview        0\n",
      "mental_vs_physical           0\n",
      "obs_consequence              0\n",
      "dtype: int64\n"
     ]
    }
   ],
   "source": [
    "train = train.dropna(axis=0)\n",
    "print(train.shape)\n",
    "print(train.isnull().sum())"
   ]
  },
  {
   "cell_type": "code",
   "execution_count": 133,
   "metadata": {},
   "outputs": [
    {
     "name": "stdout",
     "output_type": "stream",
     "text": [
      "['male' 'Male' 'Female' 'female' 'M' 'm' 'Male-ish' 'maile' 'Trans-female'\n",
      " 'Cis Female' 'F' 'something kinda male?' 'Cis Male' 'Woman' 'f' 'Mal'\n",
      " 'Male (CIS)' 'queer/she/they' 'non-binary' 'Femake' 'woman' 'Make' 'Nah'\n",
      " 'All' 'Enby' 'fluid' 'Genderqueer' 'Female ' 'Androgyne' 'Agender'\n",
      " 'cis-female/femme' 'Guy (-ish) ^_^' 'male leaning androgynous' 'Male '\n",
      " 'Man' 'Trans woman' 'msle' 'Neuter' 'Female (trans)' 'queer'\n",
      " 'Female (cis)' 'Mail' 'cis male' 'A little about you' 'Malr' 'p' 'femail'\n",
      " 'Cis Man' 'ostensibly male, unsure what that really means']\n"
     ]
    }
   ],
   "source": [
    "print(train.Gender.unique())"
   ]
  },
  {
   "cell_type": "code",
   "execution_count": 134,
   "metadata": {
    "collapsed": true
   },
   "outputs": [],
   "source": [
    "train[\"Gender_new\"] = train[\"Gender\"].apply(lambda x: 3 if \"trans\" in x.lower() or \"queer\" in x.lower() else 2 if \"female\" in x.lower() or \"f\" == x.lower() or \"femail\" in x.lower() or \"femake\" in x.lower() else 1 if \"male\" in x.lower() or \"m\" in x.lower() or \"mail\" in x.lower() or \"msle\" in x.lower() or \"malr\" in x.lower() or \"man\" in x.lower() else 3)"
   ]
  },
  {
   "cell_type": "code",
   "execution_count": 135,
   "metadata": {},
   "outputs": [
    {
     "name": "stdout",
     "output_type": "stream",
     "text": [
      "[1 2 3]\n"
     ]
    }
   ],
   "source": [
    "print(train[\"Gender_new\"].unique())"
   ]
  },
  {
   "cell_type": "code",
   "execution_count": 136,
   "metadata": {},
   "outputs": [
    {
     "name": "stdout",
     "output_type": "stream",
     "text": [
      "['United States' 'France' 'United Kingdom' 'Canada' 'Portugal'\n",
      " 'Netherlands' 'Switzerland' 'Poland' 'Australia' 'Germany' 'Russia'\n",
      " 'Mexico' 'Brazil' 'Slovenia' 'Costa Rica' 'Austria' 'Ireland' 'India'\n",
      " 'South Africa' 'Italy' 'Bulgaria' 'Sweden' 'Colombia' 'Latvia' 'Romania'\n",
      " 'Belgium' 'New Zealand' 'Zimbabwe' 'Spain' 'Finland' 'Uruguay' 'Israel'\n",
      " 'Bosnia and Herzegovina' 'Hungary' 'Singapore' 'Japan' 'Nigeria' 'Croatia'\n",
      " 'Norway' 'Thailand' 'Denmark' 'Bahamas, The' 'Greece' 'Moldova' 'Georgia'\n",
      " 'China' 'Czech Republic' 'Philippines']\n"
     ]
    }
   ],
   "source": [
    "print(train[\"Country\"].unique())"
   ]
  },
  {
   "cell_type": "code",
   "execution_count": 137,
   "metadata": {},
   "outputs": [
    {
     "name": "stdout",
     "output_type": "stream",
     "text": [
      "[0, 1, 2, 3, 4, 5, 6, 7, 8, 9, 10, 11, 12, 13, 14, 15, 16, 17, 18, 19, 20, 21, 22, 23, 24, 25, 26, 27, 28, 29, 30, 31, 32, 33, 34, 35, 36, 37, 38, 39, 40, 41, 42, 43, 44, 45, 46, 47, 48, 49]\n"
     ]
    }
   ],
   "source": [
    "print(range(50))"
   ]
  },
  {
   "cell_type": "code",
   "execution_count": 138,
   "metadata": {
    "collapsed": true
   },
   "outputs": [],
   "source": [
    "train[\"Country_new\"] = train[\"Country\"].replace(['United States', 'France', 'United Kingdom', 'Canada', 'Portugal','Netherlands', 'Switzerland', 'Poland', 'Australia', 'Germany', 'Russia','Mexico', 'Brazil', 'Slovenia', 'Costa Rica', 'Austria', 'Ireland', 'India','South Africa', 'Italy', 'Bulgaria', 'Sweden', 'Colombia', 'Latvia', 'Romania','Belgium', 'New Zealand', 'Zimbabwe', 'Spain', 'Finland', 'Uruguay', 'Israel','Bosnia and Herzegovina', 'Hungary', 'Singapore', 'Japan', 'Nigeria', 'Croatia','Norway', 'Thailand', 'Denmark', 'Bahamas, The', 'Greece', 'Moldova', 'Georgia','China', 'Czech Republic', 'Philippines'],[1, 2, 3, 4, 5, 6, 7, 8, 9, 10, 11, 12, 13, 14, 15, 16, 17, 18, 19, 20, 21, 22, 23, 24, 25, 26, 27, 28, 29, 30, 31, 32, 33, 34, 35, 36, 37, 38, 39, 40, 41, 42, 43, 44, 45, 46, 47, 48])"
   ]
  },
  {
   "cell_type": "code",
   "execution_count": 139,
   "metadata": {},
   "outputs": [
    {
     "name": "stdout",
     "output_type": "stream",
     "text": [
      "[ 1  2  3  4  5  6  7  8  9 10 11 12 13 14 15 16 17 18 19 20 21 22 23 24 25\n",
      " 26 27 28 29 30 31 32 33 34 35 36 37 38 39 40 41 42 43 44 45 46 47 48]\n"
     ]
    }
   ],
   "source": [
    "print(train[\"Country_new\"].unique())"
   ]
  },
  {
   "cell_type": "code",
   "execution_count": 140,
   "metadata": {},
   "outputs": [
    {
     "name": "stdout",
     "output_type": "stream",
     "text": [
      "[1 2]\n"
     ]
    }
   ],
   "source": [
    "train[\"self_employed\"].unique()\n",
    "train[\"self_employed_new\"] = train[\"self_employed\"].replace(['Yes', 'No'],[1,2])\n",
    "print(train[\"self_employed_new\"].unique())"
   ]
  },
  {
   "cell_type": "code",
   "execution_count": 141,
   "metadata": {},
   "outputs": [
    {
     "name": "stdout",
     "output_type": "stream",
     "text": [
      "['Yes' 'No']\n",
      "[1 2]\n"
     ]
    }
   ],
   "source": [
    "print(train[\"family_history\"].unique())\n",
    "train[\"family_history_new\"] = train[\"family_history\"].replace(['Yes', 'No'],[1,2])\n",
    "print(train[\"family_history_new\"].unique())"
   ]
  },
  {
   "cell_type": "code",
   "execution_count": 142,
   "metadata": {},
   "outputs": [
    {
     "name": "stdout",
     "output_type": "stream",
     "text": [
      "['No' 'Yes']\n",
      "[2 1]\n"
     ]
    }
   ],
   "source": [
    "print(train[\"treatment\"].unique())\n",
    "train[\"treatment_new\"] = train[\"treatment\"].replace(['Yes', 'No'],[1,2])\n",
    "print(train[\"treatment_new\"].unique())"
   ]
  },
  {
   "cell_type": "code",
   "execution_count": 143,
   "metadata": {},
   "outputs": [
    {
     "name": "stdout",
     "output_type": "stream",
     "text": [
      "['1-5' '6-25' '100-500' '26-100' 'More than 1000' '500-1000']\n",
      "[1 2 3 4 5 6]\n"
     ]
    }
   ],
   "source": [
    "print(train[\"no_employees\"].unique())\n",
    "train[\"no_employees_new\"] = train[\"no_employees\"].replace(['1-5', '6-25', '100-500', '26-100', 'More than 1000', '500-1000'],[1,2,3,4,5,6])\n",
    "print(train[\"no_employees_new\"].unique())"
   ]
  },
  {
   "cell_type": "code",
   "execution_count": 144,
   "metadata": {},
   "outputs": [
    {
     "name": "stdout",
     "output_type": "stream",
     "text": [
      "['Yes' 'No']\n",
      "[1 2]\n"
     ]
    }
   ],
   "source": [
    "print(train[\"remote_work\"].unique())\n",
    "train[\"remote_work_new\"] = train[\"remote_work\"].replace(['Yes', 'No'],[1,2])\n",
    "print(train[\"remote_work_new\"].unique())"
   ]
  },
  {
   "cell_type": "code",
   "execution_count": 145,
   "metadata": {},
   "outputs": [
    {
     "name": "stdout",
     "output_type": "stream",
     "text": [
      "['Yes' 'No']\n",
      "[1 2]\n"
     ]
    }
   ],
   "source": [
    "print(train[\"tech_company\"].unique())\n",
    "train[\"tech_company_new\"] = train[\"tech_company\"].replace(['Yes', 'No'],[1,2])\n",
    "print(train[\"tech_company_new\"].unique())"
   ]
  },
  {
   "cell_type": "code",
   "execution_count": 146,
   "metadata": {},
   "outputs": [
    {
     "name": "stdout",
     "output_type": "stream",
     "text": [
      "['Yes' 'No' \"Don't know\"]\n",
      "[1 2]\n"
     ]
    }
   ],
   "source": [
    "print(train[\"benefits\"].unique())\n",
    "train[\"benefits_new\"] = train[\"benefits\"].replace(['Yes', 'No', \"Don't know\"],[1,2,2])\n",
    "print(train[\"benefits_new\"].unique())"
   ]
  },
  {
   "cell_type": "code",
   "execution_count": 147,
   "metadata": {},
   "outputs": [
    {
     "name": "stdout",
     "output_type": "stream",
     "text": [
      "['Not sure' 'No' 'Yes']\n",
      "[2 1]\n"
     ]
    }
   ],
   "source": [
    "print(train[\"care_options\"].unique())\n",
    "train[\"care_options_new\"] = train[\"care_options\"].replace(['Yes', 'No', \"Not sure\"],[1,2,2])\n",
    "print(train[\"care_options_new\"].unique())"
   ]
  },
  {
   "cell_type": "code",
   "execution_count": 148,
   "metadata": {},
   "outputs": [
    {
     "name": "stdout",
     "output_type": "stream",
     "text": [
      "['Yes' 'No' \"Don't know\"]\n",
      "[1 2]\n"
     ]
    }
   ],
   "source": [
    "print(train[\"wellness_program\"].unique())\n",
    "train[\"wellness_program_new\"] = train[\"wellness_program\"].replace(['Yes', 'No', \"Don't know\"],[1,2,2])\n",
    "print(train[\"wellness_program_new\"].unique())"
   ]
  },
  {
   "cell_type": "code",
   "execution_count": 149,
   "metadata": {},
   "outputs": [
    {
     "name": "stdout",
     "output_type": "stream",
     "text": [
      "[\"Don't know\" 'No' 'Yes']\n",
      "[2 1]\n"
     ]
    }
   ],
   "source": [
    "print(train[\"seek_help\"].unique())\n",
    "train[\"seek_help_new\"] = train[\"seek_help\"].replace(['Yes', 'No', \"Don't know\"],[1,2,2])\n",
    "print(train[\"seek_help_new\"].unique())"
   ]
  },
  {
   "cell_type": "code",
   "execution_count": 150,
   "metadata": {},
   "outputs": [
    {
     "name": "stdout",
     "output_type": "stream",
     "text": [
      "['Yes' 'No' \"Don't know\"]\n",
      "[1 2]\n"
     ]
    }
   ],
   "source": [
    "print(train[\"anonymity\"].unique())\n",
    "train[\"anonymity_new\"] = train[\"anonymity\"].replace(['Yes', 'No', \"Don't know\"],[1,2,2])\n",
    "print(train[\"anonymity_new\"].unique())"
   ]
  },
  {
   "cell_type": "code",
   "execution_count": 151,
   "metadata": {},
   "outputs": [
    {
     "name": "stdout",
     "output_type": "stream",
     "text": [
      "['Very easy' 'Somewhat easy' 'Somewhat difficult' \"Don't know\"\n",
      " 'Very difficult']\n",
      "[1 2]\n"
     ]
    }
   ],
   "source": [
    "print(train[\"leave\"].unique())\n",
    "train[\"leave_new\"] = train[\"leave\"].replace(['Very easy', 'Somewhat easy', \"Somewhat difficult\", \"Don't know\", \"Very difficult\"],[1,1,2,2,2])\n",
    "print(train[\"leave_new\"].unique())"
   ]
  },
  {
   "cell_type": "code",
   "execution_count": 152,
   "metadata": {},
   "outputs": [
    {
     "name": "stdout",
     "output_type": "stream",
     "text": [
      "['No' 'Maybe' 'Yes']\n",
      "[2 3 1]\n"
     ]
    }
   ],
   "source": [
    "print(train[\"mental_health_consequence\"].unique())\n",
    "train[\"mental_health_consequence_new\"] = train[\"mental_health_consequence\"].replace(['Yes', 'No', \"Maybe\"],[1,2,3])\n",
    "print(train[\"mental_health_consequence_new\"].unique())"
   ]
  },
  {
   "cell_type": "code",
   "execution_count": 153,
   "metadata": {},
   "outputs": [
    {
     "name": "stdout",
     "output_type": "stream",
     "text": [
      "['No' 'Maybe' 'Yes']\n",
      "[2 3 1]\n"
     ]
    }
   ],
   "source": [
    "print(train[\"phys_health_consequence\"].unique())\n",
    "train[\"phys_health_consequence_new\"] = train[\"phys_health_consequence\"].replace(['Yes', 'No', \"Maybe\"],[1,2,3])\n",
    "print(train[\"phys_health_consequence_new\"].unique())"
   ]
  },
  {
   "cell_type": "code",
   "execution_count": 154,
   "metadata": {},
   "outputs": [
    {
     "name": "stdout",
     "output_type": "stream",
     "text": [
      "['Yes' 'Some of them' 'No']\n",
      "[1 3 2]\n"
     ]
    }
   ],
   "source": [
    "print(train[\"coworkers\"].unique())\n",
    "train[\"coworkers_new\"] = train[\"coworkers\"].replace(['Yes', 'No', \"Some of them\"],[1,2,3])\n",
    "print(train[\"coworkers_new\"].unique())"
   ]
  },
  {
   "cell_type": "code",
   "execution_count": 155,
   "metadata": {},
   "outputs": [
    {
     "name": "stdout",
     "output_type": "stream",
     "text": [
      "['Yes' 'Some of them' 'No']\n",
      "[1 3 2]\n"
     ]
    }
   ],
   "source": [
    "print(train[\"supervisor\"].unique())\n",
    "train[\"supervisor_new\"] = train[\"supervisor\"].replace(['Yes', 'No', \"Some of them\"],[1,2,3])\n",
    "print(train[\"supervisor_new\"].unique())"
   ]
  },
  {
   "cell_type": "code",
   "execution_count": 156,
   "metadata": {},
   "outputs": [
    {
     "name": "stdout",
     "output_type": "stream",
     "text": [
      "['No' 'Maybe' 'Yes']\n",
      "[2 1]\n"
     ]
    }
   ],
   "source": [
    "print(train[\"mental_health_interview\"].unique())\n",
    "train[\"mental_health_interview_new\"] = train[\"mental_health_interview\"].replace(['Yes', 'No', \"Maybe\"],[1,2,2])\n",
    "print(train[\"mental_health_interview_new\"].unique())"
   ]
  },
  {
   "cell_type": "code",
   "execution_count": 157,
   "metadata": {},
   "outputs": [
    {
     "name": "stdout",
     "output_type": "stream",
     "text": [
      "['Yes' 'Maybe' 'No']\n",
      "[1 2]\n"
     ]
    }
   ],
   "source": [
    "print(train[\"phys_health_interview\"].unique())\n",
    "train[\"phys_health_interview_new\"] = train[\"phys_health_interview\"].replace(['Yes', 'No', \"Maybe\"],[1,2,2])\n",
    "print(train[\"phys_health_interview_new\"].unique())"
   ]
  },
  {
   "cell_type": "code",
   "execution_count": 158,
   "metadata": {},
   "outputs": [
    {
     "name": "stdout",
     "output_type": "stream",
     "text": [
      "['Yes' \"Don't know\" 'No']\n",
      "[1 2]\n"
     ]
    }
   ],
   "source": [
    "print(train[\"mental_vs_physical\"].unique())\n",
    "train[\"mental_vs_physical_new\"] = train[\"mental_vs_physical\"].replace(['Yes', 'No', \"Don't know\"],[1,2,2])\n",
    "print(train[\"mental_vs_physical_new\"].unique())"
   ]
  },
  {
   "cell_type": "code",
   "execution_count": 159,
   "metadata": {},
   "outputs": [
    {
     "name": "stdout",
     "output_type": "stream",
     "text": [
      "['Yes' 'No']\n",
      "[1 2]\n"
     ]
    }
   ],
   "source": [
    "print(train[\"obs_consequence\"].unique())\n",
    "train[\"obs_consequence_new\"] = train[\"obs_consequence\"].replace(['Yes', 'No'],[1,2])\n",
    "print(train[\"obs_consequence_new\"].unique())"
   ]
  },
  {
   "cell_type": "code",
   "execution_count": 160,
   "metadata": {},
   "outputs": [
    {
     "name": "stdout",
     "output_type": "stream",
     "text": [
      "(1241, 22)\n",
      "    obs_consequence_new  mental_vs_physical_new  phys_health_interview_new  \\\n",
      "18                    1                       1                          1   \n",
      "19                    2                       2                          2   \n",
      "20                    2                       2                          2   \n",
      "21                    2                       1                          2   \n",
      "22                    2                       2                          2   \n",
      "\n",
      "    mental_health_interview_new  supervisor_new  coworkers_new  \\\n",
      "18                            2               1              1   \n",
      "19                            2               3              3   \n",
      "20                            2               3              3   \n",
      "21                            2               3              3   \n",
      "22                            2               1              3   \n",
      "\n",
      "    phys_health_consequence_new  mental_health_consequence_new  leave_new  \\\n",
      "18                            2                              2          1   \n",
      "19                            2                              2          1   \n",
      "20                            2                              3          2   \n",
      "21                            2                              2          2   \n",
      "22                            2                              3          2   \n",
      "\n",
      "    anonymity_new     ...      care_options_new  benefits_new  \\\n",
      "18              1     ...                     2             1   \n",
      "19              1     ...                     2             2   \n",
      "20              2     ...                     1             1   \n",
      "21              1     ...                     2             2   \n",
      "22              2     ...                     1             1   \n",
      "\n",
      "    tech_company_new  remote_work_new  no_employees_new  treatment_new  \\\n",
      "18                 1                1                 1              2   \n",
      "19                 1                1                 2              2   \n",
      "20                 1                2                 3              1   \n",
      "21                 1                1                 1              2   \n",
      "22                 1                1                 4              1   \n",
      "\n",
      "    family_history_new  self_employed_new  Country_new  Gender_new  \n",
      "18                   1                  1            1           1  \n",
      "19                   1                  1            2           1  \n",
      "20                   1                  2            1           1  \n",
      "21                   2                  1            1           1  \n",
      "22                   2                  2            1           1  \n",
      "\n",
      "[5 rows x 22 columns]\n"
     ]
    }
   ],
   "source": [
    "new_train = train[['obs_consequence_new','mental_vs_physical_new','phys_health_interview_new','mental_health_interview_new','supervisor_new','coworkers_new','phys_health_consequence_new','mental_health_consequence_new','leave_new','anonymity_new','seek_help_new','wellness_program_new','care_options_new','benefits_new','tech_company_new','remote_work_new','no_employees_new','treatment_new','family_history_new','self_employed_new','Country_new','Gender_new']]\n",
    "print(new_train.shape)\n",
    "print(new_train.head())"
   ]
  },
  {
   "cell_type": "code",
   "execution_count": 161,
   "metadata": {},
   "outputs": [
    {
     "name": "stdout",
     "output_type": "stream",
     "text": [
      "(1241,)\n",
      "(1241, 21)\n"
     ]
    }
   ],
   "source": [
    "label = new_train['treatment_new']\n",
    "original = new_train\n",
    "print(label.shape)\n",
    "new_train = new_train.drop(['treatment_new'],axis=1)\n",
    "print(new_train.shape)"
   ]
  },
  {
   "cell_type": "code",
   "execution_count": 162,
   "metadata": {},
   "outputs": [
    {
     "data": {
      "text/plain": [
       "<matplotlib.axes._subplots.AxesSubplot at 0x10fb5e7d0>"
      ]
     },
     "execution_count": 162,
     "metadata": {},
     "output_type": "execute_result"
    },
    {
     "data": {
      "image/png": "[encoded data removed]",
      "text/plain": [
       "<matplotlib.figure.Figure at 0x10fb7dd90>"
      ]
     },
     "metadata": {},
     "output_type": "display_data"
    }
   ],
   "source": [
    "sns.heatmap(new_train.corr())"
   ]
  },
  {
   "cell_type": "code",
   "execution_count": 163,
   "metadata": {},
   "outputs": [
    {
     "name": "stdout",
     "output_type": "stream",
     "text": [
      "    obs_consequence_new  mental_vs_physical_new  phys_health_interview_new  \\\n",
      "18                    1                       1                          1   \n",
      "19                    2                       2                          2   \n",
      "20                    2                       2                          2   \n",
      "21                    2                       1                          2   \n",
      "22                    2                       2                          2   \n",
      "\n",
      "    mental_health_interview_new  supervisor_new  coworkers_new  \\\n",
      "18                            2               1              1   \n",
      "19                            2               3              3   \n",
      "20                            2               3              3   \n",
      "21                            2               3              3   \n",
      "22                            2               1              3   \n",
      "\n",
      "    phys_health_consequence_new  mental_health_consequence_new  leave_new  \\\n",
      "18                            2                              2          1   \n",
      "19                            2                              2          1   \n",
      "20                            2                              3          2   \n",
      "21                            2                              2          2   \n",
      "22                            2                              3          2   \n",
      "\n",
      "    anonymity_new     ...      wellness_program_new  care_options_new  \\\n",
      "18              1     ...                         1                 2   \n",
      "19              1     ...                         1                 2   \n",
      "20              2     ...                         2                 1   \n",
      "21              1     ...                         2                 2   \n",
      "22              2     ...                         2                 1   \n",
      "\n",
      "    benefits_new  tech_company_new  remote_work_new  no_employees_new  \\\n",
      "18             1                 1                1                 1   \n",
      "19             2                 1                1                 2   \n",
      "20             1                 1                2                 3   \n",
      "21             2                 1                1                 1   \n",
      "22             1                 1                1                 4   \n",
      "\n",
      "    family_history_new  self_employed_new  Country_new  Gender_new  \n",
      "18                   1                  1            1           1  \n",
      "19                   1                  1            2           1  \n",
      "20                   1                  2            1           1  \n",
      "21                   2                  1            1           1  \n",
      "22                   2                  2            1           1  \n",
      "\n",
      "[5 rows x 21 columns]\n"
     ]
    }
   ],
   "source": [
    "print(new_train.head())"
   ]
  },
  {
   "cell_type": "code",
   "execution_count": 164,
   "metadata": {},
   "outputs": [
    {
     "name": "stdout",
     "output_type": "stream",
     "text": [
      "    obs_consequence_new  mental_vs_physical_new  phys_health_interview_new  \\\n",
      "18            -2.411222               -1.627226                  -2.294217   \n",
      "19             0.414393                0.614048                   0.435527   \n",
      "20             0.414393                0.614048                   0.435527   \n",
      "21             0.414393               -1.627226                   0.435527   \n",
      "22             0.414393                0.614048                   0.435527   \n",
      "\n",
      "    mental_health_interview_new  supervisor_new  coworkers_new  \\\n",
      "18                     0.184768       -1.065639      -1.866973   \n",
      "19                     0.184768        1.374320       0.721757   \n",
      "20                     0.184768        1.374320       0.721757   \n",
      "21                     0.184768        1.374320       0.721757   \n",
      "22                     0.184768       -1.065639       0.721757   \n",
      "\n",
      "    phys_health_consequence_new  mental_health_consequence_new  leave_new  \\\n",
      "18                    -0.352224                      -0.190448  -1.284671   \n",
      "19                    -0.352224                      -0.190448  -1.284671   \n",
      "20                    -0.352224                       1.108154   0.777782   \n",
      "21                    -0.352224                      -0.190448   0.777782   \n",
      "22                    -0.352224                       1.108154   0.777782   \n",
      "\n",
      "    anonymity_new     ...      wellness_program_new  care_options_new  \\\n",
      "18      -1.524861     ...                 -2.101346          0.739554   \n",
      "19      -1.524861     ...                 -2.101346          0.739554   \n",
      "20       0.655269     ...                  0.475502         -1.351076   \n",
      "21      -1.524861     ...                  0.475502          0.739554   \n",
      "22       0.655269     ...                  0.475502         -1.351076   \n",
      "\n",
      "    benefits_new  tech_company_new  remote_work_new  no_employees_new  \\\n",
      "18     -1.280275         -0.471679        -1.533674         -1.577902   \n",
      "19      0.780453         -0.471679        -1.533674         -0.902902   \n",
      "20     -1.280275         -0.471679         0.651503         -0.227901   \n",
      "21      0.780453         -0.471679        -1.533674         -1.577902   \n",
      "22     -1.280275         -0.471679        -1.533674          0.447099   \n",
      "\n",
      "    family_history_new  self_employed_new  Country_new  Gender_new  \n",
      "18           -1.248001          -2.737509    -0.463524   -0.492211  \n",
      "19           -1.248001          -2.737509    -0.328998   -0.492211  \n",
      "20           -1.248001           0.365001    -0.463524   -0.492211  \n",
      "21            0.800636          -2.737509    -0.463524   -0.492211  \n",
      "22            0.800636           0.365001    -0.463524   -0.492211  \n",
      "\n",
      "[5 rows x 21 columns]\n"
     ]
    }
   ],
   "source": [
    "data_n_3 = (new_train - new_train.mean()) / (new_train.std())\n",
    "print(data_n_3.head())"
   ]
  },
  {
   "cell_type": "code",
   "execution_count": 165,
   "metadata": {},
   "outputs": [
    {
     "name": "stdout",
     "output_type": "stream",
     "text": [
      "    obs_consequence_new  mental_vs_physical_new  phys_health_interview_new  \\\n",
      "18            -2.411222               -1.627226                  -2.294217   \n",
      "19             0.414393                0.614048                   0.435527   \n",
      "20             0.414393                0.614048                   0.435527   \n",
      "21             0.414393               -1.627226                   0.435527   \n",
      "22             0.414393                0.614048                   0.435527   \n",
      "\n",
      "    mental_health_interview_new  supervisor_new  coworkers_new  \\\n",
      "18                     0.184768       -1.065639      -1.866973   \n",
      "19                     0.184768        1.374320       0.721757   \n",
      "20                     0.184768        1.374320       0.721757   \n",
      "21                     0.184768        1.374320       0.721757   \n",
      "22                     0.184768       -1.065639       0.721757   \n",
      "\n",
      "    phys_health_consequence_new  mental_health_consequence_new  leave_new  \\\n",
      "18                    -0.352224                      -0.190448  -1.284671   \n",
      "19                    -0.352224                      -0.190448  -1.284671   \n",
      "20                    -0.352224                       1.108154   0.777782   \n",
      "21                    -0.352224                      -0.190448   0.777782   \n",
      "22                    -0.352224                       1.108154   0.777782   \n",
      "\n",
      "    anonymity_new  \n",
      "18      -1.524861  \n",
      "19      -1.524861  \n",
      "20       0.655269  \n",
      "21      -1.524861  \n",
      "22       0.655269  \n"
     ]
    }
   ],
   "source": [
    "data_n_4 = data_n_3.iloc[:,0:10]\n",
    "print(data_n_4.head())"
   ]
  },
  {
   "cell_type": "code",
   "execution_count": 167,
   "metadata": {},
   "outputs": [
    {
     "name": "stdout",
     "output_type": "stream",
     "text": [
      "    treatment_new  obs_consequence_new  mental_vs_physical_new  \\\n",
      "18              2            -2.411222               -1.627226   \n",
      "19              2             0.414393                0.614048   \n",
      "20              1             0.414393                0.614048   \n",
      "21              2             0.414393               -1.627226   \n",
      "22              1             0.414393                0.614048   \n",
      "\n",
      "    phys_health_interview_new  mental_health_interview_new  supervisor_new  \\\n",
      "18                  -2.294217                     0.184768       -1.065639   \n",
      "19                   0.435527                     0.184768        1.374320   \n",
      "20                   0.435527                     0.184768        1.374320   \n",
      "21                   0.435527                     0.184768        1.374320   \n",
      "22                   0.435527                     0.184768       -1.065639   \n",
      "\n",
      "    coworkers_new  phys_health_consequence_new  mental_health_consequence_new  \\\n",
      "18      -1.866973                    -0.352224                      -0.190448   \n",
      "19       0.721757                    -0.352224                      -0.190448   \n",
      "20       0.721757                    -0.352224                       1.108154   \n",
      "21       0.721757                    -0.352224                      -0.190448   \n",
      "22       0.721757                    -0.352224                       1.108154   \n",
      "\n",
      "    leave_new  anonymity_new  \n",
      "18  -1.284671      -1.524861  \n",
      "19  -1.284671      -1.524861  \n",
      "20   0.777782       0.655269  \n",
      "21   0.777782      -1.524861  \n",
      "22   0.777782       0.655269  \n"
     ]
    }
   ],
   "source": [
    "data_n_5 = pd.concat([label,data_n_3.iloc[:,0:10]],axis=1)\n",
    "print(data_n_5.head())"
   ]
  },
  {
   "cell_type": "code",
   "execution_count": 168,
   "metadata": {},
   "outputs": [
    {
     "name": "stdout",
     "output_type": "stream",
     "text": [
      "(1241, 11)\n"
     ]
    }
   ],
   "source": [
    "print(data_n_5.shape)"
   ]
  },
  {
   "cell_type": "code",
   "execution_count": 171,
   "metadata": {},
   "outputs": [
    {
     "name": "stdout",
     "output_type": "stream",
     "text": [
      "    treatment_new  obs_consequence_new  mental_vs_physical_new  \\\n",
      "18              2            -2.411222               -1.627226   \n",
      "19              2             0.414393                0.614048   \n",
      "20              1             0.414393                0.614048   \n",
      "21              2             0.414393               -1.627226   \n",
      "22              1             0.414393                0.614048   \n",
      "\n",
      "    phys_health_interview_new  mental_health_interview_new  supervisor_new  \\\n",
      "18                  -2.294217                     0.184768       -1.065639   \n",
      "19                   0.435527                     0.184768        1.374320   \n",
      "20                   0.435527                     0.184768        1.374320   \n",
      "21                   0.435527                     0.184768        1.374320   \n",
      "22                   0.435527                     0.184768       -1.065639   \n",
      "\n",
      "    coworkers_new  phys_health_consequence_new  mental_health_consequence_new  \\\n",
      "18      -1.866973                    -0.352224                      -0.190448   \n",
      "19       0.721757                    -0.352224                      -0.190448   \n",
      "20       0.721757                    -0.352224                       1.108154   \n",
      "21       0.721757                    -0.352224                      -0.190448   \n",
      "22       0.721757                    -0.352224                       1.108154   \n",
      "\n",
      "    leave_new  anonymity_new  \n",
      "18  -1.284671      -1.524861  \n",
      "19  -1.284671      -1.524861  \n",
      "20   0.777782       0.655269  \n",
      "21   0.777782      -1.524861  \n",
      "22   0.777782       0.655269  \n"
     ]
    }
   ],
   "source": [
    "data_dia = label\n",
    "#standardise\n",
    "data_n_2 = (new_train - new_train.mean()) / (new_train.std())  \n",
    "data = pd.concat([label,data_n_2.iloc[:,0:10]],axis=1)\n",
    "print(data.head())"
   ]
  },
  {
   "cell_type": "code",
   "execution_count": 172,
   "metadata": {},
   "outputs": [
    {
     "data": {
      "image/png": "[encoded data removed]",
      "text/plain": [
       "<matplotlib.figure.Figure at 0x10fb4f710>"
      ]
     },
     "metadata": {},
     "output_type": "display_data"
    }
   ],
   "source": [
    "data = pd.melt(data,id_vars=\"treatment_new\",\n",
    "                    var_name=\"features\",\n",
    "                    value_name='value')\n",
    "plt.figure(figsize=(10,10))\n",
    "sns.violinplot(x=\"features\", y=\"value\", hue=\"treatment_new\", data=data,split=True, inner=\"quart\")\n",
    "plt.xticks(rotation=90)\n",
    "plt.show()"
   ]
  },
  {
   "cell_type": "code",
   "execution_count": 181,
   "metadata": {},
   "outputs": [
    {
     "name": "stdout",
     "output_type": "stream",
     "text": [
      "    treatment_new  wellness_program_new  care_options_new  benefits_new  \\\n",
      "18              2             -2.101346          0.739554     -1.280275   \n",
      "19              2             -2.101346          0.739554      0.780453   \n",
      "20              1              0.475502         -1.351076     -1.280275   \n",
      "21              2              0.475502          0.739554      0.780453   \n",
      "22              1              0.475502         -1.351076     -1.280275   \n",
      "\n",
      "    tech_company_new  remote_work_new  no_employees_new  family_history_new  \\\n",
      "18         -0.471679        -1.533674         -1.577902           -1.248001   \n",
      "19         -0.471679        -1.533674         -0.902902           -1.248001   \n",
      "20         -0.471679         0.651503         -0.227901           -1.248001   \n",
      "21         -0.471679        -1.533674         -1.577902            0.800636   \n",
      "22         -0.471679        -1.533674          0.447099            0.800636   \n",
      "\n",
      "    self_employed_new  Country_new  Gender_new  \n",
      "18          -2.737509    -0.463524   -0.492211  \n",
      "19          -2.737509    -0.328998   -0.492211  \n",
      "20           0.365001    -0.463524   -0.492211  \n",
      "21          -2.737509    -0.463524   -0.492211  \n",
      "22           0.365001    -0.463524   -0.492211  \n"
     ]
    }
   ],
   "source": [
    "data = pd.concat([label,data_n_2.iloc[:,11:21]],axis=1)\n",
    "print(data.head())"
   ]
  },
  {
   "cell_type": "code",
   "execution_count": 182,
   "metadata": {},
   "outputs": [
    {
     "data": {
      "image/png": "[encoded data removed]",
      "text/plain": [
       "<matplotlib.figure.Figure at 0x10fdcc610>"
      ]
     },
     "metadata": {},
     "output_type": "display_data"
    }
   ],
   "source": [
    "data = pd.melt(data,id_vars=\"treatment_new\",\n",
    "                    var_name=\"features\",\n",
    "                    value_name='value')\n",
    "plt.figure(figsize=(10,10))\n",
    "sns.violinplot(x=\"features\", y=\"value\", hue=\"treatment_new\", data=data,split=True, inner=\"quart\")\n",
    "plt.xticks(rotation=90)\n",
    "plt.show()"
   ]
  }
 ],
 "metadata": {
  "kernelspec": {
   "display_name": "Python 2",
   "language": "python",
   "name": "python2"
  },
  "language_info": {
   "codemirror_mode": {
    "name": "ipython",
    "version": 2
   },
   "file_extension": ".py",
   "mimetype": "text/x-python",
   "name": "python",
   "nbconvert_exporter": "python",
   "pygments_lexer": "ipython2",
   "version": "2.7.13"
  }
 },
 "nbformat": 4,
 "nbformat_minor": 2
}
