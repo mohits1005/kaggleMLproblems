{
 "cells": [
  {
   "cell_type": "code",
   "execution_count": 3,
   "metadata": {
    "collapsed": true
   },
   "outputs": [],
   "source": [
    "# Import the pandas package, then use the \"read_csv\" function to read\n",
    "# the labeled training data\n",
    "import pandas as pd       \n",
    "train = pd.read_csv(\"insult/train.csv\", header=0)"
   ]
  },
  {
   "cell_type": "code",
   "execution_count": 4,
   "metadata": {},
   "outputs": [
    {
     "name": "stdout",
     "output_type": "stream",
     "text": [
      "(3947, 3)\n",
      "['Insult' 'Date' 'Comment']\n",
      "   Insult             Date                                            Comment\n",
      "0       1  20120618192155Z                               \"You fuck your dad.\"\n",
      "1       0  20120528192215Z  \"i really don't understand your point.\\xa0 It ...\n",
      "2       0              NaN  \"A\\\\xc2\\\\xa0majority of Canadians can and has ...\n",
      "3       0              NaN  \"listen if you dont wanna get married to a man...\n",
      "4       0  20120619094753Z  \"C\\xe1c b\\u1ea1n xu\\u1ed1ng \\u0111\\u01b0\\u1edd...\n",
      "            Insult\n",
      "count  3947.000000\n",
      "mean      0.265771\n",
      "std       0.441799\n",
      "min       0.000000\n",
      "25%       0.000000\n",
      "50%       0.000000\n",
      "75%       1.000000\n",
      "max       1.000000\n"
     ]
    }
   ],
   "source": [
    "print(train.shape)\n",
    "print(train.columns.values)\n",
    "print(train.head())\n",
    "print(train.describe())"
   ]
  },
  {
   "cell_type": "code",
   "execution_count": 5,
   "metadata": {},
   "outputs": [
    {
     "name": "stdout",
     "output_type": "stream",
     "text": [
      "\"You fuck your dad.\"\n"
     ]
    }
   ],
   "source": [
    "print(train.Comment[0])"
   ]
  },
  {
   "cell_type": "code",
   "execution_count": 8,
   "metadata": {
    "collapsed": true
   },
   "outputs": [],
   "source": [
    "from bs4 import BeautifulSoup\n",
    "import re\n",
    "import nltk\n",
    "from nltk.corpus import stopwords # Import the stop word list\n",
    "def comment_to_words( raw_comment ):\n",
    "    # Function to convert a raw review to a string of words\n",
    "    # The input is a single string (a raw movie review), and \n",
    "    # the output is a single string (a preprocessed movie review)\n",
    "    #\n",
    "    # 1. Remove HTML\n",
    "    comment_text = BeautifulSoup(raw_comment).get_text() \n",
    "    #\n",
    "    # 2. Remove non-letters        \n",
    "    letters_only = re.sub(\"[^a-zA-Z]\", \" \", comment_text) \n",
    "    #\n",
    "    # 3. Convert to lower case, split into individual words\n",
    "    words = letters_only.lower().split()                             \n",
    "    #\n",
    "    # 4. In Python, searching a set is much faster than searching\n",
    "    #   a list, so convert the stop words to a set\n",
    "    stops = set(stopwords.words(\"english\"))                  \n",
    "    # \n",
    "    # 5. Remove stop words\n",
    "    meaningful_words = [w for w in words if not w in stops]   \n",
    "    #\n",
    "    # 6. Join the words back into one string separated by space, \n",
    "    # and return the result.\n",
    "    return( \" \".join( meaningful_words ))"
   ]
  },
  {
   "cell_type": "code",
   "execution_count": 9,
   "metadata": {},
   "outputs": [
    {
     "name": "stdout",
     "output_type": "stream",
     "text": [
      "fuck dad\n"
     ]
    },
    {
     "name": "stderr",
     "output_type": "stream",
     "text": [
      "/Users/mohitsharma/anaconda/lib/python2.7/site-packages/bs4/__init__.py:181: UserWarning: No parser was explicitly specified, so I'm using the best available HTML parser for this system (\"lxml\"). This usually isn't a problem, but if you run this code on another system, or in a different virtual environment, it may use a different parser and behave differently.\n",
      "\n",
      "The code that caused this warning is on line 174 of the file /Users/mohitsharma/anaconda/lib/python2.7/runpy.py. To get rid of this warning, change code that looks like this:\n",
      "\n",
      " BeautifulSoup(YOUR_MARKUP})\n",
      "\n",
      "to this:\n",
      "\n",
      " BeautifulSoup(YOUR_MARKUP, \"lxml\")\n",
      "\n",
      "  markup_type=markup_type))\n"
     ]
    }
   ],
   "source": [
    "clean_comment = comment_to_words( train[\"Comment\"][0] )\n",
    "print clean_comment"
   ]
  },
  {
   "cell_type": "code",
   "execution_count": 10,
   "metadata": {},
   "outputs": [
    {
     "name": "stdout",
     "output_type": "stream",
     "text": [
      "3947\n",
      "Comment 1000 of 3947\n",
      "\n",
      "Comment 2000 of 3947\n",
      "\n",
      "Comment 3000 of 3947\n",
      "\n"
     ]
    }
   ],
   "source": [
    "num_comments = train[\"Comment\"].size\n",
    "print(num_comments)\n",
    "clean_train_comments = []\n",
    "for i in xrange( 0, num_comments ):\n",
    "    # Call our function for each one, and add the result to the list of\n",
    "    # clean reviews\n",
    "     # If the index is evenly divisible by 1000, print a message\n",
    "    if( (i+1)%1000 == 0 ):\n",
    "        print \"Comment %d of %d\\n\" % ( i+1, num_comments ) \n",
    "    clean_train_comments.append( comment_to_words( train[\"Comment\"][i] ) )"
   ]
  },
  {
   "cell_type": "code",
   "execution_count": 11,
   "metadata": {
    "collapsed": true
   },
   "outputs": [],
   "source": [
    "from sklearn.feature_extraction.text import CountVectorizer\n",
    "vectorizer = CountVectorizer(analyzer = \"word\",   \\\n",
    "                             tokenizer = None,    \\\n",
    "                             preprocessor = None, \\\n",
    "                             stop_words = None,   \\\n",
    "                             max_features = 5000) \n",
    "train_data_features = vectorizer.fit_transform(clean_train_comments)\n",
    "train_data_features = train_data_features.toarray()"
   ]
  },
  {
   "cell_type": "code",
   "execution_count": 12,
   "metadata": {},
   "outputs": [
    {
     "name": "stdout",
     "output_type": "stream",
     "text": [
      "(3947, 5000)\n"
     ]
    }
   ],
   "source": [
    "print(train_data_features.shape)"
   ]
  },
  {
   "cell_type": "code",
   "execution_count": 13,
   "metadata": {},
   "outputs": [
    {
     "name": "stdout",
     "output_type": "stream",
     "text": [
      "[u'aamir', u'aap', u'ab', u'abandoned', u'abe', u'ability', u'able', u'abortion', u'abortions', u'abroad', u'abs', u'abscam', u'absolute', u'absolutely', u'abuse', u'abused', u'abusing', u'accept', u'accepted', u'accepting', u'access', u'accident', u'according', u'account', u'accountable', u'accurate', u'accused', u'achieve', u'achievements', u'across', u'act', u'acting', u'action', u'actions', u'actively', u'activists', u'activities', u'actor', u'acts', u'actual', u'actually', u'ad', u'adam', u'add', u'added', u'addition', u'additional', u'address', u'adds', u'administration', u'admire', u'admit', u'admitted', u'admittedly', u'adopted', u'adult', u'adults', u'advantage', u'advice', u'advocate', u'affair', u'affairs', u'affect', u'affluent', u'afford', u'afghanistan', u'afraid', u'africa', u'african', u'ag', u'age', u'agencies', u'agenda', u'agent', u'ages', u'ago', u'agree', u'agreed', u'ah', u'ahead', u'aint', u'air', u'ak', u'aka', u'al', u'alabama', u'album', u'albums', u'alcohol', u'alert', u'alien', u'aliens', u'alinsky', u'alive', u'alla', u'allah', u'allegations', u'alleged', u'allegedly', u'allegiance', u'allergies', u'allies', u'allow', u'allowed', u'allows', u'alls', u'ally', u'almost', u'alone', u'along', u'alot', u'already', u'also', u'alternate', u'although', u'always', u'amateur', u'amazing', u'amd', u'amen', u'amendment', u'america', u'american', u'americans', u'amnesty', u'among', u'amount', u'anal', u'anderson', u'andrea', u'android', u'anelka', u'angel', u'angels', u'anger', u'angle', u'angry', u'animal', u'animals', u'anime', u'annoyed', u'annoying', u'anonymous', u'another', u'answer', u'answering', u'anti', u'anybody', u'anyhow', u'anymore', u'anyone', u'anything', u'anytime', u'anyway', u'anyways', u'anywhere', u'apart', u'apartment', u'apologies', u'apologize', u'apology', u'app', u'apparent', u'apparently', u'appear', u'appeared', u'appears', u'apple', u'apples', u'apply', u'appreciate', u'approaching', u'appropriate', u'approved', u'apps', u'april', u'ar', u'arab', u'area', u'areas', u'arena', u'arent', u'argentina', u'argue', u'argued', u'arguing', u'argument', u'arguments', u'arm', u'armies', u'arms', u'army', u'around', u'arrest', u'arrested', u'arrive', u'arrogance', u'arrogant', u'arsenal', u'art', u'article', u'articles', u'artist', u'artists', u'ashamed', u'asia', u'asian', u'aside', u'ask', u'asked', u'asking', u'ass', u'assad', u'assault', u'asses', u'asshole', u'assistant', u'associate', u'association', u'assume', u'assuming', u'atleast', u'atmosphere', u'att', u'attack', u'attacked', u'attacking', u'attacks', u'attempt', u'attention', u'attitude', u'attorney', u'attractive', u'audience', u'august', u'aur', u'austerity', u'australian', u'authority', u'auto', u'automatically', u'autotune', u'av', u'available', u'avb', u'average', u'avoid', u'aw', u'aware', u'away', u'awesome', u'awful', u'aww', u'azz', u'ba', u'babies', u'baby', u'bachmann', u'back', u'backed', u'backs', u'backwards', u'bad', u'badly', u'bag', u'baggers', u'bags', u'balance', u'balanced', u'bald', u'ball', u'ballotelli', u'balls', u'balotelli', u'bama', u'ban', u'banana', u'band', u'bang', u'bank', u'bankers', u'banking', u'bankrupt', u'bankruptcy', u'banks', u'banned', u'bar', u'barack', u'bargaining', u'barn', u'barry', u'base', u'baseball', u'based', u'basement', u'bases', u'bash', u'basic', u'basically', u'basis', u'basketball', u'bastard', u'batshit', u'battery', u'battle', u'bc', u'beach', u'bearing', u'beat', u'beaten', u'beating', u'beautiful', u'became', u'beck', u'become', u'becomes', u'becoming', u'bed', u'beef', u'beer', u'began', u'begin', u'beginning', u'behavior', u'behind', u'beings', u'belief', u'believe', u'believer', u'believers', u'believes', u'belittling', u'belive', u'bell', u'bellei', u'belly', u'belong', u'bench', u'beneath', u'benefit', u'benefits', u'bent', u'berkeley', u'besides', u'best', u'bet', u'better', u'beyond', u'bhi', u'bi', u'bias', u'biased', u'bible', u'biblical', u'big', u'bigger', u'biggest', u'bigot', u'bigots', u'bigtime', u'bike', u'bile', u'bill', u'billion', u'billionaires', u'billions', u'bills', u'billy', u'bin', u'bird', u'birds', u'birth', u'birther', u'birthplace', u'bit', u'bitch', u'bitches', u'bite', u'bites', u'bitter', u'black', u'blacks', u'blah', u'blaine', u'blame', u'blamed', u'blaming', u'blatantly', u'bless', u'blew', u'blind', u'block', u'blog', u'blogging', u'blogs', u'blogspot', u'blood', u'bloody', u'blow', u'blowing', u'blown', u'blue', u'bm', u'board', u'boards', u'boat', u'bob', u'bobby', u'bobo', u'bodies', u'body', u'bollen', u'bomb', u'bone', u'boo', u'book', u'books', u'boom', u'boots', u'booze', u'border', u'borders', u'bored', u'boring', u'born', u'borrow', u'bosh', u'boss', u'boston', u'bother', u'bothering', u'bottom', u'bought', u'bound', u'bout', u'bow', u'bowl', u'box', u'boxing', u'boy', u'boycott', u'boyfriend', u'boys', u'bradley', u'brain', u'brains', u'brainwashed', u'brand', u'brave', u'brazil', u'break', u'breaking', u'breaks', u'breath', u'breathe', u'breed', u'breitbart', u'brian', u'bribery', u'bribes', u'bridge', u'bright', u'brilliant', u'bring', u'bringing', u'brings', u'brink', u'british', u'bro', u'brock', u'broke', u'broken', u'brother', u'brothers', u'brought', u'brown', u'bryan', u'bs', u'btw', u'buck', u'bud', u'buddies', u'buddy', u'budget', u'budgets', u'buffet', u'bugs', u'build', u'building', u'built', u'bull', u'bulls', u'bullshit', u'bully', u'bullying', u'bum', u'bunch', u'burn', u'burned', u'bury', u'bus', u'buses', u'bush', u'business', u'businesses', u'busy', u'butch', u'butt', u'butthurt', u'button', u'buttons', u'buy', u'ca', u'california', u'call', u'called', u'calling', u'calls', u'calm', u'cam', u'came', u'camels', u'camp', u'campaign', u'campaigning', u'campaigns', u'campbell', u'camps', u'campus', u'canada', u'canadian', u'canadians', u'cancer', u'candidate', u'candy', u'cannot', u'cant', u'cap', u'capable', u'capital', u'car', u'card', u'cards', u'care', u'career', u'careful', u'cares', u'carlson', u'carolina', u'carry', u'cars', u'carter', u'case', u'cases', u'cash', u'cast', u'cat', u'catch', u'category', u'catholic', u'catholics', u'caught', u'cause', u'caused', u'causes', u'causing', u'cd', u'ce', u'celebrated', u'celebrity', u'cell', u'cellulosic', u'celona', u'celtics', u'censor', u'cent', u'center', u'central', u'centre', u'century', u'certain', u'certainly', u'cf', u'ch', u'chain', u'chainsaw', u'chairman', u'challenge', u'challenged', u'chambers', u'champion', u'champions', u'championship', u'champs', u'chance', u'change', u'changed', u'changes', u'changing', u'channel', u'character', u'characters', u'charge', u'charged', u'charges', u'charles', u'charlie', u'chavez', u'che', u'cheap', u'cheat', u'cheating', u'check', u'checked', u'checking', u'cheer', u'chelsea', u'cheney', u'chest', u'chi', u'chicago', u'chick', u'chicken', u'chicks', u'chief', u'child', u'childish', u'children', u'chill', u'china', u'chinese', u'chip', u'chisholm', u'chocolate', u'choice', u'choices', u'choke', u'choose', u'chooses', u'choosing', u'chose', u'chosen', u'chris', u'christ', u'christian', u'christianity', u'christians', u'church', u'cia', u'cigarette', u'circumstances', u'cited', u'cities', u'citizen', u'citizens', u'citizenship', u'city', u'civil', u'civilized', u'cj', u'ck', u'cking', u'claim', u'claimed', u'claiming', u'claims', u'class', u'classes', u'classic', u'classified', u'clean', u'clear', u'clearly', u'cleveland', u'clever', u'click', u'clicking', u'clinton', u'clip', u'close', u'closed', u'closer', u'closet', u'clothes', u'clown', u'club', u'clue', u'clueless', u'cnn', u'co', u'coach', u'coaches', u'coat', u'cocaine', u'coccupy', u'cock', u'cod', u'cold', u'cole', u'collapse', u'collect', u'collecting', u'collection', u'collective', u'college', u'colleges', u'color', u'colors', u'columbus', u'com', u'combat', u'come', u'comeback', u'comedy', u'comes', u'comfortable', u'coming', u'command', u'comment', u'commented', u'commenter', u'commenters', u'commenting', u'comments', u'commie', u'commission', u'commit', u'committed', u'committee', u'common', u'communism', u'communist', u'communists', u'community', u'como', u'companies', u'company', u'compare', u'compared', u'comparing', u'comparison', u'complain', u'complaining', u'complete', u'completely', u'complex', u'computer', u'con', u'concept', u'concern', u'concerned', u'concerning', u'concert', u'conclusion', u'condit', u'conditions', u'conference', u'confidence', u'confirmed', u'conflict', u'confused', u'confusing', u'congress', u'congressional', u'congressman', u'congresswoman', u'connect', u'consenting', u'consequences', u'conservative', u'conservatives', u'consider', u'considered', u'considering', u'consistent', u'consistently', u'conspiracy', u'constantly', u'constitution', u'constitutionally', u'contact', u'contempt', u'content', u'continent', u'continue', u'continued', u'continues', u'continuous', u'contraception', u'contract', u'contracts', u'contribute', u'contributed', u'contributions', u'contributor', u'contributors', u'control', u'conversation', u'conversion', u'convert', u'convicted', u'convince', u'convincing', u'cookies', u'cool', u'cop', u'cops', u'copy', u'core', u'corn', u'corporate', u'corporations', u'correct', u'correctly', u'corrupt', u'corruption', u'cos', u'cost', u'costs', u'could', u'couldnt', u'counseling', u'count', u'counter', u'counting', u'countries', u'country', u'counts', u'county', u'couple', u'couples', u'course', u'court', u'courts', u'cousin', u'cover', u'coverage', u'covered', u'covering', u'cow', u'coward', u'cowardly', u'cowards', u'cowboy', u'cows', u'crack', u'craig', u'crap', u'crash', u'crawl', u'crazy', u'cream', u'create', u'created', u'creates', u'creating', u'creation', u'creature', u'credibility', u'credible', u'credit', u'creek', u'creepy', u'cretin', u'crew', u'crime', u'crimes', u'criminal', u'criminals', u'critical', u'criticism', u'criticized', u'critics', u'cronies', u'crooked', u'cross', u'crowd', u'crown', u'cruel', u'crushing', u'cry', u'crybaby', u'crying', u'csm', u'ct', u'cthe', u'cu', u'culture', u'cum', u'cunt', u'cup', u'curious', u'current', u'currently', u'cut', u'cute', u'cutting', u'cuz', u'cycle', u'da', u'dad', u'daddy', u'daily', u'dale', u'dam', u'damage', u'damaged', u'damn', u'damned', u'damnit', u'dan', u'dancing', u'dangerous', u'danny', u'dare', u'dark', u'darling', u'dat', u'daughter', u'daughters', u'dave', u'david', u'day', u'days', u'db', u'dc', u'de', u'dead', u'deadly', u'deal', u'dealer', u'dealing', u'dear', u'death', u'deaths', u'debate', u'debt', u'decade', u'decades', u'decency', u'decent', u'decide', u'decided', u'decision', u'decisions', u'deck', u'declare', u'decoration', u'dedicated', u'dee', u'deep', u'deeper', u'deeply', u'defeat', u'defeated', u'defence', u'defend', u'defended', u'defending', u'defense', u'defensive', u'deficit', u'define', u'defined', u'definitely', u'definition', u'degenerate', u'degeneres', u'degree', u'del', u'delete', u'deleted', u'deliver', u'delivered', u'deluded', u'delusional', u'dem', u'demand', u'demanding', u'democracy', u'democrat', u'democratic', u'democrats', u'demon', u'demonstrate', u'dems', u'denial', u'deny', u'department', u'departments', u'depending', u'depends', u'deport', u'dept', u'depths', u'descendants', u'describe', u'described', u'deserve', u'deserved', u'deserves', u'design', u'desire', u'desperate', u'desperately', u'despicable', u'despise', u'despite', u'dessa', u'destroy', u'destroyed', u'destroying', u'destruction', u'det', u'detail', u'details', u'determine', u'determined', u'detroit', u'development', u'devices', u'devil', u'devils', u'dfc', u'dfn', u'di', u'diagnosis', u'dice', u'dick', u'dickhead', u'dicks', u'dictate', u'dictionary', u'didnt', u'die', u'died', u'dies', u'diet', u'difference', u'different', u'difficult', u'dignity', u'dik', u'dimwit', u'dinner', u'direct', u'directly', u'director', u'dirt', u'dirty', u'disagree', u'disagrees', u'disappear', u'disappointment', u'disaster', u'discuss', u'discussing', u'discussion', u'discussions', u'disease', u'disgrace', u'disgusted', u'disgusting', u'dislike', u'displaysearch', u'dispute', u'disqus', u'distract', u'disturbed', u'disturbing', u'ditching', u'divided', u'division', u'divorce', u'dl', u'doctor', u'doctors', u'doctrine', u'dodger', u'dodgers', u'doesnt', u'dog', u'dogs', u'doj', u'doll', u'dollar', u'dollars', u'domestic', u'donald', u'donate', u'done', u'dont', u'doofus', u'door', u'dope', u'dork', u'dose', u'double', u'doubled', u'doubt', u'doubts', u'douche', u'doug', u'downgrade', u'dozen', u'drain', u'drama', u'dramatic', u'dramatically', u'draw', u'drawing', u'dream', u'dreamed', u'dreams', u'dress', u'dressed', u'drill', u'drink', u'drinking', u'drinks', u'drive', u'drivel', u'driver', u'drivers', u'drogba', u'drones', u'drop', u'dropped', u'dropping', u'drops', u'drowning', u'drug', u'drugs', u'drum', u'drunk', u'dry', u'du', u'dual', u'duck', u'dude', u'dudes', u'due', u'duh', u'dui', u'dumb', u'dumbass', u'dump', u'duncan', u'durant', u'duty', u'dying', u'dyke', u'dylan', u'ea', u'eadt', u'earlier', u'early', u'earn', u'earned', u'ears', u'earth', u'easier', u'easily', u'east', u'easy', u'eat', u'eating', u'eb', u'ebd', u'ebf', u'ebfn', u'ebft', u'ec', u'ecb', u'ecdc', u'economic', u'economics', u'economy', u'ed', u'edbc', u'edbi', u'edd', u'eddi', u'edf', u'edfi', u'edge', u'edgy', u'editing', u'editor', u'educate', u'educated', u'education', u'educational', u'edwards', u'ee', u'eebng', u'eef', u'eefng', u'ef', u'effect', u'effective', u'effects', u'effort', u'efforts', u'ego', u'eh', u'eight', u'either', u'el', u'elders', u'elect', u'electable', u'elected', u'election', u'elections', u'electr', u'elevator', u'elite', u'elitist', u'ellen', u'eller', u'else', u'elses', u'em', u'email', u'embarrassing', u'embrace', u'emotion', u'emotional', u'employee', u'employees', u'empty', u'en', u'encourage', u'end', u'ended', u'ending', u'endless', u'endorsed', u'ends', u'enemies', u'enemy', u'energy', u'enforce', u'engage', u'engine', u'engineers', u'england', u'english', u'enjoy', u'enjoyed', u'enjoying', u'enough', u'enter', u'entertaining', u'entertainment', u'entire', u'entirely', u'entitlement', u'epa', u'epic', u'episode', u'equal', u'equality', u'equally', u'er', u'era', u'eric', u'error', u'errors', u'es', u'especially', u'espn', u'et', u'etc', u'ethics', u'ett', u'eu', u'europe', u'evasion', u'even', u'event', u'events', u'eventually', u'ever', u'every', u'everybody', u'everyday', u'everyone', u'everything', u'everytime', u'everywhere', u'evidence', u'evil', u'ew', u'ex', u'exactly', u'example', u'examples', u'excellent', u'except', u'exchange', u'excited', u'excuse', u'excuses', u'executive', u'exempt', u'exercising', u'exist', u'existence', u'existing', u'expand', u'expect', u'expected', u'expecting', u'expensive', u'experience', u'expert', u'explain', u'explained', u'explaining', u'expose', u'express', u'expression', u'extra', u'extramarital', u'extreme', u'extremely', u'eye', u'eyes', u'fa', u'face', u'facebook', u'faced', u'faces', u'fact', u'factor', u'factory', u'facts', u'fag', u'faggot', u'fags', u'fail', u'failed', u'failing', u'fails', u'failure', u'fair', u'fairly', u'faith', u'faithful', u'fake', u'fall', u'falling', u'falls', u'false', u'fam', u'fame', u'familiar', u'families', u'family', u'famous', u'fan', u'fandom', u'fans', u'far', u'farm', u'farmers', u'farms', u'fascist', u'fast', u'faster', u'fat', u'father', u'fatto', u'fault', u'faux', u'favor', u'favorite', u'favour', u'fb', u'fbi', u'fear', u'feature', u'features', u'february', u'feces', u'fed', u'federal', u'feds', u'feed', u'feeder', u'feeding', u'feel', u'feeling', u'feelings', u'feels', u'fees', u'feet', u'fell', u'fellas', u'fellow', u'felony', u'felt', u'female', u'females', u'feminist', u'fest', u'ff', u'fi', u'field', u'fifth', u'fight', u'fighter', u'fighters', u'fighting', u'fights', u'figure', u'figures', u'file', u'filed', u'filing', u'filled', u'film', u'films', u'filth', u'filthy', u'final', u'finally', u'finals', u'financial', u'find', u'finding', u'fine', u'fined', u'fines', u'finger', u'finish', u'finished', u'fire', u'fired', u'firing', u'firms', u'first', u'fiscal', u'fish', u'fishing', u'fit', u'five', u'fix', u'flag', u'flagged', u'flash', u'flat', u'flattering', u'fleabagger', u'flies', u'flop', u'florida', u'floyd', u'fly', u'flying', u'focus', u'focused', u'focusing', u'folks', u'follow', u'followed', u'followers', u'following', u'food', u'fool', u'fooled', u'foolish', u'fools', u'foot', u'football', u'forbid', u'force', u'forced', u'forcefully', u'forces', u'forcing', u'foreign', u'forest', u'forever', u'forget', u'forgive', u'forgot', u'form', u'former', u'forth', u'forum', u'forward', u'foster', u'fought', u'foul', u'found', u'foundation', u'founded', u'four', u'fox', u'foxnews', u'fr', u'france', u'frank', u'fraud', u'freak', u'freaking', u'freaks', u'free', u'freedom', u'freedoms', u'french', u'fresh', u'friend', u'friendly', u'friends', u'friggin', u'front', u'fruit', u'fu', u'fuck', u'fucked', u'fucker', u'fuckers', u'fuckin', u'fucking', u'fucks', u'fuk', u'fukuoka', u'fulani', u'full', u'fully', u'fun', u'function', u'fund', u'funded', u'funding', u'fundraising', u'funds', u'funny', u'furious', u'future', u'ga', u'gaga', u'gain', u'gal', u'gallon', u'game', u'games', u'gang', u'garage', u'garbage', u'gary', u'gas', u'gasoline', u'gave', u'gawd', u'gay', u'gays', u'ge', u'gea', u'gear', u'gee', u'general', u'generally', u'generation', u'genesis', u'genius', u'george', u'georgia', u'germany', u'ges', u'get', u'gets', u'getting', u'ghetto', u'gi', u'giant', u'giants', u'gift', u'gimmick', u'gina', u'gingrich', u'girl', u'girlfriend', u'girlfriends', u'girls', u'give', u'given', u'gives', u'giving', u'gl', u'glad', u'glass', u'glasses', u'global', u'globalist', u'globe', u'glorified', u'glory', u'glove', u'glue', u'gm', u'go', u'goals', u'goat', u'gobie', u'god', u'goddammit', u'gods', u'goes', u'going', u'gold', u'golden', u'gon', u'gone', u'gonna', u'goo', u'good', u'goodness', u'google', u'gop', u'gorgeous', u'gosh', u'gospel', u'gossip', u'gossipy', u'got', u'gotcha', u'gotta', u'gotten', u'gov', u'goverment', u'government', u'governments', u'governor', u'governors', u'govt', u'grab', u'grade', u'grammar', u'grammatical', u'grand', u'grandma', u'grandpa', u'grandparents', u'granny', u'granted', u'grasp', u'grass', u'grateful', u'graves', u'gravy', u'grazid', u'great', u'greatest', u'greece', u'greedy', u'greek', u'green', u'grenade', u'grew', u'grey', u'griffith', u'gross', u'grossly', u'ground', u'group', u'groups', u'grow', u'growapair', u'growing', u'grown', u'growth', u'gs', u'guarantee', u'guaranteed', u'guard', u'gudda', u'guess', u'guessing', u'guest', u'guide', u'guild', u'guilt', u'guilty', u'gullible', u'gun', u'guns', u'gussa', u'gusto', u'gutless', u'gutted', u'gutter', u'guy', u'guys', u'ha', u'habitually', u'hacer', u'hacked', u'hacks', u'hafner', u'haha', u'hahah', u'hahaha', u'hahahaha', u'hahahahahaha', u'hahahahahahahaha', u'hai', u'hair', u'haircut', u'hairy', u'haitian', u'half', u'hall', u'halt', u'ham', u'hamas', u'hamm', u'hammer', u'han', u'hand', u'handed', u'handful', u'handle', u'hands', u'hang', u'hanger', u'hanging', u'hanniturd', u'hannity', u'happen', u'happened', u'happening', u'happens', u'happier', u'happy', u'har', u'harass', u'harassment', u'hard', u'hardcore', u'harden', u'harder', u'hardly', u'hardware', u'hardy', u'harm', u'harper', u'harry', u'harvard', u'hat', u'hate', u'hated', u'hateful', u'hater', u'haters', u'hates', u'hating', u'hatred', u'hats', u'hausa', u'havent', u'hawaii', u'hawk', u'hawkins', u'hawks', u'hay', u'hazard', u'hbo', u'head', u'headed', u'heading', u'headline', u'headlines', u'heads', u'health', u'healthcare', u'healthy', u'hear', u'heard', u'hearing', u'hears', u'heart', u'hearted', u'hearts', u'heat', u'heath', u'heaven', u'heavily', u'heavy', u'heck', u'heeded', u'heii', u'held', u'hell', u'hello', u'help', u'helped', u'helpful', u'helping', u'helps', u'henry', u'heritage', u'herman', u'hermano', u'hero', u'heroes', u'heroic', u'herrera', u'hes', u'heterosexual', u'heterosexuals', u'hey', u'heyrobo', u'hhgn', u'hi', u'hidden', u'hide', u'hiding', u'high', u'higher', u'highest', u'highly', u'highway', u'hijack', u'hilarious', u'hill', u'hillary', u'hillbilly', u'hilton', u'hip', u'hippie', u'hire', u'hispanic', u'hispanics', u'historical', u'history', u'hit', u'hitchens', u'hitler', u'hitting', u'hm', u'hmm', u'hmmm', u'hnhttp', u'ho', u'hoard', u'hoconnor', u'hodgson', u'hoe', u'hoes', u'hogan', u'hoho', u'hold', u'holder', u'holders', u'holding', u'holds', u'hole', u'holes', u'holiday', u'hollywood', u'holy', u'home', u'homes', u'homie', u'homo', u'homophobic', u'homosexual', u'homosexuality', u'homosexuals', u'honest', u'honestly', u'honey', u'honor', u'honored', u'hoo', u'hood', u'hope', u'hopefully', u'hopeless', u'hoping', u'horrible', u'horror', u'horse', u'hospital', u'hoss', u'host', u'hot', u'hottest', u'hour', u'hours', u'house', u'housing', u'however', u'hows', u'html', u'http', u'huck', u'huff', u'huge', u'hugging', u'huh', u'human', u'humanist', u'humanity', u'humans', u'humor', u'hundred', u'hundreds', u'hungry', u'hunt', u'hurricane', u'hurt', u'hurting', u'husband', u'hussein', u'hypocrite', u'hypocrites', u'ic', u'ice', u'id', u'idea', u'ideas', u'identity', u'ideology', u'idi', u'idiocy', u'idiot', u'idiotic', u'idiots', u'idol', u'ie', u'ign', u'ignorance', u'ignorant', u'ignore', u'ii', u'ikathyv', u'il', u'ilk', u'ill', u'illegal', u'illegals', u'illinois', u'illogical', u'im', u'ima', u'image', u'images', u'imagine', u'imbecile', u'imbiciles', u'img', u'imgur', u'immature', u'immdufcc', u'immediate', u'immediately', u'immigrant', u'immigrants', u'immigration', u'impact', u'impeached', u'impersonates', u'impersonating', u'implicated', u'importance', u'important', u'imposed', u'impossible', u'impressed', u'impressive', u'improper', u'improve', u'improved', u'inadvertently', u'inbred', u'inc', u'incest', u'include', u'included', u'includes', u'including', u'income', u'incompetent', u'increase', u'increased', u'increasing', u'incredible', u'incredibly', u'indeed', u'independence', u'independents', u'india', u'indian', u'indians', u'indicted', u'individuals', u'industry', u'inept', u'inflated', u'influence', u'info', u'information', u'ing', u'inherit', u'injured', u'injury', u'innings', u'innocent', u'insane', u'inserted', u'inside', u'insight', u'inspiration', u'inspire', u'installed', u'instance', u'instead', u'institutions', u'insult', u'insulting', u'insults', u'insurance', u'inte', u'integrity', u'intelligence', u'intelligent', u'intended', u'intention', u'intentionally', u'interest', u'interested', u'interesting', u'interests', u'intern', u'international', u'internet', u'interview', u'invest', u'investigating', u'investigation', u'investors', u'invisible', u'involved', u'involves', u'involving', u'ios', u'ipad', u'iphone', u'ipod', u'iq', u'iran', u'iranian', u'iranians', u'iraq', u'ireland', u'irish', u'ironic', u'irony', u'irrational', u'irrelevant', u'islam', u'islamic', u'island', u'isnt', u'israel', u'israelis', u'issue', u'issued', u'issues', u'ive', u'ixzz', u'ja', u'jack', u'jackass', u'jackson', u'jail', u'jake', u'jakesnake', u'james', u'japan', u'japanese', u'jason', u'jasonhairydawg', u'jay', u'jcpenney', u'jealous', u'jeff', u'jenbroflovski', u'jerk', u'jerry', u'jersey', u'jesse', u'jesus', u'jew', u'jewish', u'jews', u'jim', u'jimmy', u'jlighet', u'jo', u'job', u'jobs', u'joe', u'joel', u'joey', u'john', u'johnny', u'johnson', u'join', u'joint', u'joke', u'joker', u'jokers', u'jokes', u'joking', u'jones', u'jonklimasisnot', u'jordan', u'jordanians', u'jose', u'joseph', u'journal', u'journalism', u'joyce', u'jpg', u'jr', u'jrpg', u'juan', u'judaism', u'judge', u'judged', u'judgement', u'judges', u'judging', u'judicial', u'judiciary', u'juego', u'juice', u'july', u'jump', u'jumping', u'june', u'jungwirth', u'juries', u'jurisprudence', u'jury', u'justice', u'justified', u'justify', u'juvenile', u'jwoude', u'ka', u'kalifornia', u'kan', u'kapoor', u'kar', u'kardashian', u'karen', u'karma', u'katana', u'kathy', u'kawakita', u'keep', u'keeper', u'keeping', u'keeps', u'keith', u'kelly', u'kemp', u'ken', u'kennedy', u'kenny', u'kenya', u'kenyan', u'kenyans', u'kept', u'kerner', u'kerry', u'kevin', u'key', u'keyboard', u'keystone', u'kg', u'kh', u'kha', u'khi', u'khung', u'ki', u'kick', u'kid', u'kidding', u'kidnapping', u'kids', u'kill', u'killed', u'killer', u'killing', u'kills', u'kim', u'kimora', u'kind', u'kinda', u'kindergarten', u'kindly', u'kinds', u'kinect', u'king', u'kingdom', u'kings', u'kiss', u'kissing', u'kit', u'kitchen', u'kiwis', u'kkk', u'kkkonservative', u'klan', u'kleefisch', u'kless', u'kmuftr', u'kn', u'knapp', u'knees', u'knew', u'knife', u'knights', u'kno', u'knock', u'knocked', u'know', u'knowing', u'knowit', u'knowledge', u'known', u'knows', u'ko', u'kobe', u'koch', u'kommer', u'kong', u'kool', u'korea', u'korean', u'kosh', u'kp', u'kpop', u'ku', u'kudos', u'kurt', u'kvhem', u'ky', u'la', u'labeau', u'label', u'labeled', u'labor', u'labour', u'lack', u'lacking', u'lacks', u'laden', u'ladies', u'lady', u'laid', u'lame', u'lampard', u'lana', u'land', u'landslide', u'lane', u'language', u'languages', u'laptop', u'laraza', u'large', u'largest', u'larry', u'las', u'last', u'lasted', u'late', u'lately', u'later', u'latest', u'latinos', u'latourette', u'laugh', u'laughable', u'laughing', u'laughs', u'launch', u'lauren', u'laurinaitis', u'lavish', u'law', u'lawmaker', u'lawmakers', u'lawrence', u'laws', u'lawsuits', u'lawyer', u'lay', u'laying', u'lazy', u'lb', u'lbphn', u'ld', u'lder', u'le', u'lead', u'leader', u'leaders', u'leadership', u'leading', u'leads', u'leaf', u'league', u'leaking', u'leaks', u'lean', u'leann', u'learn', u'learned', u'learning', u'leary', u'least', u'leave', u'leaves', u'leaving', u'lebron', u'led', u'leech', u'leeches', u'left', u'leftist', u'lefty', u'leg', u'legal', u'legalize', u'legalized', u'legally', u'legals', u'legend', u'legislation', u'legislative', u'legislature', u'legit', u'legitimate', u'legs', u'leidiot', u'lens', u'leon', u'lesbian', u'lesbians', u'lesbo', u'lescott', u'less', u'lesser', u'lesson', u'lestatdelc', u'let', u'lets', u'letter', u'letterman', u'letters', u'letting', u'letto', u'lettuce', u'level', u'lewis', u'lfbeyg', u'li', u'liability', u'liable', u'liar', u'liars', u'lib', u'liberal', u'liberalism', u'liberals', u'libero', u'libertarian', u'liberty', u'libs', u'libtard', u'libtards', u'libturd', u'license', u'licensed', u'licensing', u'lick', u'licking', u'lie', u'lied', u'lies', u'life', u'lifestyle', u'lifestyles', u'lifetime', u'light', u'lights', u'like', u'liked', u'likely', u'likes', u'liking', u'lil', u'lilly', u'lilttle', u'limbaugh', u'limit', u'limited', u'limits', u'line', u'linear', u'liner', u'lines', u'link', u'linked', u'links', u'lion', u'lions', u'lip', u'lips', u'lis', u'lisa', u'list', u'listed', u'listen', u'listened', u'listeners', u'listening', u'listens', u'lists', u'literally', u'literature', u'litical', u'little', u'live', u'lived', u'liverpool', u'lives', u'living', u'lkp', u'lmao', u'lmfao', u'lo', u'load', u'loan', u'lobbyist', u'local', u'location', u'lock', u'locked', u'locker', u'log', u'logic', u'logical', u'login', u'lol', u'lollipop', u'lololol', u'london', u'long', u'longer', u'look', u'looked', u'looking', u'looks', u'loon', u'loosing', u'loot', u'lord', u'los', u'lose', u'loser', u'losers', u'loses', u'losing', u'loss', u'losses', u'lost', u'lot', u'lots', u'lottery', u'loud', u'louisiana', u'love', u'loved', u'lovely', u'loves', u'loving', u'low', u'lower', u'lowest', u'loyal', u'loyalty', u'luck', u'lucky', u'lugar', u'luke', u'lunacy', u'lunch', u'lunches', u'lust', u'lutely', u'luv', u'luxury', u'ly', u'lying', u'lynched', u'macd', u'machine', u'machines', u'macon', u'macro', u'mad', u'madden', u'maddow', u'made', u'madison', u'madonna', u'magazine', u'maggot', u'magic', u'maher', u'mai', u'mail', u'mailed', u'main', u'mainly', u'mainstream', u'maintained', u'maintaining', u'major', u'majority', u'make', u'maker', u'makes', u'makeup', u'making', u'mala', u'malaise', u'male', u'maleficent', u'maliciously', u'malone', u'malouda', u'mama', u'man', u'manage', u'managed', u'management', u'manager', u'managers', u'managing', u'mandate', u'mandates', u'mandating', u'mandoli', u'manga', u'manipulate', u'manning', u'manny', u'mansion', u'manu', u'manufactured', u'manufacturer', u'many', u'manzo', u'marathon', u'march', u'marco', u'marijuana', u'marine', u'mario', u'mark', u'market', u'marketing', u'markets', u'marriage', u'marriages', u'married', u'marry', u'marrying', u'mart', u'marxist', u'mary', u'mask', u'mass', u'massachusetts', u'masses', u'massive', u'master', u'masturbation', u'mat', u'match', u'mate', u'material', u'materials', u'maternity', u'mates', u'math', u'mathematical', u'matt', u'matter', u'matters', u'maxine', u'may', u'maybe', u'maynor', u'mayor', u'mc', u'mcc', u'mccain', u'mcdonald', u'meal', u'mean', u'meaning', u'meaningful', u'means', u'meant', u'meantime', u'meanwhile', u'measure', u'meat', u'med', u'medborgare', u'meddling', u'media', u'medias', u'medical', u'medicare', u'medications', u'medicine', u'medieval', u'mediocre', u'meds', u'meet', u'meeting', u'meg', u'megan', u'meh', u'mein', u'mel', u'mellow', u'melt', u'member', u'members', u'membership', u'memorial', u'memory', u'memphiz', u'men', u'mental', u'mentality', u'mentally', u'mention', u'mentioned', u'meow', u'mer', u'merely', u'mess', u'message', u'messages', u'messed', u'messiah', u'met', u'meta', u'meth', u'method', u'mets', u'mexican', u'mexicans', u'mexico', u'mg', u'mi', u'mia', u'miami', u'mic', u'micah', u'michael', u'michele', u'michelle', u'michigan', u'mickey', u'microphone', u'mid', u'middle', u'middleman', u'midea', u'might', u'mighty', u'mike', u'mikey', u'military', u'milk', u'millennium', u'million', u'millions', u'milton', u'milwaukee', u'min', u'mind', u'minded', u'minding', u'mindless', u'minds', u'mine', u'miners', u'mini', u'minimal', u'minions', u'minister', u'minor', u'minorities', u'minority', u'minors', u'minute', u'minutes', u'mio', u'mirror', u'mirrors', u'misdemeanor', u'misdirection', u'miserable', u'misery', u'misplaced', u'miss', u'missed', u'missing', u'mission', u'mistake', u'mistakes', u'mistress', u'mitch', u'mitchell', u'mitrovicen', u'mitt', u'mix', u'mixed', u'ml', u'mm', u'mmo', u'mmunist', u'mo', u'moaning', u'mobile', u'model', u'moderate', u'moderator', u'moderators', u'modern', u'modest', u'moe', u'molest', u'molestation', u'molester', u'molesters', u'molesting', u'mom', u'moment', u'moments', u'momma', u'mommy', u'moms', u'monday', u'money', u'monger', u'monica', u'monitor', u'monkey', u'monkeys', u'monserrate', u'monster', u'monsters', u'month', u'months', u'moore', u'moral', u'morality', u'morals', u'moreover', u'morning', u'moron', u'moronic', u'morons', u'moss', u'mostly', u'mother', u'motherfucker', u'motherfucking', u'mothers', u'motion', u'mountain', u'mouse', u'mouth', u'move', u'moved', u'movement', u'movie', u'movies', u'moving', u'mp', u'mr', u'mrs', u'mrzlgv', u'ms', u'msnbc', u'mu', u'much', u'mud', u'mujh', u'multiple', u'murder', u'murderers', u'murdering', u'murders', u'murray', u'music', u'muslim', u'muslims', u'must', u'na', u'nada', u'nafter', u'nah', u'naive', u'naked', u'nall', u'nalso', u'name', u'named', u'names', u'nand', u'nare', u'narrow', u'naruto', u'nas', u'nash', u'nasty', u'natesweet', u'nation', u'national', u'nationality', u'nations', u'native', u'natural', u'nature', u'nazi', u'nazis', u'nba', u'nbecause', u'nbesides', u'nbtw', u'nbut', u'nby', u'ncome', u'nd', u'ndaa', u'ndemerjian', u'ndid', u'ndo', u'ndoesn', u'ndon', u'ne', u'near', u'nearly', u'necessary', u'neck', u'need', u'needed', u'needs', u'negative', u'negro', u'neighbors', u'neil', u'neither', u'nelectr', u'net', u'network', u'networks', u'never', u'new', u'newly', u'news', u'newspaper', u'newt', u'next', u'neymar', u'nfact', u'nfebruary', u'nfirst', u'nfl', u'nfor', u'nfrom', u'nfuck', u'ng', u'ngarna', u'nget', u'nghi', u'ngo', u'ngod', u'ngood', u'nh', u'nhave', u'nhe', u'nhere', u'nhey', u'nhi', u'nhow', u'nhowever', u'nhttp', u'ni', u'nice', u'nickelback', u'nif', u'nigel', u'nigga', u'niggas', u'nigger', u'night', u'nin', u'nis', u'nit', u'niv', u'nj', u'njust', u'nlet', u'nlike', u'nlisten', u'nlol', u'nmaybe', u'nmitt', u'nmodel', u'nmy', u'nno', u'nnot', u'nnow', u'nobama', u'nobjustryan', u'nobody', u'nof', u'noh', u'noise', u'nokia', u'nole', u'nomination', u'nominee', u'non', u'none', u'nonly', u'nonsense', u'nonsensical', u'nonstopdrivel', u'noone', u'noops', u'nope', u'normal', u'normally', u'north', u'northern', u'nos', u'nose', u'noses', u'notborneverymin', u'note', u'noted', u'notes', u'nother', u'nothing', u'notice', u'noticed', u'notion', u'nour', u'november', u'npathetic', u'npay', u'npeople', u'nperhaps', u'nplease', u'npolitical', u'nposted', u'npr', u'npresident', u'nprove', u'nput', u'nread', u'nregional', u'nremaining', u'nreply', u'nromney', u'nsa', u'nsecond', u'nsee', u'nseriously', u'nshe', u'nshow', u'nshut', u'nsimple', u'nso', u'nsomething', u'nspurs', u'nstop', u'nstraight', u'nsubject', u'nsure', u'nt', u'ntaxes', u'ntell', u'nthank', u'nthanks', u'nthat', u'nthe', u'ntheir', u'nthen', u'nthere', u'nthese', u'nthey', u'nthings', u'nthink', u'nthis', u'nthose', u'ntime', u'nto', u'ntony', u'ntoo', u'ntrolololololololololololololloloolololololllollllolololololololol', u'nu', u'nuclear', u'nude', u'nuff', u'number', u'numbered', u'numbers', u'numerous', u'nurses', u'nut', u'nuts', u'nvia', u'nvideo', u'nvidia', u'nwalker', u'nwas', u'nwe', u'nwell', u'nwhat', u'nwhen', u'nwho', u'nwhy', u'nwo', u'nwords', u'nwould', u'ny', u'nyc', u'nyeah', u'nyou', u'nyour', u'oa', u'oae', u'oath', u'oavsett', u'ob', u'obama', u'obamacare', u'obamas', u'obammy', u'obese', u'obey', u'obj', u'objective', u'obongo', u'obozo', u'observed', u'obsessed', u'obsession', u'obstruction', u'obummer', u'obvious', u'obviously', u'occasion', u'occupied', u'occupiers', u'occupy', u'occupying', u'occur', u'och', u'odd', u'odds', u'odumbo', u'odysseus', u'offended', u'offender', u'offense', u'offensive', u'offer', u'offered', u'offering', u'offers', u'office', u'officer', u'official', u'officially', u'offset', u'often', u'oh', u'ohio', u'oi', u'oil', u'oj', u'ok', u'okay', u'okc', u'ol', u'olbermann', u'old', u'older', u'oldest', u'ole', u'oliver', u'olympics', u'om', u'omg', u'one', u'ones', u'online', u'onranker', u'ony', u'oo', u'op', u'open', u'opened', u'opening', u'openly', u'opens', u'operation', u'operative', u'opinion', u'opinionated', u'opinions', u'opponent', u'opponents', u'opportunities', u'oppose', u'opposed', u'opposing', u'opposite', u'opposition', u'option', u'optional', u'options', u'orange', u'oranges', u'order', u'orders', u'ordinary', u'org', u'organization', u'organize', u'organized', u'organizer', u'orientation', u'original', u'originated', u'orton', u'os', u'oscar', u'ot', u'others', u'otherwise', u'otr', u'otto', u'ought', u'outcome', u'outdated', u'outlet', u'outlets', u'outrage', u'outraged', u'outrageous', u'outside', u'outta', u'oval', u'oven', u'overall', u'overgrown', u'overly', u'overnight', u'overseas', u'overturned', u'overweening', u'overwhelming', u'owe', u'owebamao', u'owes', u'owned', u'owner', u'ownership', u'owns', u'ows', u'ox', u'oxygen', u'pa', u'pac', u'pacifier', u'pack', u'packer', u'packers', u'packwood', u'pacman', u'page', u'pages', u'paid', u'pain', u'painful', u'painting', u'pair', u'pairing', u'paizon', u'pakistan', u'pal', u'pale', u'palms', u'panel', u'panetta', u'pansy', u'panties', u'pants', u'paolo', u'paper', u'papers', u'par', u'para', u'paragraph', u'parasite', u'parasites', u'parent', u'parenthood', u'parents', u'parity', u'park', u'parker', u'parking', u'parliament', u'parody', u'parole', u'parrot', u'parroting', u'part', u'partially', u'particular', u'particularly', u'partier', u'parties', u'partisan', u'partner', u'parts', u'party', u'pass', u'passed', u'passengers', u'passes', u'past', u'paste', u'pat', u'paterno', u'path', u'pathetic', u'patience', u'patient', u'paul', u'pay', u'payers', u'paying', u'payments', u'payroll', u'pc', u'pe', u'peace', u'pedophile', u'pedophiles', u'pedophilia', u'peeps', u'peggy', u'pen', u'penalty', u'penis', u'pennsylvania', u'penny', u'pensions', u'people', u'peoples', u'per', u'percent', u'percentage', u'perfect', u'perfectly', u'perform', u'performance', u'perhaps', u'period', u'perkins', u'permanently', u'permission', u'perpetual', u'perry', u'persecution', u'person', u'personal', u'personality', u'personally', u'personnel', u'persons', u'perverted', u'pete', u'peter', u'petition', u'pets', u'pf', u'pg', u'ph', u'phillips', u'philly', u'philosophies', u'philosophy', u'phone', u'phones', u'photo', u'photographer', u'photos', u'phrase', u'phucking', u'physical', u'physically', u'physician', u'pic', u'pick', u'picked', u'picking', u'picture', u'pictures', u'pie', u'piece', u'pieces', u'piercings', u'pig', u'pile', u'pimp', u'pinky', u'pipe', u'piss', u'pissed', u'pit', u'pitch', u'pitcher', u'pitching', u'pitiful', u'pity', u'place', u'placed', u'places', u'plain', u'plan', u'plane', u'planet', u'planned', u'plans', u'plate', u'play', u'played', u'player', u'players', u'playing', u'playoff', u'playoffs', u'plays', u'pleaded', u'please', u'pleasure', u'plenty', u'plug', u'plus', u'plutocrats', u'plz', u'pm', u'po', u'point', u'pointed', u'pointing', u'pointless', u'points', u'police', u'policies', u'policy', u'political', u'politically', u'politician', u'politicians', u'politics', u'polls', u'polluted', u'pond', u'poo', u'pool', u'poor', u'poorly', u'pop', u'popularity', u'population', u'por', u'porn', u'portland', u'pos', u'posing', u'position', u'positions', u'positive', u'possession', u'possibility', u'possible', u'possibly', u'post', u'posted', u'posters', u'posting', u'posts', u'pot', u'potential', u'potus', u'pound', u'poverty', u'power', u'powerful', u'powers', u'pp', u'ppl', u'ppv', u'pr', u'practical', u'practically', u'practice', u'practices', u'praised', u'pray', u'prayers', u'praying', u'pre', u'preach', u'precautions', u'precious', u'precis', u'precisely', u'predict', u'predicting', u'prediction', u'prefer', u'preferences', u'pregnant', u'premier', u'premise', u'prepared', u'prepares', u'prepping', u'prescribed', u'prescription', u'presence', u'present', u'presented', u'president', u'presidential', u'presidents', u'press', u'pretend', u'pretending', u'pretty', u'prevent', u'prevented', u'preventing', u'previous', u'price', u'prices', u'prick', u'pride', u'priest', u'primaries', u'primary', u'prime', u'prince', u'princes', u'principal', u'principle', u'principles', u'print', u'prior', u'priorities', u'prison', u'prisons', u'prius', u'privacy', u'private', u'privilege', u'privileges', u'prize', u'pro', u'probability', u'probable', u'probably', u'probar', u'probation', u'problem', u'problems', u'process', u'processed', u'produce', u'produced', u'produces', u'product', u'production', u'productive', u'products', u'profession', u'professional', u'professionals', u'professor', u'professors', u'profile', u'profit', u'profits', u'profligate', u'prog', u'program', u'programme', u'programmed', u'programs', u'progress', u'progresses', u'progressive', u'progs', u'project', u'prolly', u'prometheus', u'promise', u'promises', u'promo', u'promote', u'promoted', u'promoting', u'proof', u'propaganda', u'proper', u'properly', u'property', u'prophecy', u'prophesied', u'prophets', u'proportion', u'proposal', u'proposals', u'proposed', u'proposition', u'prosecutors', u'prosperity', u'prostitute', u'prostitutes', u'protect', u'protecting', u'protection', u'protections', u'protein', u'protesters', u'protesting', u'protests', u'proud', u'prove', u'proved', u'proven', u'proves', u'provide', u'provided', u'providing', u'proving', u'provoke', u'ps', u'psyche', u'psycho', u'psychopath', u'pub', u'puberty', u'public', u'publicity', u'publicly', u'published', u'puck', u'pudding', u'pues', u'puke', u'puking', u'pull', u'pulled', u'pulling', u'pumped', u'pun', u'punch', u'punched', u'puneet', u'punish', u'punished', u'punishment', u'punk', u'punks', u'puppet', u'puppy', u'purchase', u'pure', u'purely', u'purple', u'purpose', u'purposes', u'pursuing', u'push', u'pushers', u'pushing', u'pussies', u'pussy', u'put', u'putin', u'puts', u'putting', u'puzzled', u'puzzling', u'qaeda', u'qb', u'qbkpn', u'qbs', u'qcygh', u'qi', u'qiai', u'qkujt', u'qm', u'qmm', u'qmnpx', u'qngko', u'qnx', u'qplm', u'quaida', u'qualification', u'qualified', u'qualify', u'qualifying', u'qualities', u'quality', u'que', u'queen', u'queeny', u'question', u'questionable', u'questioning', u'questions', u'quick', u'quickly', u'quiet', u'quit', u'quite', u'quitter', u'quo', u'quota', u'quote', u'quotes', u'quoting', u'quy', u'qveog', u'qz', u'qzcvl', u'qzlij', u'qzmxa', u'qzst', u'qzt', u'qztvq', u'qztz', u'ra', u'rabid', u'race', u'races', u'rachel', u'racial', u'racing', u'racism', u'racist', u'racists', u'racketeering', u'radical', u'radicals', u'radio', u'raided', u'rained', u'rains', u'raise', u'raised', u'raises', u'raising', u'rally', u'ram', u'ran', u'ranbir', u'random', u'randomly', u'range', u'rangers', u'rank', u'ranked', u'ranker', u'rant', u'ranting', u'rants', u'rap', u'rape', u'raped', u'rapes', u'raping', u'rapist', u'rapists', u'rapper', u'rapping', u'rare', u'rashi', u'rat', u'rate', u'rates', u'rather', u'rating', u'ratings', u'rational', u'rats', u'raw', u'ray', u'rays', u'rd', u'reach', u'reaction', u'read', u'readers', u'reading', u'ready', u'reagan', u'real', u'realise', u'realism', u'realistic', u'reality', u'realize', u'really', u'realy', u'rear', u'reason', u'reasonable', u'reasoned', u'reasoning', u'reasons', u'rebellious', u'rebels', u'rebuttal', u'recall', u'recalled', u'receipts', u'receive', u'receiving', u'recent', u'recently', u'recipe', u'recital', u'recognition', u'recognize', u'recognized', u'recognizes', u'recommend', u'reconstructionist', u'record', u'records', u'recovery', u'recruit', u'rectum', u'red', u'rediculous', u'redistributing', u'redistribution', u'redneck', u'reds', u'reduce', u'reduced', u'reduction', u'reference', u'references', u'referendum', u'referred', u'referring', u'refineries', u'reflects', u'reform', u'reforms', u'refresh', u'refreshing', u'refs', u'refusal', u'refuse', u'refused', u'regan', u'regard', u'regarded', u'regarding', u'regardless', u'regards', u'regime', u'region', u'regional', u'register', u'regular', u'regulations', u'reilly', u'reject', u'rejected', u'rejection', u'relate', u'related', u'relations', u'relationship', u'relative', u'relatively', u'relax', u'release', u'released', u'relevant', u'religion', u'religions', u'religious', u'remain', u'remember', u'remind', u'reminds', u'remove', u'removed', u'removing', u'rent', u'repeal', u'repeat', u'repeating', u'replace', u'replacement', u'replied', u'replies', u'reply', u'replying', u'report', u'reported', u'reporter', u'reporters', u'reports', u'representative', u'representatives', u'repub', u'republic', u'republican', u'republicans', u'reputation', u'required', u'requirement', u'research', u'resigned', u'resist', u'resources', u'respect', u'respectful', u'respond', u'responded', u'responding', u'response', u'responsibility', u'responsible', u'rest', u'result', u'results', u'retard', u'retarded', u'retards', u'retire', u'retired', u'retirement', u'return', u'returned', u'rev', u'reverse', u'reversed', u'review', u'reviews', u'revolution', u'reynolds', u'rich', u'richest', u'rick', u'rid', u'riddance', u'ride', u'rider', u'ridiculous', u'ridiculously', u'right', u'rights', u'ring', u'riot', u'rise', u'rising', u'risk', u'rite', u'river', u'rn', u'road', u'roar', u'rob', u'robert', u'rock', u'rofl', u'roger', u'rogers', u'role', u'roll', u'rolling', u'roman', u'rome', u'romney', u'ron', u'ronald', u'rondo', u'rookie', u'room', u'rooms', u'rooster', u'root', u'rose', u'rostitute', u'rot', u'rotation', u'rough', u'roughly', u'round', u'rourke', u'row', u'royal', u'rs', u'rubio', u'rude', u'ruined', u'ruining', u'rule', u'rules', u'rumors', u'run', u'runner', u'running', u'runs', u'rush', u'russell', u'russia', u'russian', u'russians', u'ryan', u'sack', u'sad', u'saddam', u'sadly', u'safe', u'safety', u'sahib', u'said', u'sailors', u'saint', u'saintmarty', u'saints', u'sake', u'salad', u'salary', u'sale', u'sales', u'sally', u'salt', u'sam', u'samurai', u'san', u'sand', u'sander', u'sandow', u'sandusky', u'sandwich', u'sandy', u'santa', u'santorum', u'sao', u'sara', u'sarah', u'sarcasm', u'sarcastic', u'sasebo', u'satire', u'satisfaction', u'satisfy', u'saturday', u'sau', u'saudi', u'sausage', u'savage', u'savages', u'save', u'saved', u'saving', u'saw', u'say', u'sayin', u'saying', u'says', u'scale', u'scandal', u'scandals', u'scare', u'scared', u'scares', u'scary', u'scene', u'schedule', u'scheme', u'scholarships', u'schollys', u'school', u'schooled', u'schooling', u'schools', u'science', u'scientifically', u'scientology', u'scolari', u'scooby', u'scooter', u'score', u'scored', u'scoring', u'scott', u'scotus', u'scourge', u'scrap', u'scream', u'screaming', u'screen', u'screw', u'screwed', u'screwing', u'scrutiny', u'scum', u'scumbag', u'sdl', u'se', u'sea', u'seafood', u'seahawks', u'sean', u'search', u'searing', u'season', u'seasons', u'seat', u'sec', u'second', u'secondly', u'seconds', u'secret', u'secretary', u'secrets', u'section', u'sector', u'secular', u'security', u'see', u'seeing', u'seek', u'seeking', u'seem', u'seemed', u'seems', u'seen', u'sees', u'segment', u'seizure', u'self', u'selfish', u'selfishly', u'sell', u'sellers', u'selling', u'sellout', u'sells', u'semen', u'semi', u'semiinaccurate', u'sen', u'senate', u'senator', u'send', u'sending', u'senior', u'sense', u'sensible', u'sensitive', u'sent', u'sentence', u'sentenced', u'sentences', u'sentinel', u'separate', u'separation', u'sept', u'serbian', u'serena', u'series', u'serious', u'seriously', u'servants', u'serve', u'served', u'server', u'serves', u'service', u'services', u'serving', u'set', u'sets', u'setting', u'seven', u'several', u'sex', u'sexiest', u'sexist', u'sexual', u'sexuality', u'sexually', u'sexy', u'sgk', u'sh', u'shall', u'shame', u'shameful', u'shape', u'shar', u'share', u'sharing', u'sharp', u'sheep', u'sheeple', u'sheriff', u'ship', u'shirt', u'shit', u'shitty', u'shock', u'shoe', u'shoes', u'shoot', u'shooting', u'shop', u'short', u'shortfall', u'shot', u'shots', u'shouldnt', u'shove', u'show', u'showed', u'showing', u'shown', u'shows', u'shred', u'shuffle', u'shum', u'shut', u'si', u'sick', u'sickening', u'sicko', u'side', u'sides', u'siegelman', u'sigfrid', u'sign', u'signed', u'significant', u'signing', u'sikh', u'silly', u'similar', u'simple', u'simply', u'sin', u'since', u'sincerely', u'sinclair', u'singh', u'singing', u'single', u'sir', u'sirens', u'siri', u'sissy', u'sister', u'sit', u'site', u'sites', u'sitting', u'situation', u'six', u'size', u'ska', u'sketchers', u'skies', u'skills', u'skin', u'skinny', u'skirt', u'skull', u'sky', u'skywaker', u'slap', u'slapped', u'slave', u'slavery', u'sleep', u'slime', u'slow', u'slowly', u'slut', u'smack', u'smackdown', u'small', u'smart', u'smarter', u'smear', u'smell', u'smelling', u'smh', u'smiling', u'smith', u'smoke', u'smoking', u'smug', u'snap', u'sneering', u'sniffing', u'snitch', u'social', u'socialism', u'socialist', u'society', u'soft', u'software', u'solar', u'sold', u'soldier', u'soldiers', u'soliciting', u'solid', u'solution', u'solutions', u'som', u'somebody', u'somehow', u'someone', u'something', u'sometimes', u'somewhere', u'son', u'song', u'songs', u'soo', u'soon', u'sooner', u'soooo', u'soros', u'sorry', u'sort', u'soul', u'souls', u'sound', u'sounding', u'sounds', u'source', u'sources', u'south', u'sox', u'soy', u'space', u'spain', u'spam', u'spamming', u'spanish', u'spanked', u'speak', u'speaking', u'speaks', u'special', u'species', u'specific', u'speculations', u'speech', u'speed', u'spell', u'spelling', u'spend', u'spending', u'spent', u'spin', u'spirit', u'spit', u'spoiled', u'spoke', u'spoken', u'sports', u'spot', u'spread', u'spreading', u'spring', u'spurs', u'srguvysy', u'sri', u'ss', u'st', u'sta', u'stadium', u'staff', u'stage', u'stake', u'stalin', u'stalker', u'stamp', u'stamps', u'stance', u'stand', u'standard', u'standards', u'standing', u'stands', u'star', u'stare', u'stars', u'start', u'started', u'starter', u'starting', u'starts', u'state', u'stated', u'statement', u'statements', u'states', u'stating', u'station', u'stats', u'status', u'statute', u'stay', u'stayed', u'stays', u'steal', u'stealing', u'step', u'stepped', u'steps', u'steve', u'stfu', u'stick', u'sticking', u'still', u'sting', u'stink', u'stock', u'stole', u'stolen', u'stone', u'stones', u'stood', u'stop', u'stopped', u'stopping', u'store', u'stores', u'stories', u'storm', u'story', u'str', u'straight', u'strange', u'strategy', u'streak', u'stream', u'street', u'streets', u'strength', u'strict', u'strike', u'stripped', u'strong', u'strongly', u'struck', u'struggle', u'struggling', u'stubborn', u'stuck', u'student', u'students', u'studies', u'study', u'stuff', u'stuffed', u'stupid', u'stupider', u'stupidest', u'stupidity', u'style', u'suarez', u'sub', u'subject', u'submit', u'submitting', u'subsequently', u'substance', u'succeed', u'success', u'successful', u'suck', u'sucked', u'sucker', u'sucking', u'sucks', u'sudan', u'sudden', u'suddenly', u'sue', u'suffer', u'suffering', u'sugar', u'suggest', u'suggested', u'suicide', u'suit', u'summer', u'sun', u'super', u'superficial', u'superior', u'support', u'supported', u'supporters', u'supporting', u'supports', u'suppose', u'supposed', u'supposedly', u'supreme', u'sure', u'surely', u'surplus', u'surprise', u'surprised', u'survive', u'suspect', u'sv', u'swallow', u'swear', u'sweat', u'sweet', u'swing', u'swinging', u'symbol', u'sympathy', u'syria', u'syrian', u'system', u'systems', u'ta', u'table', u'tactics', u'tag', u'tail', u'take', u'taken', u'takes', u'taking', u'talent', u'talented', u'talk', u'talked', u'talkin', u'talking', u'tank', u'tanks', u'tap', u'tard', u'target', u'targeting', u'taste', u'tattoos', u'tax', u'taxes', u'taxpayer', u'taxpayers', u'tch', u'te', u'tea', u'teach', u'teacher', u'teachers', u'team', u'teams', u'tear', u'tebow', u'tech', u'technically', u'technology', u'ted', u'teen', u'teeth', u'television', u'tell', u'telling', u'tells', u'temper', u'ten', u'tend', u'tenias', u'tennis', u'term', u'termites', u'terms', u'terrible', u'terrified', u'territory', u'terror', u'terrorism', u'terrorists', u'terry', u'texas', u'tg', u'th', u'thailand', u'thank', u'thankfully', u'thanks', u'thats', u'theater', u'theo', u'ther', u'therefore', u'theres', u'thier', u'thing', u'things', u'think', u'thinking', u'thinks', u'third', u'tho', u'thomas', u'thoroughly', u'though', u'thought', u'thoughts', u'thousand', u'thousands', u'thread', u'threat', u'threaten', u'threats', u'three', u'threw', u'throat', u'throw', u'throwing', u'throws', u'thug', u'thugs', u'thunder', u'ti', u'ticket', u'tied', u'tiger', u'tight', u'till', u'time', u'times', u'tiny', u'tip', u'tired', u'title', u'tm', u'tna', u'today', u'todd', u'toe', u'toes', u'together', u'told', u'tolerance', u'tolerated', u'tomorrow', u'tonight', u'tons', u'tony', u'took', u'top', u'topic', u'tory', u'total', u'totally', u'tou', u'touch', u'touching', u'tough', u'touhey', u'toward', u'towards', u'town', u'tr', u'track', u'trade', u'traffic', u'trailer', u'train', u'trained', u'traitor', u'traits', u'transplant', u'trash', u'travel', u'trayvon', u'treat', u'treatment', u'tree', u'trial', u'tricks', u'tried', u'tries', u'trigger', u'triggered', u'trillion', u'troll', u'trolling', u'trolls', u'troops', u'trouble', u'trout', u'true', u'truely', u'truly', u'trump', u'trust', u'truth', u'truths', u'try', u'trying', u'tt', u'tta', u'tube', u'tuesday', u'tune', u'turd', u'turkey', u'turn', u'turned', u'turning', u'turns', u'tv', u'twat', u'twice', u'twist', u'twisted', u'twitter', u'two', u'type', u'types', u'typical', u'ubh', u'ufeff', u'ufeffhttp', u'uga', u'ugly', u'uh', u'uk', u'ultimate', u'um', u'un', u'una', u'unable', u'unbelievable', u'uncle', u'understand', u'understanding', u'understood', u'uneducated', u'unemployed', u'unfortunate', u'unfortunately', u'unga', u'union', u'unions', u'unit', u'united', u'units', u'universities', u'unless', u'unlike', u'unlucky', u'unnatural', u'unre', u'update', u'updates', u'upon', u'uproar', u'ups', u'upset', u'upside', u'ur', u'urge', u'us', u'usa', u'usda', u'use', u'used', u'useful', u'useless', u'users', u'uses', u'using', u'usual', u'usually', u'ut', u'utter', u'va', u'vacations', u'vagina', u'valid', u'value', u'values', u'vast', u'vehicles', u'vendors', u'verka', u'version', u'vet', u'veterans', u'vetted', u'vi', u'via', u'viable', u'vicky', u'victim', u'victims', u'video', u'videos', u'view', u'views', u'vile', u'village', u'violence', u'violent', u'virgin', u'virginia', u'visit', u'visited', u'vocabulary', u'voice', u'voices', u'vomit', u'vote', u'voted', u'voter', u'voters', u'votes', u'voting', u'vs', u'wa', u'wade', u'wait', u'waiting', u'wake', u'walk', u'walked', u'walker', u'walking', u'walks', u'wall', u'wallet', u'wanna', u'want', u'wanted', u'wanting', u'wants', u'war', u'warfare', u'warm', u'warning', u'wars', u'wash', u'washington', u'wasnt', u'waste', u'wasted', u'wasting', u'wat', u'watch', u'watched', u'watching', u'water', u'waters', u'wats', u'wave', u'way', u'wayne', u'ways', u'weak', u'wealth', u'wealthy', u'weapons', u'wear', u'wearing', u'weasel', u'weather', u'weaver', u'web', u'website', u'websites', u'wednesday', u'weed', u'week', u'weekend', u'weeks', u'weep', u'weight', u'weird', u'welcome', u'welfare', u'well', u'wenger', u'went', u'west', u'westbrook', u'western', u'wet', u'wetback', u'wh', u'whatever', u'whats', u'wherever', u'whether', u'whine', u'whining', u'whiny', u'white', u'whites', u'whitey', u'whoever', u'whole', u'whore', u'whores', u'whos', u'whose', u'wide', u'widgets', u'wife', u'wiki', u'wikipedia', u'wild', u'williams', u'willing', u'willingness', u'win', u'wind', u'wing', u'winner', u'winners', u'winning', u'wins', u'wipe', u'wisconsin', u'wisdom', u'wise', u'wish', u'wit', u'witch', u'within', u'without', u'wives', u'wm', u'wn', u'woman', u'women', u'wonder', u'wonderful', u'wondering', u'wont', u'woods', u'word', u'words', u'work', u'worked', u'worker', u'workers', u'workforce', u'working', u'works', u'world', u'worried', u'worries', u'worry', u'worse', u'worst', u'worth', u'worthless', u'worthy', u'would', u'wouldnt', u'wow', u'wrestlers', u'wrestling', u'wright', u'wrist', u'write', u'writer', u'writes', u'writing', u'written', u'wrong', u'wrote', u'wshh', u'wtf', u'wwe', u'www', u'xa', u'xaf', u'xb', u'xbb', u'xbf', u'xc', u'xd', u'xe', u'xea', u'xean', u'xeau', u'xec', u'xecnh', u'xed', u'xedho', u'xef', u'xenomorphs', u'xf', u'xfd', u'xi', u'xo', u'ya', u'yahoo', u'yall', u'yankees', u'yea', u'yeah', u'year', u'years', u'yelling', u'yellow', u'yep', u'yes', u'yesterday', u'yet', u'yhelahaq', u'yinzerinct', u'yo', u'york', u'yoruba', u'young', u'younger', u'youre', u'youtube', u'yr', u'yrs', u'yup', u'yxvuisfr', u'zama', u'zero', u'zimmerman', u'zinya', u'zombies', u'zoo', u'zuckerberg']\n"
     ]
    }
   ],
   "source": [
    "vocab = vectorizer.get_feature_names()\n",
    "print(vocab)"
   ]
  },
  {
   "cell_type": "code",
   "execution_count": 14,
   "metadata": {
    "collapsed": true
   },
   "outputs": [],
   "source": [
    "from sklearn.ensemble import RandomForestClassifier\n",
    "forest = RandomForestClassifier(n_estimators = 100) \n",
    "forest = forest.fit( train_data_features, train[\"Insult\"] )"
   ]
  },
  {
   "cell_type": "code",
   "execution_count": 15,
   "metadata": {
    "collapsed": true
   },
   "outputs": [],
   "source": [
    "import pandas as pd       \n",
    "test = pd.read_csv(\"insult/test.csv\", header=0)"
   ]
  },
  {
   "cell_type": "code",
   "execution_count": 16,
   "metadata": {},
   "outputs": [
    {
     "name": "stdout",
     "output_type": "stream",
     "text": [
      "2235\n",
      "Comment 1000 of 2235\n",
      "\n",
      "Comment 2000 of 2235\n",
      "\n"
     ]
    }
   ],
   "source": [
    "num_comments = test[\"Comment\"].size\n",
    "print(num_comments)\n",
    "clean_test_comments = []\n",
    "for i in xrange( 0, num_comments ):\n",
    "    # Call our function for each one, and add the result to the list of\n",
    "    # clean reviews\n",
    "     # If the index is evenly divisible by 1000, print a message\n",
    "    if( (i+1)%1000 == 0 ):\n",
    "        print \"Comment %d of %d\\n\" % ( i+1, num_comments ) \n",
    "    clean_test_comments.append( comment_to_words( test[\"Comment\"][i] ) )"
   ]
  },
  {
   "cell_type": "code",
   "execution_count": 17,
   "metadata": {
    "collapsed": true
   },
   "outputs": [],
   "source": [
    "test_data_features = vectorizer.transform(clean_test_comments)\n",
    "test_data_features = test_data_features.toarray()"
   ]
  },
  {
   "cell_type": "code",
   "execution_count": 19,
   "metadata": {},
   "outputs": [],
   "source": [
    "result = forest.predict(test_data_features)\n",
    "output = pd.DataFrame( data={\"Insult\":result,\"Date\":test[\"Date\"], \"Comment\":test[\"Comment\"]} )\n",
    "output.to_csv( \"social_comment_insult.csv\", index=False, quoting=3,escapechar='\\\\' )"
   ]
  }
 ],
 "metadata": {
  "kernelspec": {
   "display_name": "Python 2",
   "language": "python",
   "name": "python2"
  },
  "language_info": {
   "codemirror_mode": {
    "name": "ipython",
    "version": 2
   },
   "file_extension": ".py",
   "mimetype": "text/x-python",
   "name": "python",
   "nbconvert_exporter": "python",
   "pygments_lexer": "ipython2",
   "version": "2.7.13"
  }
 },
 "nbformat": 4,
 "nbformat_minor": 2
}
