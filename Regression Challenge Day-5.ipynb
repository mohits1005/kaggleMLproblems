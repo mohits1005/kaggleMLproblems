{
 "cells": [
  {
   "cell_type": "code",
   "execution_count": 25,
   "metadata": {
    "collapsed": true
   },
   "outputs": [],
   "source": [
    "import numpy as np # linear algebra\n",
    "import pandas as pd # data processing, CSV file I/O (e.g. pd.read_csv)\n",
    "import seaborn as sns # data visualization library  \n",
    "import matplotlib.pyplot as plt\n",
    "%matplotlib inline"
   ]
  },
  {
   "cell_type": "code",
   "execution_count": 26,
   "metadata": {},
   "outputs": [
    {
     "name": "stdout",
     "output_type": "stream",
     "text": [
      "    Age  AttendedBootcamp  BootcampFinish  BootcampFullJobAfter  \\\n",
      "0  28.0               0.0             NaN                   NaN   \n",
      "1  22.0               0.0             NaN                   NaN   \n",
      "2  19.0               0.0             NaN                   NaN   \n",
      "3  26.0               0.0             NaN                   NaN   \n",
      "4  20.0               0.0             NaN                   NaN   \n",
      "\n",
      "   BootcampLoanYesNo  BootcampMonthsAgo BootcampName  BootcampPostSalary  \\\n",
      "0                NaN                NaN          NaN                 NaN   \n",
      "1                NaN                NaN          NaN                 NaN   \n",
      "2                NaN                NaN          NaN                 NaN   \n",
      "3                NaN                NaN          NaN                 NaN   \n",
      "4                NaN                NaN          NaN                 NaN   \n",
      "\n",
      "   BootcampRecommend  ChildrenNumber       ...       ResourceSoloLearn  \\\n",
      "0                NaN             NaN       ...                     NaN   \n",
      "1                NaN             NaN       ...                     NaN   \n",
      "2                NaN             NaN       ...                     NaN   \n",
      "3                NaN             NaN       ...                     NaN   \n",
      "4                NaN             NaN       ...                     NaN   \n",
      "\n",
      "   ResourceStackOverflow  ResourceTreehouse  ResourceUdacity  ResourceUdemy  \\\n",
      "0                    NaN                NaN              NaN            NaN   \n",
      "1                    NaN                NaN              NaN            1.0   \n",
      "2                    NaN                NaN              NaN            NaN   \n",
      "3                    NaN                NaN              NaN            NaN   \n",
      "4                    NaN                NaN              NaN            NaN   \n",
      "\n",
      "   ResourceW3Schools  ResourceYouTube  \\\n",
      "0                NaN              NaN   \n",
      "1                NaN              NaN   \n",
      "2                NaN              NaN   \n",
      "3                NaN              NaN   \n",
      "4                NaN              NaN   \n",
      "\n",
      "                              SchoolDegree              SchoolMajor  \\\n",
      "0           some college credit, no degree                      NaN   \n",
      "1           some college credit, no degree                      NaN   \n",
      "2  high school diploma or equivalent (GED)                      NaN   \n",
      "3                        bachelor's degree  Cinematography And Film   \n",
      "4           some college credit, no degree                      NaN   \n",
      "\n",
      "   StudentDebtOwe  \n",
      "0         20000.0  \n",
      "1             NaN  \n",
      "2             NaN  \n",
      "3          7000.0  \n",
      "4             NaN  \n",
      "\n",
      "[5 rows x 113 columns]\n",
      "    Age  AttendedBootcamp  BootcampFinish  BootcampLoanYesNo BootcampName  \\\n",
      "0  27.0               0.0             NaN                NaN          NaN   \n",
      "1  34.0               0.0             NaN                NaN          NaN   \n",
      "2  21.0               0.0             NaN                NaN          NaN   \n",
      "3  26.0               0.0             NaN                NaN          NaN   \n",
      "4  20.0               0.0             NaN                NaN          NaN   \n",
      "\n",
      "   BootcampRecommend  ChildrenNumber                 CityPopulation  \\\n",
      "0                NaN             NaN            more than 1 million   \n",
      "1                NaN             NaN              less than 100,000   \n",
      "2                NaN             NaN            more than 1 million   \n",
      "3                NaN             NaN  between 100,000 and 1 million   \n",
      "4                NaN             NaN  between 100,000 and 1 million   \n",
      "\n",
      "   CodeEventConferences  CodeEventDjangoGirls         ...           \\\n",
      "0                   NaN                   NaN         ...            \n",
      "1                   NaN                   NaN         ...            \n",
      "2                   NaN                   NaN         ...            \n",
      "3                   NaN                   NaN         ...            \n",
      "4                   NaN                   NaN         ...            \n",
      "\n",
      "   YouTubeFCC  YouTubeFunFunFunction  YouTubeGoogleDev  YouTubeLearnCode  \\\n",
      "0         NaN                    NaN               NaN               NaN   \n",
      "1         1.0                    NaN               NaN               NaN   \n",
      "2         NaN                    NaN               NaN               1.0   \n",
      "3         1.0                    1.0               NaN               NaN   \n",
      "4         NaN                    NaN               NaN               NaN   \n",
      "\n",
      "   YouTubeLevelUpTuts  YouTubeMIT  YouTubeMozillaHacks YouTubeOther  \\\n",
      "0                 NaN         NaN                  NaN          NaN   \n",
      "1                 NaN         NaN                  NaN          NaN   \n",
      "2                 1.0         NaN                  NaN          NaN   \n",
      "3                 1.0         NaN                  NaN          NaN   \n",
      "4                 NaN         NaN                  NaN          NaN   \n",
      "\n",
      "   YouTubeSimplilearn  YouTubeTheNewBoston  \n",
      "0                 NaN                  NaN  \n",
      "1                 NaN                  NaN  \n",
      "2                 NaN                  NaN  \n",
      "3                 NaN                  NaN  \n",
      "4                 NaN                  NaN  \n",
      "\n",
      "[5 rows x 136 columns]\n"
     ]
    }
   ],
   "source": [
    "coders_2016 = pd.read_csv(\"2016-data.csv\")\n",
    "coders_2017 = pd.read_csv(\"2017-data.csv\")\n",
    "print(coders_2016.head())\n",
    "print(coders_2017.head())"
   ]
  },
  {
   "cell_type": "code",
   "execution_count": 27,
   "metadata": {},
   "outputs": [
    {
     "name": "stdout",
     "output_type": "stream",
     "text": [
      "(15620, 113)\n",
      "(18175, 136)\n"
     ]
    }
   ],
   "source": [
    "print(coders_2016.shape)\n",
    "print(coders_2017.shape)"
   ]
  },
  {
   "cell_type": "code",
   "execution_count": 28,
   "metadata": {},
   "outputs": [
    {
     "data": {
      "text/plain": [
       "array(['male', 'female', nan, 'genderqueer', 'agender', 'trans'], dtype=object)"
      ]
     },
     "execution_count": 28,
     "metadata": {},
     "output_type": "execute_result"
    }
   ],
   "source": [
    "coders_2016['Gender'].unique()"
   ]
  },
  {
   "cell_type": "code",
   "execution_count": 29,
   "metadata": {},
   "outputs": [
    {
     "data": {
      "text/plain": [
       "Age                       2007\n",
       "AttendedBootcamp           240\n",
       "BootcampFinish           14687\n",
       "BootcampFullJobAfter     14985\n",
       "BootcampLoanYesNo        14686\n",
       "BootcampMonthsAgo        14989\n",
       "BootcampName             14725\n",
       "BootcampPostSalary       15290\n",
       "BootcampRecommend        14683\n",
       "ChildrenNumber           13066\n",
       "CityPopulation            1990\n",
       "CodeEventBootcamp        15578\n",
       "CodeEventCoffee          13543\n",
       "CodeEventConferences     12722\n",
       "CodeEventDjangoGirls     15602\n",
       "CodeEventGameJam         15598\n",
       "CodeEventGirlDev         15062\n",
       "CodeEventHackathons      13198\n",
       "CodeEventMeetup          15307\n",
       "CodeEventNodeSchool      15140\n",
       "CodeEventNone             6720\n",
       "CodeEventOther           14699\n",
       "CodeEventRailsBridge     15365\n",
       "CodeEventRailsGirls      15606\n",
       "CodeEventStartUpWknd     14877\n",
       "CodeEventWomenCode       14909\n",
       "CodeEventWorkshop        15597\n",
       "CommuteTime               7281\n",
       "CountryCitizen            1966\n",
       "CountryLive               2010\n",
       "                         ...  \n",
       "PodcastWebAhead          15605\n",
       "ResourceBlogs            15590\n",
       "ResourceBooks            15476\n",
       "ResourceCodeWars         14057\n",
       "ResourceCodecademy        6034\n",
       "ResourceCoursera         10776\n",
       "ResourceDevTips          14652\n",
       "ResourceEdX              12148\n",
       "ResourceEggHead          15591\n",
       "ResourceFCC               4683\n",
       "ResourceGoogle           15565\n",
       "ResourceHackerRank       15590\n",
       "ResourceKhanAcademy      11874\n",
       "ResourceLynda            15470\n",
       "ResourceMDN              15594\n",
       "ResourceOdinProj         13933\n",
       "ResourceOther            13527\n",
       "ResourcePluralSight      12055\n",
       "ResourceReddit           15591\n",
       "ResourceSkillCrush       15584\n",
       "ResourceSoloLearn        15590\n",
       "ResourceStackOverflow    15429\n",
       "ResourceTreehouse        15198\n",
       "ResourceUdacity          12314\n",
       "ResourceUdemy            11490\n",
       "ResourceW3Schools        15499\n",
       "ResourceYouTube          15499\n",
       "SchoolDegree              1941\n",
       "SchoolMajor               7170\n",
       "StudentDebtOwe           12106\n",
       "Length: 113, dtype: int64"
      ]
     },
     "execution_count": 29,
     "metadata": {},
     "output_type": "execute_result"
    }
   ],
   "source": [
    "coders_2016.isnull().sum()"
   ]
  },
  {
   "cell_type": "code",
   "execution_count": 30,
   "metadata": {},
   "outputs": [],
   "source": [
    "coders_2016['IsWoman'] = coders_2016.apply(lambda row:  1 if(row[\"Gender\"] == \"female\") else 0, axis=1)"
   ]
  },
  {
   "cell_type": "code",
   "execution_count": 31,
   "metadata": {},
   "outputs": [
    {
     "name": "stdout",
     "output_type": "stream",
     "text": [
      "0    0\n",
      "1    0\n",
      "2    0\n",
      "3    1\n",
      "4    1\n",
      "Name: IsWoman, dtype: int64\n",
      "0      male\n",
      "1      male\n",
      "2      male\n",
      "3    female\n",
      "4    female\n",
      "Name: Gender, dtype: object\n"
     ]
    }
   ],
   "source": [
    "print(coders_2016['IsWoman'].head())\n",
    "print(coders_2016['Gender'].head())"
   ]
  },
  {
   "cell_type": "code",
   "execution_count": 32,
   "metadata": {},
   "outputs": [
    {
     "name": "stdout",
     "output_type": "stream",
     "text": [
      "Age                   2007\n",
      "CommuteTime           7281\n",
      "HasChildren          11608\n",
      "AttendedBootcamp       240\n",
      "HasDebt               2010\n",
      "HoursLearning          678\n",
      "MonthsProgramming      606\n",
      "Income                8291\n",
      "IsWoman                  0\n",
      "dtype: int64\n",
      "(15620, 9)\n",
      "Age                  0\n",
      "CommuteTime          0\n",
      "HasChildren          0\n",
      "AttendedBootcamp     0\n",
      "HasDebt              0\n",
      "HoursLearning        0\n",
      "MonthsProgramming    0\n",
      "Income               0\n",
      "IsWoman              0\n",
      "dtype: int64\n",
      "(2704, 9)\n"
     ]
    },
    {
     "name": "stderr",
     "output_type": "stream",
     "text": [
      "/Users/mohitsharma/anaconda/lib/python2.7/site-packages/ipykernel_launcher.py:6: SettingWithCopyWarning: \n",
      "A value is trying to be set on a copy of a slice from a DataFrame\n",
      "\n",
      "See the caveats in the documentation: http://pandas.pydata.org/pandas-docs/stable/indexing.html#indexing-view-versus-copy\n",
      "  \n"
     ]
    }
   ],
   "source": [
    "subset = coders_2016[['Age', 'CommuteTime', 'HasChildren', \n",
    "           'AttendedBootcamp', 'HasDebt',\n",
    "           'HoursLearning', 'MonthsProgramming', 'Income','IsWoman']]\n",
    "print(subset.isnull().sum())\n",
    "print(subset.shape)\n",
    "subset.dropna(inplace=True)\n",
    "print(subset.isnull().sum())\n",
    "print(subset.shape)"
   ]
  },
  {
   "cell_type": "code",
   "execution_count": 33,
   "metadata": {},
   "outputs": [
    {
     "name": "stdout",
     "output_type": "stream",
     "text": [
      "Number of data points: 2704\n"
     ]
    }
   ],
   "source": [
    "X = subset[['Age', 'CommuteTime', 'HasChildren', 'AttendedBootcamp', 'IsWoman', 'HasDebt','HoursLearning', 'MonthsProgramming']]\n",
    "# get a vector with our output variable\n",
    "y = subset['Income']\n",
    "print('Number of data points: ' + str(len(y)))"
   ]
  },
  {
   "cell_type": "code",
   "execution_count": 34,
   "metadata": {},
   "outputs": [
    {
     "data": {
      "text/plain": [
       "ElasticNetCV(alphas=None, copy_X=True, cv=10, eps=0.001, fit_intercept=True,\n",
       "       l1_ratio=0.5, max_iter=1000, n_alphas=100, n_jobs=1,\n",
       "       normalize=False, positive=False, precompute='auto', random_state=0,\n",
       "       selection='cyclic', tol=0.0001, verbose=0)"
      ]
     },
     "execution_count": 34,
     "metadata": {},
     "output_type": "execute_result"
    }
   ],
   "source": [
    "from sklearn.linear_model import ElasticNetCV\n",
    "regr = ElasticNetCV(cv=10, random_state=0)\n",
    "regr.fit(X, y)"
   ]
  },
  {
   "cell_type": "code",
   "execution_count": 35,
   "metadata": {},
   "outputs": [
    {
     "name": "stdout",
     "output_type": "stream",
     "text": [
      "46150.0020462\n"
     ]
    }
   ],
   "source": [
    "print(regr.intercept_)"
   ]
  },
  {
   "cell_type": "code",
   "execution_count": 36,
   "metadata": {},
   "outputs": [
    {
     "name": "stdout",
     "output_type": "stream",
     "text": [
      "             columns        coef\n",
      "0                Age   72.768980\n",
      "1        CommuteTime  -18.670586\n",
      "2        HasChildren    2.219416\n",
      "3   AttendedBootcamp   -0.000000\n",
      "4            IsWoman   -0.000000\n",
      "5            HasDebt    0.000000\n",
      "6      HoursLearning  -34.030109\n",
      "7  MonthsProgramming  138.014137\n"
     ]
    }
   ],
   "source": [
    "coefficients = pd.DataFrame()\n",
    "coefficients['columns'] = X.columns\n",
    "coefficients['coef'] = regr.coef_\n",
    "print(coefficients)"
   ]
  },
  {
   "cell_type": "code",
   "execution_count": 37,
   "metadata": {},
   "outputs": [
    {
     "name": "stdout",
     "output_type": "stream",
     "text": [
      "0                  Age\n",
      "1          CommuteTime\n",
      "2          HasChildren\n",
      "6        HoursLearning\n",
      "7    MonthsProgramming\n",
      "Name: columns, dtype: object\n"
     ]
    }
   ],
   "source": [
    "variables_non_zero = coefficients[coefficients['coef'] != 0]['columns']\n",
    "print(variables_non_zero)"
   ]
  },
  {
   "cell_type": "code",
   "execution_count": 38,
   "metadata": {},
   "outputs": [
    {
     "data": {
      "text/plain": [
       "LinearRegression(copy_X=True, fit_intercept=True, n_jobs=1, normalize=False)"
      ]
     },
     "execution_count": 38,
     "metadata": {},
     "output_type": "execute_result"
    }
   ],
   "source": [
    "# turn our list of formulas into a variable\n",
    "X = subset[variables_non_zero]\n",
    "# fit a glm model\n",
    "from sklearn.linear_model import LinearRegression\n",
    "regr = LinearRegression()\n",
    "regr.fit(X, y)"
   ]
  },
  {
   "cell_type": "code",
   "execution_count": 39,
   "metadata": {},
   "outputs": [
    {
     "data": {
      "text/plain": [
       "<matplotlib.collections.PathCollection at 0x114145550>"
      ]
     },
     "execution_count": 39,
     "metadata": {},
     "output_type": "execute_result"
    },
    {
     "data": {
      "image/png": "[encoded data removed]",
      "text/plain": [
       "<matplotlib.figure.Figure at 0x11735a690>"
      ]
     },
     "metadata": {},
     "output_type": "display_data"
    }
   ],
   "source": [
    "import matplotlib.pyplot as plt\n",
    "y_pred = regr.predict(X)\n",
    "residual = y - y_pred\n",
    "plt.scatter(y_pred,residual)"
   ]
  },
  {
   "cell_type": "code",
   "execution_count": 40,
   "metadata": {},
   "outputs": [
    {
     "name": "stdout",
     "output_type": "stream",
     "text": [
      "18860.2698496\n"
     ]
    }
   ],
   "source": [
    "print(regr.intercept_)"
   ]
  },
  {
   "cell_type": "code",
   "execution_count": 41,
   "metadata": {},
   "outputs": [
    {
     "name": "stdout",
     "output_type": "stream",
     "text": [
      "             columns         coef\n",
      "0                Age   817.966881\n",
      "1        CommuteTime   -11.858553\n",
      "2        HasChildren  5620.100769\n",
      "3      HoursLearning  -221.301607\n",
      "4  MonthsProgramming   139.905039\n"
     ]
    }
   ],
   "source": [
    "coefficients = pd.DataFrame()\n",
    "coefficients['columns'] = X.columns\n",
    "coefficients['coef'] = regr.coef_\n",
    "print(coefficients)"
   ]
  }
 ],
 "metadata": {
  "kernelspec": {
   "display_name": "Python 2",
   "language": "python",
   "name": "python2"
  },
  "language_info": {
   "codemirror_mode": {
    "name": "ipython",
    "version": 2
   },
   "file_extension": ".py",
   "mimetype": "text/x-python",
   "name": "python",
   "nbconvert_exporter": "python",
   "pygments_lexer": "ipython2",
   "version": "2.7.13"
  }
 },
 "nbformat": 4,
 "nbformat_minor": 2
}
