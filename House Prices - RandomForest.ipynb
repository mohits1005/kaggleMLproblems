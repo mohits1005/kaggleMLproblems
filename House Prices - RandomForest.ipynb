{
 "cells": [
  {
   "cell_type": "code",
   "execution_count": 51,
   "metadata": {
    "collapsed": true
   },
   "outputs": [],
   "source": [
    "# Imports\n",
    "import pandas as pd\n",
    "import numpy as np\n",
    "from sklearn.model_selection import cross_val_score, train_test_split\n",
    "from sklearn.linear_model import LinearRegression\n",
    "from sklearn.metrics import mean_squared_error, make_scorer\n",
    "from scipy.stats import skew\n",
    "from IPython.display import display\n",
    "import matplotlib.pyplot as plt\n",
    "import seaborn as sns\n",
    "\n",
    "# Definitions\n",
    "pd.set_option('display.float_format', lambda x: '%.3f' % x)\n",
    "%matplotlib inline\n",
    "#njobs = 4"
   ]
  },
  {
   "cell_type": "code",
   "execution_count": 52,
   "metadata": {},
   "outputs": [
    {
     "name": "stdout",
     "output_type": "stream",
     "text": [
      "train : (1460, 81)\n"
     ]
    }
   ],
   "source": [
    "# Get data\n",
    "train = pd.read_csv(\"train.csv\")\n",
    "print(\"train : \" + str(train.shape))"
   ]
  },
  {
   "cell_type": "code",
   "execution_count": 53,
   "metadata": {},
   "outputs": [
    {
     "data": {
      "text/html": [
       "<div>\n",
       "<style>\n",
       "    .dataframe thead tr:only-child th {\n",
       "        text-align: right;\n",
       "    }\n",
       "\n",
       "    .dataframe thead th {\n",
       "        text-align: left;\n",
       "    }\n",
       "\n",
       "    .dataframe tbody tr th {\n",
       "        vertical-align: top;\n",
       "    }\n",
       "</style>\n",
       "<table border=\"1\" class=\"dataframe\">\n",
       "  <thead>\n",
       "    <tr style=\"text-align: right;\">\n",
       "      <th></th>\n",
       "      <th>TrainId</th>\n",
       "      <th>MSSubClass</th>\n",
       "      <th>MSZoning</th>\n",
       "      <th>LotFrontage</th>\n",
       "      <th>LotArea</th>\n",
       "      <th>Street</th>\n",
       "      <th>Alley</th>\n",
       "      <th>LotShape</th>\n",
       "      <th>LandContour</th>\n",
       "      <th>Utilities</th>\n",
       "      <th>...</th>\n",
       "      <th>PoolArea</th>\n",
       "      <th>PoolQC</th>\n",
       "      <th>Fence</th>\n",
       "      <th>MiscFeature</th>\n",
       "      <th>MiscVal</th>\n",
       "      <th>MoSold</th>\n",
       "      <th>YrSold</th>\n",
       "      <th>SaleType</th>\n",
       "      <th>SaleCondition</th>\n",
       "      <th>SalePrice</th>\n",
       "    </tr>\n",
       "  </thead>\n",
       "  <tbody>\n",
       "    <tr>\n",
       "      <th>0</th>\n",
       "      <td>1</td>\n",
       "      <td>60</td>\n",
       "      <td>RL</td>\n",
       "      <td>65.000</td>\n",
       "      <td>8450</td>\n",
       "      <td>Pave</td>\n",
       "      <td>NaN</td>\n",
       "      <td>Reg</td>\n",
       "      <td>Lvl</td>\n",
       "      <td>AllPub</td>\n",
       "      <td>...</td>\n",
       "      <td>0</td>\n",
       "      <td>NaN</td>\n",
       "      <td>NaN</td>\n",
       "      <td>NaN</td>\n",
       "      <td>0</td>\n",
       "      <td>2</td>\n",
       "      <td>2008</td>\n",
       "      <td>WD</td>\n",
       "      <td>Normal</td>\n",
       "      <td>208500</td>\n",
       "    </tr>\n",
       "    <tr>\n",
       "      <th>1</th>\n",
       "      <td>2</td>\n",
       "      <td>20</td>\n",
       "      <td>RL</td>\n",
       "      <td>80.000</td>\n",
       "      <td>9600</td>\n",
       "      <td>Pave</td>\n",
       "      <td>NaN</td>\n",
       "      <td>Reg</td>\n",
       "      <td>Lvl</td>\n",
       "      <td>AllPub</td>\n",
       "      <td>...</td>\n",
       "      <td>0</td>\n",
       "      <td>NaN</td>\n",
       "      <td>NaN</td>\n",
       "      <td>NaN</td>\n",
       "      <td>0</td>\n",
       "      <td>5</td>\n",
       "      <td>2007</td>\n",
       "      <td>WD</td>\n",
       "      <td>Normal</td>\n",
       "      <td>181500</td>\n",
       "    </tr>\n",
       "    <tr>\n",
       "      <th>2</th>\n",
       "      <td>3</td>\n",
       "      <td>60</td>\n",
       "      <td>RL</td>\n",
       "      <td>68.000</td>\n",
       "      <td>11250</td>\n",
       "      <td>Pave</td>\n",
       "      <td>NaN</td>\n",
       "      <td>IR1</td>\n",
       "      <td>Lvl</td>\n",
       "      <td>AllPub</td>\n",
       "      <td>...</td>\n",
       "      <td>0</td>\n",
       "      <td>NaN</td>\n",
       "      <td>NaN</td>\n",
       "      <td>NaN</td>\n",
       "      <td>0</td>\n",
       "      <td>9</td>\n",
       "      <td>2008</td>\n",
       "      <td>WD</td>\n",
       "      <td>Normal</td>\n",
       "      <td>223500</td>\n",
       "    </tr>\n",
       "    <tr>\n",
       "      <th>3</th>\n",
       "      <td>4</td>\n",
       "      <td>70</td>\n",
       "      <td>RL</td>\n",
       "      <td>60.000</td>\n",
       "      <td>9550</td>\n",
       "      <td>Pave</td>\n",
       "      <td>NaN</td>\n",
       "      <td>IR1</td>\n",
       "      <td>Lvl</td>\n",
       "      <td>AllPub</td>\n",
       "      <td>...</td>\n",
       "      <td>0</td>\n",
       "      <td>NaN</td>\n",
       "      <td>NaN</td>\n",
       "      <td>NaN</td>\n",
       "      <td>0</td>\n",
       "      <td>2</td>\n",
       "      <td>2006</td>\n",
       "      <td>WD</td>\n",
       "      <td>Abnorml</td>\n",
       "      <td>140000</td>\n",
       "    </tr>\n",
       "    <tr>\n",
       "      <th>4</th>\n",
       "      <td>5</td>\n",
       "      <td>60</td>\n",
       "      <td>RL</td>\n",
       "      <td>84.000</td>\n",
       "      <td>14260</td>\n",
       "      <td>Pave</td>\n",
       "      <td>NaN</td>\n",
       "      <td>IR1</td>\n",
       "      <td>Lvl</td>\n",
       "      <td>AllPub</td>\n",
       "      <td>...</td>\n",
       "      <td>0</td>\n",
       "      <td>NaN</td>\n",
       "      <td>NaN</td>\n",
       "      <td>NaN</td>\n",
       "      <td>0</td>\n",
       "      <td>12</td>\n",
       "      <td>2008</td>\n",
       "      <td>WD</td>\n",
       "      <td>Normal</td>\n",
       "      <td>250000</td>\n",
       "    </tr>\n",
       "  </tbody>\n",
       "</table>\n",
       "<p>5 rows × 81 columns</p>\n",
       "</div>"
      ],
      "text/plain": [
       "   TrainId  MSSubClass MSZoning  LotFrontage  LotArea Street Alley LotShape  \\\n",
       "0        1          60       RL       65.000     8450   Pave   NaN      Reg   \n",
       "1        2          20       RL       80.000     9600   Pave   NaN      Reg   \n",
       "2        3          60       RL       68.000    11250   Pave   NaN      IR1   \n",
       "3        4          70       RL       60.000     9550   Pave   NaN      IR1   \n",
       "4        5          60       RL       84.000    14260   Pave   NaN      IR1   \n",
       "\n",
       "  LandContour Utilities    ...     PoolArea PoolQC Fence MiscFeature MiscVal  \\\n",
       "0         Lvl    AllPub    ...            0    NaN   NaN         NaN       0   \n",
       "1         Lvl    AllPub    ...            0    NaN   NaN         NaN       0   \n",
       "2         Lvl    AllPub    ...            0    NaN   NaN         NaN       0   \n",
       "3         Lvl    AllPub    ...            0    NaN   NaN         NaN       0   \n",
       "4         Lvl    AllPub    ...            0    NaN   NaN         NaN       0   \n",
       "\n",
       "  MoSold YrSold  SaleType  SaleCondition  SalePrice  \n",
       "0      2   2008        WD         Normal     208500  \n",
       "1      5   2007        WD         Normal     181500  \n",
       "2      9   2008        WD         Normal     223500  \n",
       "3      2   2006        WD        Abnorml     140000  \n",
       "4     12   2008        WD         Normal     250000  \n",
       "\n",
       "[5 rows x 81 columns]"
      ]
     },
     "execution_count": 53,
     "metadata": {},
     "output_type": "execute_result"
    }
   ],
   "source": [
    "train.head()"
   ]
  },
  {
   "cell_type": "code",
   "execution_count": 54,
   "metadata": {},
   "outputs": [
    {
     "name": "stdout",
     "output_type": "stream",
     "text": [
      "no duplicates\n"
     ]
    }
   ],
   "source": [
    "# Check for duplicates   \n",
    "if len(train.TrainId) == len(set(train.TrainId)):\n",
    "    print \"no duplicates\"\n",
    "else:\n",
    "    print \"duplicates\"\n",
    "train = train.drop(\"TrainId\", axis = 1)"
   ]
  },
  {
   "cell_type": "code",
   "execution_count": 55,
   "metadata": {},
   "outputs": [
    {
     "name": "stderr",
     "output_type": "stream",
     "text": [
      "/Users/mohitsharma/anaconda/lib/python2.7/site-packages/ipykernel_launcher.py:1: DeprecationWarning: \n",
      ".ix is deprecated. Please use\n",
      ".loc for label based indexing or\n",
      ".iloc for positional indexing\n",
      "\n",
      "See the documentation here:\n",
      "http://pandas.pydata.org/pandas-docs/stable/indexing.html#deprecate_ix\n",
      "  \"\"\"Entry point for launching an IPython kernel.\n"
     ]
    }
   ],
   "source": [
    "train = train.ix[~((train.GrLivArea>4000) & (train.SalePrice<300000))]"
   ]
  },
  {
   "cell_type": "code",
   "execution_count": 56,
   "metadata": {
    "collapsed": true
   },
   "outputs": [],
   "source": [
    "train_labels = train.SalePrice\n",
    "train_features = train.drop(['SalePrice'],axis=1)"
   ]
  },
  {
   "cell_type": "code",
   "execution_count": 57,
   "metadata": {
    "collapsed": true
   },
   "outputs": [],
   "source": [
    "train_features.Alley = train_features.Alley.fillna(\"None\")\n",
    "train_features.BedroomAbvGr = train_features.BedroomAbvGr.fillna(0)\n",
    "train_features.BsmtQual = train_features.BsmtQual.fillna(\"No\")\n",
    "train_features.BsmtCond = train_features.BsmtCond.fillna(\"No\")\n",
    "train_features.BsmtExposure = train_features.BsmtExposure.fillna(\"No\")\n",
    "train_features.BsmtFinType1 = train_features.BsmtFinType1.fillna(\"No\")\n",
    "train_features.BsmtFinType2 = train_features.BsmtFinType2.fillna(\"No\")\n",
    "train_features.BsmtFullBath = train_features.BsmtFullBath.fillna(0)\n",
    "train_features.BsmtHalfBath = train_features.BsmtHalfBath.fillna(0)\n",
    "train_features.BsmtUnfSF = train_features.BsmtUnfSF.fillna(0)\n",
    "train_features.CentralAir = train_features.CentralAir.fillna(\"N\")\n",
    "train_features.Condition1 = train_features.Condition1.fillna(\"Norm\")\n",
    "train_features.Condition2 = train_features.Condition2.fillna(\"Norm\")\n",
    "train_features.EnclosedPorch = train_features.EnclosedPorch.fillna(0)\n",
    "train_features.ExterCond = train_features.ExterCond.fillna(\"TA\")\n",
    "train_features.ExterQual = train_features.ExterQual.fillna(\"TA\")\n",
    "train_features.Fence = train_features.Fence.fillna(\"NA\")\n",
    "train_features.FireplaceQu = train_features.FireplaceQu.fillna(\"No\")\n",
    "train_features.Fireplaces = train_features.Fireplaces.fillna(0)\n",
    "train_features.Functional = train_features.Functional.fillna(\"Typ\")\n",
    "train_features.GarageType = train_features.GarageType.fillna(\"NA\")\n",
    "train_features.GarageFinish = train_features.GarageFinish.fillna(\"NA\")\n",
    "train_features.GarageQual = train_features.GarageQual.fillna(\"No\")\n",
    "train_features.GarageCond = train_features.GarageCond.fillna(\"No\")\n",
    "train_features.GarageArea = train_features.GarageArea.fillna(0)\n",
    "train_features.GarageCars = train_features.GarageCars.fillna(0)\n",
    "train_features.HalfBath = train_features.HalfBath.fillna(0)\n",
    "train_features.HeatingQC = train_features.HeatingQC.fillna(\"TA\")\n",
    "train_features.KitchenAbvGr = train_features.KitchenAbvGr.fillna(0)\n",
    "train_features.KitchenQual = train_features.KitchenQual.fillna(\"TA\")\n",
    "train_features.LotShape = train_features.LotShape.fillna(\"Reg\")\n",
    "train_features.MasVnrType = train_features.MasVnrType.fillna(\"None\")\n",
    "train_features.MasVnrArea = train_features.MasVnrArea.fillna(0)\n",
    "train_features.MiscFeature = train_features.MiscFeature.fillna(\"NA\")\n",
    "train_features.MiscVal = train_features.MiscVal.fillna(0)\n",
    "train_features.OpenPorchSF = train_features.OpenPorchSF.fillna(0)\n",
    "train_features.PavedDrive = train_features.PavedDrive.fillna(\"N\")\n",
    "train_features.PoolQC = train_features.PoolQC.fillna(\"No\")\n",
    "train_features.PoolArea = train_features.PoolArea.fillna(0)\n",
    "train_features.SaleCondition = train_features.SaleCondition.fillna(\"Normal\")\n",
    "train_features.ScreenPorch = train_features.ScreenPorch.fillna(0)\n",
    "train_features.TotRmsAbvGrd = train_features.TotRmsAbvGrd.fillna(0)\n",
    "train_features.Utilities = train_features.Utilities.fillna(\"AllPub\")\n",
    "train_features.WoodDeckSF = train_features.WoodDeckSF.fillna(0)"
   ]
  },
  {
   "cell_type": "code",
   "execution_count": 58,
   "metadata": {
    "collapsed": true
   },
   "outputs": [],
   "source": [
    "train_features.Alley = train_features.Alley.replace([\"None\",\"Grvl\",\"Pave\"],[0,1,2])\n",
    "train_features.BsmtQual = train_features.BsmtQual.replace([\"No\",\"Po\",\"Fa\",\"TA\",\"Gd\",\"Ex\"],[0,1,2,3,4,5])\n",
    "train_features.BsmtCond = train_features.BsmtCond.replace([\"No\",\"Po\",\"Fa\",\"TA\",\"Gd\",\"Ex\"],[0,1,2,3,4,5])\n",
    "train_features.BsmtExposure = train_features.BsmtExposure.replace([\"No\",\"Mn\",\"Av\",\"Gd\"],[0,1,2,3])\n",
    "train_features.BsmtFinType1 = train_features.BsmtFinType1.replace([\"No\" ,\"Unf\",\"LwQ\",\"Rec\",\"BLQ\",\"ALQ\",\"GLQ\"],[0,1,2,3,4,5,6])\n",
    "train_features.BsmtFinType2 = train_features.BsmtFinType2.replace([\"No\" ,\"Unf\",\"LwQ\",\"Rec\",\"BLQ\",\"ALQ\",\"GLQ\"],[0,1,2,3,4,5,6])\n",
    "train_features.CentralAir = train_features.CentralAir.replace([\"N\",\"Y\"],[0,1])\n",
    "train_features.Condition1 = train_features.Condition1.replace([\"Artery\",\"Feedr\",\"Norm\",\"RRNn\",\"RRAn\",\"PosN\",\"PosA\",\"RRNe\",\"RRAe\"],[0,1,2,3,4,5,6,7,8])\n",
    "train_features.Condition2 = train_features.Condition2.replace([\"Artery\",\"Feedr\",\"Norm\",\"RRNn\",\"RRAn\",\"PosN\",\"PosA\",\"RRNe\",\"RRAe\"],[0,1,2,3,4,5,6,7,8])\n",
    "train_features.ExterCond = train_features.ExterCond.replace([\"Po\",\"Fa\",\"TA\",\"Gd\",\"Ex\"],[1,2,3,4,5])\n",
    "train_features.ExterQual = train_features.ExterQual.replace([\"Po\",\"Fa\",\"TA\",\"Gd\",\"Ex\"],[1,2,3,4,5])\n",
    "train_features.Fence = train_features.Fence.replace([\"GdPrv\",\"MnPrv\",\"GdWo\",\"MnWw\",\"NA\"],[0,1,2,3,4])\n",
    "train_features.FireplaceQu = train_features.FireplaceQu.replace([\"No\",\"Po\",\"Fa\",\"TA\",\"Gd\",\"Ex\"],[0,1,2,3,4,5])\n",
    "train_features.Functional = train_features.Functional.replace([\"Sal\",\"Sev\",\"Maj2\",\"Maj1\",\"Mod\",\"Min2\",\"Min1\",\"Typ\"],[1,2,3,4,5,6,7,8])\n",
    "train_features.GarageType = train_features.GarageType.replace([\"2Types\",\"Attchd\",\"Basment\",\"BuiltIn\",\"CarPort\",\"Detchd\",\"NA\"],[0,1,2,3,4,5,6])\n",
    "train_features.GarageFinish = train_features.GarageFinish.replace([\"Fin\",\"RFn\",\"Unf\",\"NA\"],[0,1,2,3])\n",
    "train_features.GarageQual = train_features.GarageQual.replace([\"No\",\"Po\",\"Fa\",\"TA\",\"Gd\",\"Ex\"],[0,1,2,3,4,5])\n",
    "train_features.GarageCond = train_features.GarageCond.replace([\"No\",\"Po\",\"Fa\",\"TA\",\"Gd\",\"Ex\"],[0,1,2,3,4,5])\n",
    "train_features.HeatingQC = train_features.HeatingQC.replace([\"Po\",\"Fa\",\"TA\",\"Gd\",\"Ex\"],[1,2,3,4,5])\n",
    "train_features.KitchenQual = train_features.KitchenQual.replace([\"Po\",\"Fa\",\"TA\",\"Gd\",\"Ex\"],[1,2,3,4,5])\n",
    "train_features.LotShape = train_features.LotShape.replace([\"IR3\",\"IR2\",\"IR1\",\"Reg\"],[1,2,3,4])\n",
    "train_features.MasVnrType = train_features.MasVnrType.replace([\"BrkCmn\",\"BrkFace\",\"CBlock\",\"None\",\"Stone\"],[0,1,2,3,4])\n",
    "train_features.MiscFeature = train_features.MiscFeature.replace([\"Elev\",\"Gar2\",\"Othr\",\"Shed\",\"TenC\",\"NA\"],[0,1,2,3,4,5])\n",
    "train_features.PavedDrive = train_features.PavedDrive.replace([\"N\",\"P\",\"Y\"],[0,1,2])\n",
    "train_features.PoolQC = train_features.PoolQC.replace([\"No\",\"Fa\",\"TA\",\"Gd\",\"Ex\"],[0,1,2,3,4])\n",
    "train_features.SaleCondition = train_features.SaleCondition.replace([\"Abnorml\",\"Alloca\",\"AdjLand\",\"Family\",\"Normal\",\"Partial\"],[0,1,2,3,4,5])\n",
    "train_features.Utilities = train_features.Utilities.replace([\"ELO\",\"NoSeWa\",\"NoSewr\",\"AllPub\"],[1,2,3,4])"
   ]
  },
  {
   "cell_type": "code",
   "execution_count": 59,
   "metadata": {},
   "outputs": [
    {
     "data": {
      "text/plain": [
       "45"
      ]
     },
     "execution_count": 59,
     "metadata": {},
     "output_type": "execute_result"
    }
   ],
   "source": [
    "train_features = train_features[['GrLivArea','Alley','BedroomAbvGr','BsmtQual','BsmtCond','BsmtExposure','BsmtFinType1','BsmtFinType2','BsmtFullBath','BsmtHalfBath','BsmtUnfSF','CentralAir','Condition1','Condition2','EnclosedPorch','ExterCond','ExterQual','Fence','FireplaceQu','Fireplaces','Functional','GarageType','GarageFinish','GarageQual','GarageCond','GarageArea','GarageCars','HalfBath','HeatingQC','KitchenAbvGr','KitchenQual','LotShape','MasVnrType','MasVnrArea','MiscFeature','MiscVal','OpenPorchSF','PavedDrive','PoolQC','PoolArea','SaleCondition','ScreenPorch','TotRmsAbvGrd','Utilities','WoodDeckSF']]\n",
    "train_features.columns.size"
   ]
  },
  {
   "cell_type": "code",
   "execution_count": 60,
   "metadata": {},
   "outputs": [
    {
     "name": "stdout",
     "output_type": "stream",
     "text": [
      "test : (1459, 80)\n"
     ]
    }
   ],
   "source": [
    "# Get data\n",
    "test = pd.read_csv(\"test.csv\")\n",
    "print(\"test : \" + str(test.shape))"
   ]
  },
  {
   "cell_type": "code",
   "execution_count": 61,
   "metadata": {},
   "outputs": [
    {
     "name": "stdout",
     "output_type": "stream",
     "text": [
      "no duplicates\n"
     ]
    }
   ],
   "source": [
    "# Check for duplicates   \n",
    "if len(test.Id) == len(set(test.Id)):\n",
    "    print \"no duplicates\"\n",
    "else:\n",
    "    print \"duplicates\"\n",
    "test_ids = test[\"Id\"]\n",
    "test = test.drop(\"Id\", axis = 1)"
   ]
  },
  {
   "cell_type": "code",
   "execution_count": 62,
   "metadata": {
    "collapsed": true
   },
   "outputs": [],
   "source": [
    "test.Alley = test.Alley.fillna(\"None\")\n",
    "test.BedroomAbvGr = test.BedroomAbvGr.fillna(0)\n",
    "test.BsmtQual = test.BsmtQual.fillna(\"No\")\n",
    "test.BsmtCond = test.BsmtCond.fillna(\"No\")\n",
    "test.BsmtExposure = test.BsmtExposure.fillna(\"No\")\n",
    "test.BsmtFinType1 = test.BsmtFinType1.fillna(\"No\")\n",
    "test.BsmtFinType2 = test.BsmtFinType2.fillna(\"No\")\n",
    "test.BsmtFullBath = test.BsmtFullBath.fillna(0)\n",
    "test.BsmtHalfBath = test.BsmtHalfBath.fillna(0)\n",
    "test.BsmtUnfSF = test.BsmtUnfSF.fillna(0)\n",
    "test.CentralAir = test.CentralAir.fillna(\"N\")\n",
    "test.Condition1 = test.Condition1.fillna(\"Norm\")\n",
    "test.Condition2 = test.Condition2.fillna(\"Norm\")\n",
    "test.EnclosedPorch = test.EnclosedPorch.fillna(0)\n",
    "test.ExterCond = test.ExterCond.fillna(\"TA\")\n",
    "test.ExterQual = test.ExterQual.fillna(\"TA\")\n",
    "test.Fence = test.Fence.fillna(\"NA\")\n",
    "test.FireplaceQu = test.FireplaceQu.fillna(\"No\")\n",
    "test.Fireplaces = test.Fireplaces.fillna(0)\n",
    "test.Functional = test.Functional.fillna(\"Typ\")\n",
    "test.GarageType = test.GarageType.fillna(\"NA\")\n",
    "test.GarageFinish = test.GarageFinish.fillna(\"NA\")\n",
    "test.GarageQual = test.GarageQual.fillna(\"No\")\n",
    "test.GarageCond = test.GarageCond.fillna(\"No\")\n",
    "test.GarageArea = test.GarageArea.fillna(0)\n",
    "test.GarageCars = test.GarageCars.fillna(0)\n",
    "test.HalfBath = test.HalfBath.fillna(0)\n",
    "test.HeatingQC = test.HeatingQC.fillna(\"TA\")\n",
    "test.KitchenAbvGr = test.KitchenAbvGr.fillna(0)\n",
    "test.KitchenQual = test.KitchenQual.fillna(\"TA\")\n",
    "test.LotShape = test.LotShape.fillna(\"Reg\")\n",
    "test.MasVnrType = test.MasVnrType.fillna(\"None\")\n",
    "test.MasVnrArea = test.MasVnrArea.fillna(0)\n",
    "test.MiscFeature = test.MiscFeature.fillna(\"NA\")\n",
    "test.MiscVal = test.MiscVal.fillna(0)\n",
    "test.OpenPorchSF = test.OpenPorchSF.fillna(0)\n",
    "test.PavedDrive = test.PavedDrive.fillna(\"N\")\n",
    "test.PoolQC = test.PoolQC.fillna(\"No\")\n",
    "test.PoolArea = test.PoolArea.fillna(0)\n",
    "test.SaleCondition = test.SaleCondition.fillna(\"Normal\")\n",
    "test.ScreenPorch = test.ScreenPorch.fillna(0)\n",
    "test.TotRmsAbvGrd = test.TotRmsAbvGrd.fillna(0)\n",
    "test.Utilities = test.Utilities.fillna(\"AllPub\")\n",
    "test.WoodDeckSF = test.WoodDeckSF.fillna(0)"
   ]
  },
  {
   "cell_type": "code",
   "execution_count": 63,
   "metadata": {
    "collapsed": true
   },
   "outputs": [],
   "source": [
    "test.Alley = test.Alley.replace([\"None\",\"Grvl\",\"Pave\"],[0,1,2])\n",
    "test.BsmtQual = test.BsmtQual.replace([\"No\",\"Po\",\"Fa\",\"TA\",\"Gd\",\"Ex\"],[0,1,2,3,4,5])\n",
    "test.BsmtCond = test.BsmtCond.replace([\"No\",\"Po\",\"Fa\",\"TA\",\"Gd\",\"Ex\"],[0,1,2,3,4,5])\n",
    "test.BsmtExposure = test.BsmtExposure.replace([\"No\",\"Mn\",\"Av\",\"Gd\"],[0,1,2,3])\n",
    "test.BsmtFinType1 = test.BsmtFinType1.replace([\"No\" ,\"Unf\",\"LwQ\",\"Rec\",\"BLQ\",\"ALQ\",\"GLQ\"],[0,1,2,3,4,5,6])\n",
    "test.BsmtFinType2 = test.BsmtFinType2.replace([\"No\" ,\"Unf\",\"LwQ\",\"Rec\",\"BLQ\",\"ALQ\",\"GLQ\"],[0,1,2,3,4,5,6])\n",
    "test.CentralAir = test.CentralAir.replace([\"N\",\"Y\"],[0,1])\n",
    "test.Condition1 = test.Condition1.replace([\"Artery\",\"Feedr\",\"Norm\",\"RRNn\",\"RRAn\",\"PosN\",\"PosA\",\"RRNe\",\"RRAe\"],[0,1,2,3,4,5,6,7,8])\n",
    "test.Condition2 = test.Condition2.replace([\"Artery\",\"Feedr\",\"Norm\",\"RRNn\",\"RRAn\",\"PosN\",\"PosA\",\"RRNe\",\"RRAe\"],[0,1,2,3,4,5,6,7,8])\n",
    "test.ExterCond = test.ExterCond.replace([\"Po\",\"Fa\",\"TA\",\"Gd\",\"Ex\"],[1,2,3,4,5])\n",
    "test.ExterQual = test.ExterQual.replace([\"Po\",\"Fa\",\"TA\",\"Gd\",\"Ex\"],[1,2,3,4,5])\n",
    "test.Fence = test.Fence.replace([\"GdPrv\",\"MnPrv\",\"GdWo\",\"MnWw\",\"NA\"],[0,1,2,3,4])\n",
    "test.FireplaceQu = test.FireplaceQu.replace([\"No\",\"Po\",\"Fa\",\"TA\",\"Gd\",\"Ex\"],[0,1,2,3,4,5])\n",
    "test.Functional = test.Functional.replace([\"Sal\",\"Sev\",\"Maj2\",\"Maj1\",\"Mod\",\"Min2\",\"Min1\",\"Typ\"],[1,2,3,4,5,6,7,8])\n",
    "test.GarageType = test.GarageType.replace([\"2Types\",\"Attchd\",\"Basment\",\"BuiltIn\",\"CarPort\",\"Detchd\",\"NA\"],[0,1,2,3,4,5,6])\n",
    "test.GarageFinish = test.GarageFinish.replace([\"Fin\",\"RFn\",\"Unf\",\"NA\"],[0,1,2,3])\n",
    "test.GarageQual = test.GarageQual.replace([\"No\",\"Po\",\"Fa\",\"TA\",\"Gd\",\"Ex\"],[0,1,2,3,4,5])\n",
    "test.GarageCond = test.GarageCond.replace([\"No\",\"Po\",\"Fa\",\"TA\",\"Gd\",\"Ex\"],[0,1,2,3,4,5])\n",
    "test.HeatingQC = test.HeatingQC.replace([\"Po\",\"Fa\",\"TA\",\"Gd\",\"Ex\"],[1,2,3,4,5])\n",
    "test.KitchenQual = test.KitchenQual.replace([\"Po\",\"Fa\",\"TA\",\"Gd\",\"Ex\"],[1,2,3,4,5])\n",
    "test.LotShape = test.LotShape.replace([\"IR3\",\"IR2\",\"IR1\",\"Reg\"],[1,2,3,4])\n",
    "test.MasVnrType = test.MasVnrType.replace([\"BrkCmn\",\"BrkFace\",\"CBlock\",\"None\",\"Stone\"],[0,1,2,3,4])\n",
    "test.MiscFeature = test.MiscFeature.replace([\"Elev\",\"Gar2\",\"Othr\",\"Shed\",\"TenC\",\"NA\"],[0,1,2,3,4,5])\n",
    "test.PavedDrive = test.PavedDrive.replace([\"N\",\"P\",\"Y\"],[0,1,2])\n",
    "test.PoolQC = test.PoolQC.replace([\"No\",\"Fa\",\"TA\",\"Gd\",\"Ex\"],[0,1,2,3,4])\n",
    "test.SaleCondition = test.SaleCondition.replace([\"Abnorml\",\"Alloca\",\"AdjLand\",\"Family\",\"Normal\",\"Partial\"],[0,1,2,3,4,5])\n",
    "test.Utilities = test.Utilities.replace([\"ELO\",\"NoSeWa\",\"NoSewr\",\"AllPub\"],[1,2,3,4])"
   ]
  },
  {
   "cell_type": "code",
   "execution_count": 64,
   "metadata": {},
   "outputs": [
    {
     "data": {
      "text/plain": [
       "45"
      ]
     },
     "execution_count": 64,
     "metadata": {},
     "output_type": "execute_result"
    }
   ],
   "source": [
    "test_features = test[['GrLivArea','Alley','BedroomAbvGr','BsmtQual','BsmtCond','BsmtExposure','BsmtFinType1','BsmtFinType2','BsmtFullBath','BsmtHalfBath','BsmtUnfSF','CentralAir','Condition1','Condition2','EnclosedPorch','ExterCond','ExterQual','Fence','FireplaceQu','Fireplaces','Functional','GarageType','GarageFinish','GarageQual','GarageCond','GarageArea','GarageCars','HalfBath','HeatingQC','KitchenAbvGr','KitchenQual','LotShape','MasVnrType','MasVnrArea','MiscFeature','MiscVal','OpenPorchSF','PavedDrive','PoolQC','PoolArea','SaleCondition','ScreenPorch','TotRmsAbvGrd','Utilities','WoodDeckSF']]\n",
    "test_features.columns.size"
   ]
  },
  {
   "cell_type": "code",
   "execution_count": 65,
   "metadata": {},
   "outputs": [
    {
     "name": "stdout",
     "output_type": "stream",
     "text": [
      "(1458, 45)\n",
      "(1458,)\n",
      "(1459, 45)\n"
     ]
    }
   ],
   "source": [
    "print(train_features.shape)\n",
    "print(train_labels.shape)\n",
    "print(test_features.shape)"
   ]
  },
  {
   "cell_type": "code",
   "execution_count": 66,
   "metadata": {},
   "outputs": [
    {
     "data": {
      "text/plain": [
       "RandomForestRegressor(bootstrap=True, criterion='mse', max_depth=3,\n",
       "           max_features='auto', max_leaf_nodes=None,\n",
       "           min_impurity_split=1e-07, min_samples_leaf=1,\n",
       "           min_samples_split=2, min_weight_fraction_leaf=0.0,\n",
       "           n_estimators=10, n_jobs=1, oob_score=False, random_state=0,\n",
       "           verbose=0, warm_start=False)"
      ]
     },
     "execution_count": 66,
     "metadata": {},
     "output_type": "execute_result"
    }
   ],
   "source": [
    "from sklearn.ensemble import RandomForestRegressor\n",
    "regr = RandomForestRegressor(max_depth=3, random_state=0)\n",
    "regr.fit(train_features, train_labels)"
   ]
  },
  {
   "cell_type": "code",
   "execution_count": 67,
   "metadata": {},
   "outputs": [
    {
     "name": "stderr",
     "output_type": "stream",
     "text": [
      "/Users/mohitsharma/anaconda/lib/python2.7/site-packages/ipykernel_launcher.py:2: SettingWithCopyWarning: \n",
      "A value is trying to be set on a copy of a slice from a DataFrame.\n",
      "Try using .loc[row_indexer,col_indexer] = value instead\n",
      "\n",
      "See the caveats in the documentation: http://pandas.pydata.org/pandas-docs/stable/indexing.html#indexing-view-versus-copy\n",
      "  \n",
      "/Users/mohitsharma/anaconda/lib/python2.7/site-packages/ipykernel_launcher.py:3: SettingWithCopyWarning: \n",
      "A value is trying to be set on a copy of a slice from a DataFrame.\n",
      "Try using .loc[row_indexer,col_indexer] = value instead\n",
      "\n",
      "See the caveats in the documentation: http://pandas.pydata.org/pandas-docs/stable/indexing.html#indexing-view-versus-copy\n",
      "  This is separate from the ipykernel package so we can avoid doing imports until\n"
     ]
    }
   ],
   "source": [
    "test_labels = regr.predict(test_features)\n",
    "test_features[\"SalePrice\"] = test_labels\n",
    "test_features[\"Id\"] = test_ids"
   ]
  },
  {
   "cell_type": "code",
   "execution_count": 71,
   "metadata": {},
   "outputs": [
    {
     "name": "stdout",
     "output_type": "stream",
     "text": [
      "        Id  SalePrice\n",
      "0     1461 134901.519\n",
      "1     1462 137498.091\n",
      "2     1463 184304.117\n",
      "3     1464 185159.916\n",
      "4     1465 173207.906\n",
      "5     1466 176097.286\n",
      "6     1467 142646.398\n",
      "7     1468 163504.600\n",
      "8     1469 149161.144\n",
      "9     1470 138953.493\n",
      "10    1471 173207.906\n",
      "11    1472 116424.110\n",
      "12    1473 119473.013\n",
      "13    1474 159110.174\n",
      "14    1475 138594.424\n",
      "15    1476 367080.910\n",
      "16    1477 283706.178\n",
      "17    1478 312903.291\n",
      "18    1479 288075.616\n",
      "19    1480 394433.100\n",
      "20    1481 295587.149\n",
      "21    1482 173207.906\n",
      "22    1483 173207.906\n",
      "23    1484 173207.906\n",
      "24    1485 173207.906\n",
      "25    1486 223630.159\n",
      "26    1487 311837.005\n",
      "27    1488 283706.178\n",
      "28    1489 191266.814\n",
      "29    1490 191869.745\n",
      "...    ...        ...\n",
      "1429  2890 116424.110\n",
      "1430  2891 171605.228\n",
      "1431  2892 107830.058\n",
      "1432  2893 119738.796\n",
      "1433  2894 107830.058\n",
      "1434  2895 229491.733\n",
      "1435  2896 223630.159\n",
      "1436  2897 184304.117\n",
      "1437  2898 161425.692\n",
      "1438  2899 209764.960\n",
      "1439  2900 138953.493\n",
      "1440  2901 185000.894\n",
      "1441  2902 173207.906\n",
      "1442  2903 311837.005\n",
      "1443  2904 278803.800\n",
      "1444  2905 161425.692\n",
      "1445  2906 147800.396\n",
      "1446  2907 129890.052\n",
      "1447  2908 134901.519\n",
      "1448  2909 164809.762\n",
      "1449  2910 120117.014\n",
      "1450  2911 131852.615\n",
      "1451  2912 137498.091\n",
      "1452  2913 116424.110\n",
      "1453  2914 116424.110\n",
      "1454  2915 116424.110\n",
      "1455  2916 116424.110\n",
      "1456  2917 123524.988\n",
      "1457  2918 120117.014\n",
      "1458  2919 165926.668\n",
      "\n",
      "[1459 rows x 2 columns]\n"
     ]
    }
   ],
   "source": [
    "test_results = test_features[['Id','SalePrice']]\n",
    "file_name = \"submission.csv\"\n",
    "test_results.to_csv(file_name, encoding='utf-8', index=False)\n",
    "print(test_results)"
   ]
  }
 ],
 "metadata": {
  "kernelspec": {
   "display_name": "Python 2",
   "language": "python",
   "name": "python2"
  },
  "language_info": {
   "codemirror_mode": {
    "name": "ipython",
    "version": 2
   },
   "file_extension": ".py",
   "mimetype": "text/x-python",
   "name": "python",
   "nbconvert_exporter": "python",
   "pygments_lexer": "ipython2",
   "version": "2.7.13"
  }
 },
 "nbformat": 4,
 "nbformat_minor": 2
}
