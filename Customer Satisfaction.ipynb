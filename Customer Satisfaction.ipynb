{
 "cells": [
  {
   "cell_type": "code",
   "execution_count": 2,
   "metadata": {
    "collapsed": true
   },
   "outputs": [],
   "source": [
    "import numpy as np\n",
    "import pandas as pd\n",
    "import matplotlib.pyplot as plt\n",
    "from sklearn import cluster\n",
    "from sklearn import ensemble\n",
    "from sklearn import cross_validation\n",
    "from sklearn.metrics import roc_auc_score as auc\n",
    "import time"
   ]
  },
  {
   "cell_type": "code",
   "execution_count": 4,
   "metadata": {
    "collapsed": true
   },
   "outputs": [],
   "source": [
    "plt.rcParams['figure.figsize'] = (10, 10)"
   ]
  },
  {
   "cell_type": "code",
   "execution_count": 6,
   "metadata": {
    "collapsed": true
   },
   "outputs": [],
   "source": [
    "trainDataFrame = pd.read_csv('customer_satisfaction/train.csv')"
   ]
  },
  {
   "cell_type": "code",
   "execution_count": 7,
   "metadata": {},
   "outputs": [
    {
     "name": "stdout",
     "output_type": "stream",
     "text": [
      "   ID  var3  var15  imp_ent_var16_ult1  imp_op_var39_comer_ult1  \\\n",
      "0   1     2     23                 0.0                      0.0   \n",
      "1   3     2     34                 0.0                      0.0   \n",
      "2   4     2     23                 0.0                      0.0   \n",
      "3   8     2     37                 0.0                    195.0   \n",
      "4  10     2     39                 0.0                      0.0   \n",
      "\n",
      "   imp_op_var39_comer_ult3  imp_op_var40_comer_ult1  imp_op_var40_comer_ult3  \\\n",
      "0                      0.0                      0.0                      0.0   \n",
      "1                      0.0                      0.0                      0.0   \n",
      "2                      0.0                      0.0                      0.0   \n",
      "3                    195.0                      0.0                      0.0   \n",
      "4                      0.0                      0.0                      0.0   \n",
      "\n",
      "   imp_op_var40_efect_ult1  imp_op_var40_efect_ult3   ...    \\\n",
      "0                      0.0                      0.0   ...     \n",
      "1                      0.0                      0.0   ...     \n",
      "2                      0.0                      0.0   ...     \n",
      "3                      0.0                      0.0   ...     \n",
      "4                      0.0                      0.0   ...     \n",
      "\n",
      "   saldo_medio_var33_hace2  saldo_medio_var33_hace3  saldo_medio_var33_ult1  \\\n",
      "0                      0.0                      0.0                     0.0   \n",
      "1                      0.0                      0.0                     0.0   \n",
      "2                      0.0                      0.0                     0.0   \n",
      "3                      0.0                      0.0                     0.0   \n",
      "4                      0.0                      0.0                     0.0   \n",
      "\n",
      "   saldo_medio_var33_ult3  saldo_medio_var44_hace2  saldo_medio_var44_hace3  \\\n",
      "0                     0.0                      0.0                      0.0   \n",
      "1                     0.0                      0.0                      0.0   \n",
      "2                     0.0                      0.0                      0.0   \n",
      "3                     0.0                      0.0                      0.0   \n",
      "4                     0.0                      0.0                      0.0   \n",
      "\n",
      "   saldo_medio_var44_ult1  saldo_medio_var44_ult3          var38  TARGET  \n",
      "0                     0.0                     0.0   39205.170000       0  \n",
      "1                     0.0                     0.0   49278.030000       0  \n",
      "2                     0.0                     0.0   67333.770000       0  \n",
      "3                     0.0                     0.0   64007.970000       0  \n",
      "4                     0.0                     0.0  117310.979016       0  \n",
      "\n",
      "[5 rows x 371 columns]\n"
     ]
    }
   ],
   "source": [
    "print(trainDataFrame.head())"
   ]
  },
  {
   "cell_type": "code",
   "execution_count": 8,
   "metadata": {},
   "outputs": [
    {
     "name": "stdout",
     "output_type": "stream",
     "text": [
      "Index([u'ID', u'var3', u'var15', u'imp_ent_var16_ult1',\n",
      "       u'imp_op_var39_comer_ult1', u'imp_op_var39_comer_ult3',\n",
      "       u'imp_op_var40_comer_ult1', u'imp_op_var40_comer_ult3',\n",
      "       u'imp_op_var40_efect_ult1', u'imp_op_var40_efect_ult3',\n",
      "       ...\n",
      "       u'saldo_medio_var33_hace2', u'saldo_medio_var33_hace3',\n",
      "       u'saldo_medio_var33_ult1', u'saldo_medio_var33_ult3',\n",
      "       u'saldo_medio_var44_hace2', u'saldo_medio_var44_hace3',\n",
      "       u'saldo_medio_var44_ult1', u'saldo_medio_var44_ult3', u'var38',\n",
      "       u'TARGET'],\n",
      "      dtype='object', length=371)\n"
     ]
    }
   ],
   "source": [
    "print(trainDataFrame.columns)"
   ]
  },
  {
   "cell_type": "code",
   "execution_count": 12,
   "metadata": {},
   "outputs": [
    {
     "name": "stdout",
     "output_type": "stream",
     "text": [
      "(76020, 371)\n"
     ]
    }
   ],
   "source": [
    "print(trainDataFrame.shape)"
   ]
  },
  {
   "cell_type": "code",
   "execution_count": 14,
   "metadata": {},
   "outputs": [
    {
     "name": "stdout",
     "output_type": "stream",
     "text": [
      "                  ID           var3         var15  imp_ent_var16_ult1  \\\n",
      "count   76020.000000   76020.000000  76020.000000        76020.000000   \n",
      "mean    75964.050723   -1523.199277     33.212865           86.208265   \n",
      "std     43781.947379   39033.462364     12.956486         1614.757313   \n",
      "min         1.000000 -999999.000000      5.000000            0.000000   \n",
      "25%     38104.750000       2.000000     23.000000            0.000000   \n",
      "50%     76043.000000       2.000000     28.000000            0.000000   \n",
      "75%    113748.750000       2.000000     40.000000            0.000000   \n",
      "max    151838.000000     238.000000    105.000000       210000.000000   \n",
      "\n",
      "       imp_op_var39_comer_ult1  imp_op_var39_comer_ult3  \\\n",
      "count             76020.000000             76020.000000   \n",
      "mean                 72.363067               119.529632   \n",
      "std                 339.315831               546.266294   \n",
      "min                   0.000000                 0.000000   \n",
      "25%                   0.000000                 0.000000   \n",
      "50%                   0.000000                 0.000000   \n",
      "75%                   0.000000                 0.000000   \n",
      "max               12888.030000             21024.810000   \n",
      "\n",
      "       imp_op_var40_comer_ult1  imp_op_var40_comer_ult3  \\\n",
      "count             76020.000000             76020.000000   \n",
      "mean                  3.559130                 6.472698   \n",
      "std                  93.155749               153.737066   \n",
      "min                   0.000000                 0.000000   \n",
      "25%                   0.000000                 0.000000   \n",
      "50%                   0.000000                 0.000000   \n",
      "75%                   0.000000                 0.000000   \n",
      "max                8237.820000             11073.570000   \n",
      "\n",
      "       imp_op_var40_efect_ult1  imp_op_var40_efect_ult3      ...       \\\n",
      "count             76020.000000             76020.000000      ...        \n",
      "mean                  0.412946                 0.567352      ...        \n",
      "std                  30.604864                36.513513      ...        \n",
      "min                   0.000000                 0.000000      ...        \n",
      "25%                   0.000000                 0.000000      ...        \n",
      "50%                   0.000000                 0.000000      ...        \n",
      "75%                   0.000000                 0.000000      ...        \n",
      "max                6600.000000              6600.000000      ...        \n",
      "\n",
      "       saldo_medio_var33_hace2  saldo_medio_var33_hace3  \\\n",
      "count             76020.000000             76020.000000   \n",
      "mean                  7.935824                 1.365146   \n",
      "std                 455.887218               113.959637   \n",
      "min                   0.000000                 0.000000   \n",
      "25%                   0.000000                 0.000000   \n",
      "50%                   0.000000                 0.000000   \n",
      "75%                   0.000000                 0.000000   \n",
      "max               50003.880000             20385.720000   \n",
      "\n",
      "       saldo_medio_var33_ult1  saldo_medio_var33_ult3  \\\n",
      "count            76020.000000            76020.000000   \n",
      "mean                12.215580                8.784074   \n",
      "std                783.207399              538.439211   \n",
      "min                  0.000000                0.000000   \n",
      "25%                  0.000000                0.000000   \n",
      "50%                  0.000000                0.000000   \n",
      "75%                  0.000000                0.000000   \n",
      "max             138831.630000            91778.730000   \n",
      "\n",
      "       saldo_medio_var44_hace2  saldo_medio_var44_hace3  \\\n",
      "count             76020.000000             76020.000000   \n",
      "mean                 31.505324                 1.858575   \n",
      "std                2013.125393               147.786584   \n",
      "min                   0.000000                 0.000000   \n",
      "25%                   0.000000                 0.000000   \n",
      "50%                   0.000000                 0.000000   \n",
      "75%                   0.000000                 0.000000   \n",
      "max              438329.220000             24650.010000   \n",
      "\n",
      "       saldo_medio_var44_ult1  saldo_medio_var44_ult3         var38  \\\n",
      "count            76020.000000            76020.000000  7.602000e+04   \n",
      "mean                76.026165               56.614351  1.172358e+05   \n",
      "std               4040.337842             2852.579397  1.826646e+05   \n",
      "min                  0.000000                0.000000  5.163750e+03   \n",
      "25%                  0.000000                0.000000  6.787061e+04   \n",
      "50%                  0.000000                0.000000  1.064092e+05   \n",
      "75%                  0.000000                0.000000  1.187563e+05   \n",
      "max             681462.900000           397884.300000  2.203474e+07   \n",
      "\n",
      "             TARGET  \n",
      "count  76020.000000  \n",
      "mean       0.039569  \n",
      "std        0.194945  \n",
      "min        0.000000  \n",
      "25%        0.000000  \n",
      "50%        0.000000  \n",
      "75%        0.000000  \n",
      "max        1.000000  \n",
      "\n",
      "[8 rows x 371 columns]\n"
     ]
    }
   ],
   "source": [
    "print(trainDataFrame.describe())"
   ]
  },
  {
   "cell_type": "code",
   "execution_count": 15,
   "metadata": {},
   "outputs": [
    {
     "name": "stdout",
     "output_type": "stream",
     "text": [
      "ID                               0\n",
      "var3                             0\n",
      "var15                            0\n",
      "imp_ent_var16_ult1               0\n",
      "imp_op_var39_comer_ult1          0\n",
      "imp_op_var39_comer_ult3          0\n",
      "imp_op_var40_comer_ult1          0\n",
      "imp_op_var40_comer_ult3          0\n",
      "imp_op_var40_efect_ult1          0\n",
      "imp_op_var40_efect_ult3          0\n",
      "imp_op_var40_ult1                0\n",
      "imp_op_var41_comer_ult1          0\n",
      "imp_op_var41_comer_ult3          0\n",
      "imp_op_var41_efect_ult1          0\n",
      "imp_op_var41_efect_ult3          0\n",
      "imp_op_var41_ult1                0\n",
      "imp_op_var39_efect_ult1          0\n",
      "imp_op_var39_efect_ult3          0\n",
      "imp_op_var39_ult1                0\n",
      "imp_sal_var16_ult1               0\n",
      "ind_var1_0                       0\n",
      "ind_var1                         0\n",
      "ind_var2_0                       0\n",
      "ind_var2                         0\n",
      "ind_var5_0                       0\n",
      "ind_var5                         0\n",
      "ind_var6_0                       0\n",
      "ind_var6                         0\n",
      "ind_var8_0                       0\n",
      "ind_var8                         0\n",
      "                                ..\n",
      "saldo_medio_var13_corto_hace2    0\n",
      "saldo_medio_var13_corto_hace3    0\n",
      "saldo_medio_var13_corto_ult1     0\n",
      "saldo_medio_var13_corto_ult3     0\n",
      "saldo_medio_var13_largo_hace2    0\n",
      "saldo_medio_var13_largo_hace3    0\n",
      "saldo_medio_var13_largo_ult1     0\n",
      "saldo_medio_var13_largo_ult3     0\n",
      "saldo_medio_var13_medio_hace2    0\n",
      "saldo_medio_var13_medio_hace3    0\n",
      "saldo_medio_var13_medio_ult1     0\n",
      "saldo_medio_var13_medio_ult3     0\n",
      "saldo_medio_var17_hace2          0\n",
      "saldo_medio_var17_hace3          0\n",
      "saldo_medio_var17_ult1           0\n",
      "saldo_medio_var17_ult3           0\n",
      "saldo_medio_var29_hace2          0\n",
      "saldo_medio_var29_hace3          0\n",
      "saldo_medio_var29_ult1           0\n",
      "saldo_medio_var29_ult3           0\n",
      "saldo_medio_var33_hace2          0\n",
      "saldo_medio_var33_hace3          0\n",
      "saldo_medio_var33_ult1           0\n",
      "saldo_medio_var33_ult3           0\n",
      "saldo_medio_var44_hace2          0\n",
      "saldo_medio_var44_hace3          0\n",
      "saldo_medio_var44_ult1           0\n",
      "saldo_medio_var44_ult3           0\n",
      "var38                            0\n",
      "TARGET                           0\n",
      "Length: 371, dtype: int64\n"
     ]
    }
   ],
   "source": [
    "print(trainDataFrame.isnull().sum())"
   ]
  }
 ],
 "metadata": {
  "kernelspec": {
   "display_name": "Python 2",
   "language": "python",
   "name": "python2"
  },
  "language_info": {
   "codemirror_mode": {
    "name": "ipython",
    "version": 2
   },
   "file_extension": ".py",
   "mimetype": "text/x-python",
   "name": "python",
   "nbconvert_exporter": "python",
   "pygments_lexer": "ipython2",
   "version": "2.7.13"
  }
 },
 "nbformat": 4,
 "nbformat_minor": 2
}
