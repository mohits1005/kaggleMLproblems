{
 "cells": [
  {
   "cell_type": "code",
   "execution_count": 17,
   "metadata": {},
   "outputs": [],
   "source": [
    "# Your task is to make sure that this mapper code does not fail on corrupt data lines,\n",
    "# but instead just ignores them and continues working\n",
    "import sys\n",
    "\n",
    "def mapper():\n",
    "    # read standard input line by line\n",
    "    for line in sys.stdin:\n",
    "        # strip off extra whitespace, split on tab and put the data in an array\n",
    "        data = line.strip().split(\"\\t\")\n",
    "\n",
    "        # This is the place you need to do some defensive programming\n",
    "        # what if there are not exactly 6 fields in that line?\n",
    "        # YOUR CODE HERE\n",
    "        \n",
    "        # this next line is called 'multiple assignment' in Python\n",
    "        # this is not really necessary, we could access the data\n",
    "        # with data[2] and data[5], but we do this for conveniency\n",
    "        # and to make the code easier to read\n",
    "        \n",
    "        if len(data) == 6:\n",
    "            date, time, store, item, cost, payment = data\n",
    "\n",
    "            # Now print out the data that will be passed to the reducer\n",
    "            print \"{0}\\t{1}\".format(store, cost)\n",
    "        \n",
    "test_text = \"\"\"2013-10-09\\t13:22\\tMiami\\tBoots\\t99.95\\tVisa\n",
    "2013-10-09\\t13:22\\tNew York\\tDVD\\t9.50\\tMasterCard\n",
    "2013-10-09 13:22:59 I/O Error\n",
    "^d8x28orz28zoijzu1z1zp1OHH3du3ixwcz114<f\n",
    "1\\t2\\t3\"\"\"\n",
    "\n",
    "# This function allows you to test the mapper with the provided test string\n",
    "def main():\n",
    "\timport StringIO\n",
    "\tsys.stdin = StringIO.StringIO(test_text)\n",
    "\tmapper()\n",
    "\tsys.stdin = sys.__stdin__"
   ]
  },
  {
   "cell_type": "code",
   "execution_count": 18,
   "metadata": {},
   "outputs": [
    {
     "name": "stdout",
     "output_type": "stream",
     "text": [
      "Miami\t99.95\n",
      "New York\t9.50\n"
     ]
    }
   ],
   "source": [
    "main()"
   ]
  },
  {
   "cell_type": "code",
   "execution_count": 75,
   "metadata": {},
   "outputs": [],
   "source": [
    "def reducer():\n",
    "    salesTotal = 0\n",
    "    oldKey = None\n",
    "\n",
    "    for line in sys.stdin:\n",
    "        data = line.strip().split(\"\\t\")\n",
    "        if len(data) != 2:\n",
    "            # Something has gone wrong. Skip this line.\n",
    "            continue\n",
    "\n",
    "        thisKey, thisSale = data\n",
    "        if oldKey and oldKey != thisKey:\n",
    "            print oldKey, \"\\t\", salesTotal\n",
    "            oldKey = thisKey\n",
    "            salesTotal = 0\n",
    "\n",
    "        oldKey = thisKey\n",
    "        salesTotal += float(thisSale)\n",
    "\n",
    "    if oldKey != None:\n",
    "        print oldKey, \"\\t\", salesTotal"
   ]
  },
  {
   "cell_type": "code",
   "execution_count": 76,
   "metadata": {},
   "outputs": [
    {
     "name": "stdout",
     "output_type": "stream",
     "text": [
      "Miami \t299.85\n",
      "New York \t19.0\n"
     ]
    }
   ],
   "source": [
    "test_text = \"\"\"Miami\\t99.95\n",
    "Miami\\t99.95\n",
    "Miami\\t99.95\n",
    "New York\\t9.50\n",
    "New York\\t9.50\"\"\"\n",
    "\n",
    "# This function allows you to test the mapper with the provided test string\n",
    "import StringIO\n",
    "sys.stdin = StringIO.StringIO(test_text)\n",
    "reducer()\n",
    "sys.stdin = sys.__stdin__"
   ]
  }
 ],
 "metadata": {
  "kernelspec": {
   "display_name": "Python 2",
   "language": "python",
   "name": "python2"
  },
  "language_info": {
   "codemirror_mode": {
    "name": "ipython",
    "version": 2
   },
   "file_extension": ".py",
   "mimetype": "text/x-python",
   "name": "python",
   "nbconvert_exporter": "python",
   "pygments_lexer": "ipython2",
   "version": "2.7.13"
  }
 },
 "nbformat": 4,
 "nbformat_minor": 2
}
