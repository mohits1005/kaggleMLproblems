{
 "cells": [
  {
   "cell_type": "code",
   "execution_count": 2,
   "metadata": {
    "collapsed": true
   },
   "outputs": [],
   "source": [
    "import numpy as np # linear algebra\n",
    "import pandas as pd # data processing, CSV file I/O (e.g. pd.read_csv)\n",
    "import seaborn as sns # data visualization library  \n",
    "import matplotlib.pyplot as plt\n",
    "%matplotlib inline"
   ]
  },
  {
   "cell_type": "code",
   "execution_count": 4,
   "metadata": {},
   "outputs": [],
   "source": [
    "train = pd.read_csv(\"bicycle/bicycle.csv\")"
   ]
  },
  {
   "cell_type": "code",
   "execution_count": 6,
   "metadata": {},
   "outputs": [
    {
     "name": "stdout",
     "output_type": "stream",
     "text": [
      "(210, 11)\n",
      "<bound method DataFrame.head of      Unnamed: 0                 Date                  Day  High Temp (°F)  \\\n",
      "0             0  2016-04-01 00:00:00  2016-04-01 00:00:00            78.1   \n",
      "1             1  2016-04-02 00:00:00  2016-04-02 00:00:00            55.0   \n",
      "2             2  2016-04-03 00:00:00  2016-04-03 00:00:00            39.9   \n",
      "3             3  2016-04-04 00:00:00  2016-04-04 00:00:00            44.1   \n",
      "4             4  2016-04-05 00:00:00  2016-04-05 00:00:00            42.1   \n",
      "5             5  2016-04-06 00:00:00  2016-04-06 00:00:00            45.0   \n",
      "6             6  2016-04-07 00:00:00  2016-04-07 00:00:00            57.0   \n",
      "7             7  2016-04-08 00:00:00  2016-04-08 00:00:00            46.9   \n",
      "8             8  2016-04-09 00:00:00  2016-04-09 00:00:00            43.0   \n",
      "9             9  2016-04-10 00:00:00  2016-04-10 00:00:00            48.9   \n",
      "10           10  2016-04-11 00:00:00  2016-04-11 00:00:00            62.1   \n",
      "11           11  2016-04-12 00:00:00  2016-04-12 00:00:00            57.0   \n",
      "12           12  2016-04-13 00:00:00  2016-04-13 00:00:00            57.0   \n",
      "13           13  2016-04-14 00:00:00  2016-04-14 00:00:00            62.1   \n",
      "14           14  2016-04-15 00:00:00  2016-04-15 00:00:00            64.0   \n",
      "15           15  2016-04-16 00:00:00  2016-04-16 00:00:00            66.0   \n",
      "16           16  2016-04-17 00:00:00  2016-04-17 00:00:00            73.9   \n",
      "17           17  2016-04-18 00:00:00  2016-04-18 00:00:00            81.0   \n",
      "18           18  2016-04-19 00:00:00  2016-04-19 00:00:00            71.1   \n",
      "19           19  2016-04-20 00:00:00  2016-04-20 00:00:00            68.0   \n",
      "20           20  2016-04-21 00:00:00  2016-04-21 00:00:00            71.1   \n",
      "21           21  2016-04-22 00:00:00  2016-04-22 00:00:00            78.1   \n",
      "22           22  2016-04-23 00:00:00  2016-04-23 00:00:00            70.0   \n",
      "23           23  2016-04-24 00:00:00  2016-04-24 00:00:00            68.0   \n",
      "24           24  2016-04-25 00:00:00  2016-04-25 00:00:00            66.9   \n",
      "25           25  2016-04-26 00:00:00  2016-04-26 00:00:00            60.1   \n",
      "26           26  2016-04-27 00:00:00  2016-04-27 00:00:00            62.1   \n",
      "27           27  2016-04-28 00:00:00  2016-04-28 00:00:00            57.9   \n",
      "28           28  2016-04-29 00:00:00  2016-04-29 00:00:00            57.0   \n",
      "29           29  2016-04-30 00:00:00  2016-04-30 00:00:00            64.0   \n",
      "..          ...                  ...                  ...             ...   \n",
      "180         180  2016-04-01 00:00:00  2016-04-01 00:00:00            78.1   \n",
      "181         181  2016-04-02 00:00:00  2016-04-02 00:00:00            55.0   \n",
      "182         182  2016-04-03 00:00:00  2016-04-03 00:00:00            39.9   \n",
      "183         183  2016-04-04 00:00:00  2016-04-04 00:00:00            44.1   \n",
      "184         184  2016-04-05 00:00:00  2016-04-05 00:00:00            42.1   \n",
      "185         185  2016-04-06 00:00:00  2016-04-06 00:00:00            45.0   \n",
      "186         186  2016-04-07 00:00:00  2016-04-07 00:00:00            57.0   \n",
      "187         187  2016-04-08 00:00:00  2016-04-08 00:00:00            46.9   \n",
      "188         188  2016-04-09 00:00:00  2016-04-09 00:00:00            43.0   \n",
      "189         189  2016-04-10 00:00:00  2016-04-10 00:00:00            48.9   \n",
      "190         190  2016-04-11 00:00:00  2016-04-11 00:00:00            62.1   \n",
      "191         191  2016-04-12 00:00:00  2016-04-12 00:00:00            57.0   \n",
      "192         192  2016-04-13 00:00:00  2016-04-13 00:00:00            57.0   \n",
      "193         193  2016-04-14 00:00:00  2016-04-14 00:00:00            62.1   \n",
      "194         194  2016-04-15 00:00:00  2016-04-15 00:00:00            64.0   \n",
      "195         195  2016-04-16 00:00:00  2016-04-16 00:00:00            66.0   \n",
      "196         196  2016-04-17 00:00:00  2016-04-17 00:00:00            73.9   \n",
      "197         197  2016-04-18 00:00:00  2016-04-18 00:00:00            81.0   \n",
      "198         198  2016-04-19 00:00:00  2016-04-19 00:00:00            71.1   \n",
      "199         199  2016-04-20 00:00:00  2016-04-20 00:00:00            68.0   \n",
      "200         200  2016-04-21 00:00:00  2016-04-21 00:00:00            71.1   \n",
      "201         201  2016-04-22 00:00:00  2016-04-22 00:00:00            78.1   \n",
      "202         202  2016-04-23 00:00:00  2016-04-23 00:00:00            70.0   \n",
      "203         203  2016-04-24 00:00:00  2016-04-24 00:00:00            68.0   \n",
      "204         204  2016-04-25 00:00:00  2016-04-25 00:00:00            66.9   \n",
      "205         205  2016-04-26 00:00:00  2016-04-26 00:00:00            60.1   \n",
      "206         206  2016-04-27 00:00:00  2016-04-27 00:00:00            62.1   \n",
      "207         207  2016-04-28 00:00:00  2016-04-28 00:00:00            57.9   \n",
      "208         208  2016-04-29 00:00:00  2016-04-29 00:00:00            57.0   \n",
      "209         209  2016-04-30 00:00:00  2016-04-30 00:00:00            64.0   \n",
      "\n",
      "     Low Temp (°F) Precipitation  Brooklyn Bridge  Manhattan Bridge  \\\n",
      "0             66.0          0.01           1704.0              3126   \n",
      "1             48.9          0.15            827.0              1646   \n",
      "2             34.0          0.09            526.0              1232   \n",
      "3             33.1      0.47 (S)            521.0              1067   \n",
      "4             26.1             0           1416.0              2617   \n",
      "5             30.0             0           1885.0              3329   \n",
      "6             53.1          0.09           1276.0              2581   \n",
      "7             44.1          0.01           1982.0              3455   \n",
      "8             37.9          0.09            504.0               997   \n",
      "9             30.9             0           1447.0              2387   \n",
      "10            46.0          0.01           2005.0              3791   \n",
      "11            45.0           0.2           1045.0              2178   \n",
      "12            39.9             0           2840.0              5395   \n",
      "13            44.6             0           2861.0              5309   \n",
      "14            44.1             0           2770.0              5072   \n",
      "15            45.0             0           2384.0              4316   \n",
      "16            46.0             0           3147.0              4969   \n",
      "17            52.0             0           3871.0              6823   \n",
      "18            63.0             0           3501.0              6951   \n",
      "19            50.0             0           3450.0              6574   \n",
      "20            50.0             0           3436.0              6452   \n",
      "21            63.0             T           2975.0              4907   \n",
      "22            61.0          0.16           2055.0              3276   \n",
      "23            48.0             0           2798.0              4650   \n",
      "24            54.0             0           3463.0              5978   \n",
      "25            46.9          0.24           1997.0              3520   \n",
      "26            46.9             0           3343.0              5606   \n",
      "27            48.0             0           2486.0              4152   \n",
      "28            46.9          0.05           2375.0              4178   \n",
      "29            48.0             0           3199.0              4952   \n",
      "..             ...           ...              ...               ...   \n",
      "180           66.0          0.01           1704.0              3126   \n",
      "181           48.9          0.15            827.0              1646   \n",
      "182           34.0          0.09            526.0              1232   \n",
      "183           33.1      0.47 (S)            521.0              1067   \n",
      "184           26.1             0           1416.0              2617   \n",
      "185           30.0             0           1885.0              3329   \n",
      "186           53.1          0.09           1276.0              2581   \n",
      "187           44.1          0.01           1982.0              3455   \n",
      "188           37.9          0.09            504.0               997   \n",
      "189           30.9             0           1447.0              2387   \n",
      "190           46.0          0.01           2005.0              3791   \n",
      "191           45.0           0.2           1045.0              2178   \n",
      "192           39.9             0           2840.0              5395   \n",
      "193           44.6             0           2861.0              5309   \n",
      "194           44.1             0           2770.0              5072   \n",
      "195           45.0             0           2384.0              4316   \n",
      "196           46.0             0           3147.0              4969   \n",
      "197           52.0             0           3871.0              6823   \n",
      "198           63.0             0           3501.0              6951   \n",
      "199           50.0             0           3450.0              6574   \n",
      "200           50.0             0           3436.0              6452   \n",
      "201           63.0             T           2975.0              4907   \n",
      "202           61.0          0.16           2055.0              3276   \n",
      "203           48.0             0           2798.0              4650   \n",
      "204           54.0             0           3463.0              5978   \n",
      "205           46.9          0.24           1997.0              3520   \n",
      "206           46.9             0           3343.0              5606   \n",
      "207           48.0             0           2486.0              4152   \n",
      "208           46.9          0.05           2375.0              4178   \n",
      "209           48.0             0           3199.0              4952   \n",
      "\n",
      "     Williamsburg Bridge  Queensboro Bridge  Total  \n",
      "0                 4115.0             2552.0  11497  \n",
      "1                 2565.0             1884.0   6922  \n",
      "2                 1695.0             1306.0   4759  \n",
      "3                 1440.0             1307.0   4335  \n",
      "4                 3081.0             2357.0   9471  \n",
      "5                 3856.0             2849.0  11919  \n",
      "6                 3282.0             2457.0   9596  \n",
      "7                 4113.0             3194.0  12744  \n",
      "8                 1507.0             1502.0   4510  \n",
      "9                 3132.0             2160.0   9126  \n",
      "10                4334.0             3182.0  13312  \n",
      "11                2762.0             2082.0   8067  \n",
      "12                5995.0             4192.0  18422  \n",
      "13                6030.0             4115.0  18315  \n",
      "14                5816.0             3912.0  17570  \n",
      "15                5624.0             4051.0  16375  \n",
      "16                5867.0             4197.0  18180  \n",
      "17                7432.0             4964.0  23090  \n",
      "18                7834.0             5032.0  23318  \n",
      "19                7639.0             4928.0  22591  \n",
      "20                7426.0             4813.0  22127  \n",
      "21                6093.0             3862.0  17837  \n",
      "22                4856.0             3239.0  13426  \n",
      "23                5335.0             3957.0  16740  \n",
      "24                6845.0             4564.0  20850  \n",
      "25                4559.0             2929.0  13005  \n",
      "26                6577.0             4388.0  19914  \n",
      "27                5336.0             3657.0  15631  \n",
      "28                5053.0             3348.0  14954  \n",
      "29                5675.0             3606.0  17432  \n",
      "..                   ...                ...    ...  \n",
      "180               4115.0             2552.0  11497  \n",
      "181               2565.0             1884.0   6922  \n",
      "182               1695.0             1306.0   4759  \n",
      "183               1440.0             1307.0   4335  \n",
      "184               3081.0             2357.0   9471  \n",
      "185               3856.0             2849.0  11919  \n",
      "186               3282.0             2457.0   9596  \n",
      "187               4113.0             3194.0  12744  \n",
      "188               1507.0             1502.0   4510  \n",
      "189               3132.0             2160.0   9126  \n",
      "190               4334.0             3182.0  13312  \n",
      "191               2762.0             2082.0   8067  \n",
      "192               5995.0             4192.0  18422  \n",
      "193               6030.0             4115.0  18315  \n",
      "194               5816.0             3912.0  17570  \n",
      "195               5624.0             4051.0  16375  \n",
      "196               5867.0             4197.0  18180  \n",
      "197               7432.0             4964.0  23090  \n",
      "198               7834.0             5032.0  23318  \n",
      "199               7639.0             4928.0  22591  \n",
      "200               7426.0             4813.0  22127  \n",
      "201               6093.0             3862.0  17837  \n",
      "202               4856.0             3239.0  13426  \n",
      "203               5335.0             3957.0  16740  \n",
      "204               6845.0             4564.0  20850  \n",
      "205               4559.0             2929.0  13005  \n",
      "206               6577.0             4388.0  19914  \n",
      "207               5336.0             3657.0  15631  \n",
      "208               5053.0             3348.0  14954  \n",
      "209               5675.0             3606.0  17432  \n",
      "\n",
      "[210 rows x 11 columns]>\n"
     ]
    }
   ],
   "source": [
    "print(train.shape)\n",
    "print(train.head)"
   ]
  },
  {
   "cell_type": "code",
   "execution_count": 7,
   "metadata": {},
   "outputs": [
    {
     "name": "stdout",
     "output_type": "stream",
     "text": [
      "Index([u'Unnamed: 0', u'Date', u'Day', u'High Temp (°F)', u'Low Temp (°F)',\n",
      "       u'Precipitation', u'Brooklyn Bridge', u'Manhattan Bridge',\n",
      "       u'Williamsburg Bridge', u'Queensboro Bridge', u'Total'],\n",
      "      dtype='object')\n"
     ]
    }
   ],
   "source": [
    "print(train.columns)"
   ]
  },
  {
   "cell_type": "code",
   "execution_count": 8,
   "metadata": {},
   "outputs": [
    {
     "data": {
      "text/html": [
       "<div>\n",
       "<style>\n",
       "    .dataframe thead tr:only-child th {\n",
       "        text-align: right;\n",
       "    }\n",
       "\n",
       "    .dataframe thead th {\n",
       "        text-align: left;\n",
       "    }\n",
       "\n",
       "    .dataframe tbody tr th {\n",
       "        vertical-align: top;\n",
       "    }\n",
       "</style>\n",
       "<table border=\"1\" class=\"dataframe\">\n",
       "  <thead>\n",
       "    <tr style=\"text-align: right;\">\n",
       "      <th></th>\n",
       "      <th>Unnamed: 0</th>\n",
       "      <th>High Temp (°F)</th>\n",
       "      <th>Low Temp (°F)</th>\n",
       "      <th>Brooklyn Bridge</th>\n",
       "      <th>Manhattan Bridge</th>\n",
       "      <th>Williamsburg Bridge</th>\n",
       "      <th>Queensboro Bridge</th>\n",
       "      <th>Total</th>\n",
       "    </tr>\n",
       "  </thead>\n",
       "  <tbody>\n",
       "    <tr>\n",
       "      <th>count</th>\n",
       "      <td>210.000000</td>\n",
       "      <td>210.000000</td>\n",
       "      <td>210.000000</td>\n",
       "      <td>210.000000</td>\n",
       "      <td>210.000000</td>\n",
       "      <td>210.000000</td>\n",
       "      <td>210.000000</td>\n",
       "      <td>210.000000</td>\n",
       "    </tr>\n",
       "    <tr>\n",
       "      <th>mean</th>\n",
       "      <td>104.500000</td>\n",
       "      <td>60.580000</td>\n",
       "      <td>46.413333</td>\n",
       "      <td>2269.633333</td>\n",
       "      <td>4049.533333</td>\n",
       "      <td>4862.466667</td>\n",
       "      <td>3352.866667</td>\n",
       "      <td>14534.500000</td>\n",
       "    </tr>\n",
       "    <tr>\n",
       "      <th>std</th>\n",
       "      <td>60.765944</td>\n",
       "      <td>11.183223</td>\n",
       "      <td>9.522796</td>\n",
       "      <td>981.237786</td>\n",
       "      <td>1704.731356</td>\n",
       "      <td>1814.039499</td>\n",
       "      <td>1099.254419</td>\n",
       "      <td>5569.173496</td>\n",
       "    </tr>\n",
       "    <tr>\n",
       "      <th>min</th>\n",
       "      <td>0.000000</td>\n",
       "      <td>39.900000</td>\n",
       "      <td>26.100000</td>\n",
       "      <td>504.000000</td>\n",
       "      <td>997.000000</td>\n",
       "      <td>1440.000000</td>\n",
       "      <td>1306.000000</td>\n",
       "      <td>4335.000000</td>\n",
       "    </tr>\n",
       "    <tr>\n",
       "      <th>25%</th>\n",
       "      <td>52.250000</td>\n",
       "      <td>55.000000</td>\n",
       "      <td>44.100000</td>\n",
       "      <td>1447.000000</td>\n",
       "      <td>2617.000000</td>\n",
       "      <td>3282.000000</td>\n",
       "      <td>2457.000000</td>\n",
       "      <td>9596.000000</td>\n",
       "    </tr>\n",
       "    <tr>\n",
       "      <th>50%</th>\n",
       "      <td>104.500000</td>\n",
       "      <td>62.100000</td>\n",
       "      <td>46.900000</td>\n",
       "      <td>2379.500000</td>\n",
       "      <td>4165.000000</td>\n",
       "      <td>5194.000000</td>\n",
       "      <td>3477.000000</td>\n",
       "      <td>15292.500000</td>\n",
       "    </tr>\n",
       "    <tr>\n",
       "      <th>75%</th>\n",
       "      <td>156.750000</td>\n",
       "      <td>68.000000</td>\n",
       "      <td>50.000000</td>\n",
       "      <td>3147.000000</td>\n",
       "      <td>5309.000000</td>\n",
       "      <td>6030.000000</td>\n",
       "      <td>4192.000000</td>\n",
       "      <td>18315.000000</td>\n",
       "    </tr>\n",
       "    <tr>\n",
       "      <th>max</th>\n",
       "      <td>209.000000</td>\n",
       "      <td>81.000000</td>\n",
       "      <td>66.000000</td>\n",
       "      <td>3871.000000</td>\n",
       "      <td>6951.000000</td>\n",
       "      <td>7834.000000</td>\n",
       "      <td>5032.000000</td>\n",
       "      <td>23318.000000</td>\n",
       "    </tr>\n",
       "  </tbody>\n",
       "</table>\n",
       "</div>"
      ],
      "text/plain": [
       "       Unnamed: 0  High Temp (°F)  Low Temp (°F)  Brooklyn Bridge  \\\n",
       "count  210.000000      210.000000     210.000000       210.000000   \n",
       "mean   104.500000       60.580000      46.413333      2269.633333   \n",
       "std     60.765944       11.183223       9.522796       981.237786   \n",
       "min      0.000000       39.900000      26.100000       504.000000   \n",
       "25%     52.250000       55.000000      44.100000      1447.000000   \n",
       "50%    104.500000       62.100000      46.900000      2379.500000   \n",
       "75%    156.750000       68.000000      50.000000      3147.000000   \n",
       "max    209.000000       81.000000      66.000000      3871.000000   \n",
       "\n",
       "       Manhattan Bridge  Williamsburg Bridge  Queensboro Bridge         Total  \n",
       "count        210.000000           210.000000         210.000000    210.000000  \n",
       "mean        4049.533333          4862.466667        3352.866667  14534.500000  \n",
       "std         1704.731356          1814.039499        1099.254419   5569.173496  \n",
       "min          997.000000          1440.000000        1306.000000   4335.000000  \n",
       "25%         2617.000000          3282.000000        2457.000000   9596.000000  \n",
       "50%         4165.000000          5194.000000        3477.000000  15292.500000  \n",
       "75%         5309.000000          6030.000000        4192.000000  18315.000000  \n",
       "max         6951.000000          7834.000000        5032.000000  23318.000000  "
      ]
     },
     "execution_count": 8,
     "metadata": {},
     "output_type": "execute_result"
    }
   ],
   "source": [
    "train.describe()"
   ]
  },
  {
   "cell_type": "code",
   "execution_count": 9,
   "metadata": {},
   "outputs": [
    {
     "name": "stdout",
     "output_type": "stream",
     "text": [
      "count      210.000000\n",
      "mean     14534.500000\n",
      "std       5569.173496\n",
      "min       4335.000000\n",
      "25%       9596.000000\n",
      "50%      15292.500000\n",
      "75%      18315.000000\n",
      "max      23318.000000\n",
      "Name: Total, dtype: float64\n"
     ]
    }
   ],
   "source": [
    "print(train.Total.describe())"
   ]
  },
  {
   "cell_type": "code",
   "execution_count": 14,
   "metadata": {},
   "outputs": [
    {
     "name": "stdout",
     "output_type": "stream",
     "text": [
      "('Total: ', 4335, ' Low temp: ', 33.100000000000001, ' High temp: ', 44.100000000000001)\n",
      "('Total: ', 23318, ' Low temp: ', 63.0, ' High temp: ', 71.099999999999994)\n"
     ]
    }
   ],
   "source": [
    "pos_min = train.Total.idxmin(axis=0, skipna=True)\n",
    "total_min = train[\"Total\"][pos_min]\n",
    "high_temp = train[\"High Temp (°F)\"][pos_min]\n",
    "low_temp = train[\"Low Temp (°F)\"][pos_min]\n",
    "print(\"Total: \",total_min,\" Low temp: \",low_temp,\" High temp: \",high_temp)\n",
    "pos_max = train.Total.idxmax(axis=0, skipna=True)\n",
    "total_max = train[\"Total\"][pos_max]\n",
    "high_temp = train[\"High Temp (°F)\"][pos_max]\n",
    "low_temp = train[\"Low Temp (°F)\"][pos_max]\n",
    "print(\"Total: \",total_max,\" Low temp: \",low_temp,\" High temp: \",high_temp)"
   ]
  },
  {
   "cell_type": "code",
   "execution_count": 18,
   "metadata": {},
   "outputs": [
    {
     "data": {
      "text/plain": [
       "0    72.05\n",
       "1    51.95\n",
       "2    36.95\n",
       "3    38.60\n",
       "4    34.10\n",
       "Name: Avg Temp (°F), dtype: float64"
      ]
     },
     "execution_count": 18,
     "metadata": {},
     "output_type": "execute_result"
    }
   ],
   "source": [
    "train['Avg Temp (°F)'] = train.apply(lambda row: (row[\"High Temp (°F)\"] + row[\"Low Temp (°F)\"])/2, axis=1)\n",
    "train[\"Avg Temp (°F)\"].head()"
   ]
  },
  {
   "cell_type": "code",
   "execution_count": 20,
   "metadata": {},
   "outputs": [
    {
     "data": {
      "image/png": "[encoded data removed]",
      "text/plain": [
       "<matplotlib.figure.Figure at 0x112b18810>"
      ]
     },
     "metadata": {},
     "output_type": "display_data"
    }
   ],
   "source": [
    "# Plot predictions\n",
    "plt.scatter(train[\"Avg Temp (°F)\"], train[\"Total\"], c = \"blue\", marker = \"s\")\n",
    "plt.xlabel(\"Avg Temp\")\n",
    "plt.ylabel(\"Total\")\n",
    "plt.show()"
   ]
  },
  {
   "cell_type": "code",
   "execution_count": 32,
   "metadata": {},
   "outputs": [
    {
     "data": {
      "image/png": "[encoded data removed]",
      "text/plain": [
       "<matplotlib.figure.Figure at 0x115ee5ad0>"
      ]
     },
     "metadata": {},
     "output_type": "display_data"
    }
   ],
   "source": [
    "x = train.apply(lambda row: (int(row[\"Avg Temp (°F)\"])), axis=1)\n",
    "#x = train[\"Avg Temp (°F)\"]\n",
    "y = train[\"Total\"]\n",
    "fig, ax = plt.subplots()\n",
    "fit = np.polyfit(x, y, deg=1)\n",
    "ax.plot(x, fit[0] * x + fit[1], color='red')\n",
    "ax.scatter(x, y)\n",
    "fig.show()"
   ]
  }
 ],
 "metadata": {
  "kernelspec": {
   "display_name": "Python 2",
   "language": "python",
   "name": "python2"
  },
  "language_info": {
   "codemirror_mode": {
    "name": "ipython",
    "version": 2
   },
   "file_extension": ".py",
   "mimetype": "text/x-python",
   "name": "python",
   "nbconvert_exporter": "python",
   "pygments_lexer": "ipython2",
   "version": "2.7.13"
  }
 },
 "nbformat": 4,
 "nbformat_minor": 2
}
